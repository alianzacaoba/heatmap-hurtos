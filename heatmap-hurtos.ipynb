{
 "cells": [
  {
   "cell_type": "code",
   "execution_count": 1,
   "metadata": {},
   "outputs": [],
   "source": [
    "import pandas as pd\n",
    "import numpy as np\n",
    "import unidecode\n",
    "import re\n",
    "from shapely.geometry import Point, Polygon\n",
    "import folium\n",
    "from folium.plugins import HeatMap"
   ]
  },
  {
   "cell_type": "code",
   "execution_count": 2,
   "metadata": {},
   "outputs": [],
   "source": [
    "import geopandas as gpd"
   ]
  },
  {
   "cell_type": "markdown",
   "metadata": {},
   "source": []
  },
  {
   "cell_type": "code",
   "execution_count": 3,
   "metadata": {},
   "outputs": [
    {
     "name": "stdout",
     "output_type": "stream",
     "text": [
      "<class 'geopandas.geodataframe.GeoDataFrame'>\n"
     ]
    },
    {
     "data": {
      "text/html": [
       "<div>\n",
       "<style scoped>\n",
       "    .dataframe tbody tr th:only-of-type {\n",
       "        vertical-align: middle;\n",
       "    }\n",
       "\n",
       "    .dataframe tbody tr th {\n",
       "        vertical-align: top;\n",
       "    }\n",
       "\n",
       "    .dataframe thead th {\n",
       "        text-align: right;\n",
       "    }\n",
       "</style>\n",
       "<table border=\"1\" class=\"dataframe\">\n",
       "  <thead>\n",
       "    <tr style=\"text-align: right;\">\n",
       "      <th></th>\n",
       "      <th>LOC</th>\n",
       "      <th>geometry</th>\n",
       "    </tr>\n",
       "  </thead>\n",
       "  <tbody>\n",
       "    <tr>\n",
       "      <th>0</th>\n",
       "      <td>ANTONIO NARIÑO</td>\n",
       "      <td>POLYGON ((-74.13075446257029 4.59335334662506,...</td>\n",
       "    </tr>\n",
       "    <tr>\n",
       "      <th>1</th>\n",
       "      <td>LA CANDELARIA</td>\n",
       "      <td>POLYGON ((-74.0662087260469 4.60317174214195, ...</td>\n",
       "    </tr>\n",
       "    <tr>\n",
       "      <th>2</th>\n",
       "      <td>CHAPINERO</td>\n",
       "      <td>POLYGON ((-74.0572470317838 4.68683629566918, ...</td>\n",
       "    </tr>\n",
       "    <tr>\n",
       "      <th>3</th>\n",
       "      <td>CIUDAD BOLIVAR</td>\n",
       "      <td>POLYGON ((-74.15216009957931 4.59975861479746,...</td>\n",
       "    </tr>\n",
       "    <tr>\n",
       "      <th>4</th>\n",
       "      <td>ENGATIVA</td>\n",
       "      <td>POLYGON ((-74.127379945115 4.73730502762603, -...</td>\n",
       "    </tr>\n",
       "  </tbody>\n",
       "</table>\n",
       "</div>"
      ],
      "text/plain": [
       "              LOC                                           geometry\n",
       "0  ANTONIO NARIÑO  POLYGON ((-74.13075446257029 4.59335334662506,...\n",
       "1   LA CANDELARIA  POLYGON ((-74.0662087260469 4.60317174214195, ...\n",
       "2       CHAPINERO  POLYGON ((-74.0572470317838 4.68683629566918, ...\n",
       "3  CIUDAD BOLIVAR  POLYGON ((-74.15216009957931 4.59975861479746,...\n",
       "4        ENGATIVA  POLYGON ((-74.127379945115 4.73730502762603, -..."
      ]
     },
     "execution_count": 3,
     "metadata": {},
     "output_type": "execute_result"
    }
   ],
   "source": [
    "fname = \"./data/loc.geojson\"\n",
    "\n",
    "df = gpd.read_file(fname)\n",
    "\n",
    "print(type(df))\n",
    "\n",
    "df.head()"
   ]
  },
  {
   "cell_type": "code",
   "execution_count": 4,
   "metadata": {},
   "outputs": [
    {
     "data": {
      "text/plain": [
       "'PABLO '"
      ]
     },
     "execution_count": 4,
     "metadata": {},
     "output_type": "execute_result"
    }
   ],
   "source": [
    "re.sub(r'I', '', \"PABLO I\")"
   ]
  },
  {
   "cell_type": "code",
   "execution_count": 5,
   "metadata": {},
   "outputs": [
    {
     "data": {
      "text/plain": [
       "105155"
      ]
     },
     "execution_count": 5,
     "metadata": {},
     "output_type": "execute_result"
    }
   ],
   "source": [
    "df_hurtos = pd.read_csv(\"./data/hurtos_bogota_2018.csv\")\n",
    "len(df_hurtos)"
   ]
  },
  {
   "cell_type": "code",
   "execution_count": 6,
   "metadata": {},
   "outputs": [
    {
     "data": {
      "text/html": [
       "<div>\n",
       "<style scoped>\n",
       "    .dataframe tbody tr th:only-of-type {\n",
       "        vertical-align: middle;\n",
       "    }\n",
       "\n",
       "    .dataframe tbody tr th {\n",
       "        vertical-align: top;\n",
       "    }\n",
       "\n",
       "    .dataframe thead th {\n",
       "        text-align: right;\n",
       "    }\n",
       "</style>\n",
       "<table border=\"1\" class=\"dataframe\">\n",
       "  <thead>\n",
       "    <tr style=\"text-align: right;\">\n",
       "      <th></th>\n",
       "      <th>Fecha</th>\n",
       "      <th>Departamento</th>\n",
       "      <th>Municipio</th>\n",
       "      <th>Día</th>\n",
       "      <th>Hora</th>\n",
       "      <th>Barrio</th>\n",
       "      <th>Zona</th>\n",
       "      <th>Clase de sitio</th>\n",
       "      <th>Arma empleada</th>\n",
       "      <th>Móvil Agresor</th>\n",
       "      <th>Móvil Victima</th>\n",
       "      <th>Edad</th>\n",
       "      <th>Sexo</th>\n",
       "      <th>Estado civil</th>\n",
       "      <th>País de nacimiento</th>\n",
       "      <th>Clase de empleado</th>\n",
       "      <th>Profesión</th>\n",
       "      <th>Escolaridad</th>\n",
       "      <th>Código DANE</th>\n",
       "      <th>Cantidad</th>\n",
       "    </tr>\n",
       "  </thead>\n",
       "  <tbody>\n",
       "    <tr>\n",
       "      <th>0</th>\n",
       "      <td>1/1/18</td>\n",
       "      <td>CUNDINAMARCA</td>\n",
       "      <td>BOGOTÁ D.C. (CT)</td>\n",
       "      <td>Lunes</td>\n",
       "      <td>0:00:00</td>\n",
       "      <td>BOLIVIA E-10</td>\n",
       "      <td>URBANA</td>\n",
       "      <td>VIAS PUBLICAS</td>\n",
       "      <td>ARMA BLANCA / CORTOPUNZANTE</td>\n",
       "      <td>A PIE</td>\n",
       "      <td>A PIE</td>\n",
       "      <td>18</td>\n",
       "      <td>MASCULINO</td>\n",
       "      <td>SOLTERO</td>\n",
       "      <td>COLOMBIA</td>\n",
       "      <td>EMPLEADO PARTICULAR</td>\n",
       "      <td>-</td>\n",
       "      <td>PRIMARIA</td>\n",
       "      <td>11001000.0</td>\n",
       "      <td>1</td>\n",
       "    </tr>\n",
       "    <tr>\n",
       "      <th>1</th>\n",
       "      <td>1/1/18</td>\n",
       "      <td>CUNDINAMARCA</td>\n",
       "      <td>BOGOTÁ D.C. (CT)</td>\n",
       "      <td>Lunes</td>\n",
       "      <td>0:00:00</td>\n",
       "      <td>CIUDAD SALITRE II E-13</td>\n",
       "      <td>URBANA</td>\n",
       "      <td>VIAS PUBLICAS</td>\n",
       "      <td>CONTUNDENTES</td>\n",
       "      <td>A PIE</td>\n",
       "      <td>A PIE</td>\n",
       "      <td>61</td>\n",
       "      <td>FEMENINO</td>\n",
       "      <td>SOLTERO</td>\n",
       "      <td>COLOMBIA</td>\n",
       "      <td>EMPLEADO PARTICULAR</td>\n",
       "      <td>NO REPORTADA</td>\n",
       "      <td>NO REPORTADO</td>\n",
       "      <td>11001000.0</td>\n",
       "      <td>1</td>\n",
       "    </tr>\n",
       "    <tr>\n",
       "      <th>2</th>\n",
       "      <td>1/1/18</td>\n",
       "      <td>CUNDINAMARCA</td>\n",
       "      <td>BOGOTÁ D.C. (CT)</td>\n",
       "      <td>Lunes</td>\n",
       "      <td>0:00:00</td>\n",
       "      <td>ESTACIÓN CENTRAL E-16</td>\n",
       "      <td>URBANA</td>\n",
       "      <td>CASAS DE HABITACION</td>\n",
       "      <td>ARMA BLANCA / CORTOPUNZANTE</td>\n",
       "      <td>A PIE</td>\n",
       "      <td>A PIE</td>\n",
       "      <td>25</td>\n",
       "      <td>MASCULINO</td>\n",
       "      <td>SOLTERO</td>\n",
       "      <td>COLOMBIA</td>\n",
       "      <td>EMPLEADO PARTICULAR</td>\n",
       "      <td>-</td>\n",
       "      <td>SUPERIOR</td>\n",
       "      <td>11001000.0</td>\n",
       "      <td>1</td>\n",
       "    </tr>\n",
       "    <tr>\n",
       "      <th>3</th>\n",
       "      <td>1/1/18</td>\n",
       "      <td>CUNDINAMARCA</td>\n",
       "      <td>BOGOTÁ D.C. (CT)</td>\n",
       "      <td>Lunes</td>\n",
       "      <td>0:00:00</td>\n",
       "      <td>LA CABRERA E-2</td>\n",
       "      <td>URBANA</td>\n",
       "      <td>VIAS PUBLICAS</td>\n",
       "      <td>SIN EMPLEO DE ARMAS</td>\n",
       "      <td>A PIE</td>\n",
       "      <td>A PIE</td>\n",
       "      <td>38</td>\n",
       "      <td>MASCULINO</td>\n",
       "      <td>SOLTERO</td>\n",
       "      <td>COLOMBIA</td>\n",
       "      <td>EMPLEADO PARTICULAR</td>\n",
       "      <td>-</td>\n",
       "      <td>PRIMARIA</td>\n",
       "      <td>11001000.0</td>\n",
       "      <td>1</td>\n",
       "    </tr>\n",
       "    <tr>\n",
       "      <th>4</th>\n",
       "      <td>1/1/18</td>\n",
       "      <td>CUNDINAMARCA</td>\n",
       "      <td>BOGOTÁ D.C. (CT)</td>\n",
       "      <td>Lunes</td>\n",
       "      <td>0:00:00</td>\n",
       "      <td>LA CHUCUA E-8</td>\n",
       "      <td>URBANA</td>\n",
       "      <td>VIAS PUBLICAS</td>\n",
       "      <td>SIN EMPLEO DE ARMAS</td>\n",
       "      <td>A PIE</td>\n",
       "      <td>A PIE</td>\n",
       "      <td>33</td>\n",
       "      <td>MASCULINO</td>\n",
       "      <td>SOLTERO</td>\n",
       "      <td>COLOMBIA</td>\n",
       "      <td>EMPLEADO PARTICULAR</td>\n",
       "      <td>-</td>\n",
       "      <td>SECUNDARIA</td>\n",
       "      <td>11001000.0</td>\n",
       "      <td>1</td>\n",
       "    </tr>\n",
       "  </tbody>\n",
       "</table>\n",
       "</div>"
      ],
      "text/plain": [
       "    Fecha  Departamento         Municipio    Día     Hora  \\\n",
       "0  1/1/18  CUNDINAMARCA  BOGOTÁ D.C. (CT)  Lunes  0:00:00   \n",
       "1  1/1/18  CUNDINAMARCA  BOGOTÁ D.C. (CT)  Lunes  0:00:00   \n",
       "2  1/1/18  CUNDINAMARCA  BOGOTÁ D.C. (CT)  Lunes  0:00:00   \n",
       "3  1/1/18  CUNDINAMARCA  BOGOTÁ D.C. (CT)  Lunes  0:00:00   \n",
       "4  1/1/18  CUNDINAMARCA  BOGOTÁ D.C. (CT)  Lunes  0:00:00   \n",
       "\n",
       "                   Barrio    Zona       Clase de sitio  \\\n",
       "0            BOLIVIA E-10  URBANA        VIAS PUBLICAS   \n",
       "1  CIUDAD SALITRE II E-13  URBANA        VIAS PUBLICAS   \n",
       "2   ESTACIÓN CENTRAL E-16  URBANA  CASAS DE HABITACION   \n",
       "3          LA CABRERA E-2  URBANA        VIAS PUBLICAS   \n",
       "4           LA CHUCUA E-8  URBANA        VIAS PUBLICAS   \n",
       "\n",
       "                 Arma empleada Móvil Agresor Móvil Victima Edad       Sexo  \\\n",
       "0  ARMA BLANCA / CORTOPUNZANTE         A PIE         A PIE   18  MASCULINO   \n",
       "1                 CONTUNDENTES         A PIE         A PIE   61   FEMENINO   \n",
       "2  ARMA BLANCA / CORTOPUNZANTE         A PIE         A PIE   25  MASCULINO   \n",
       "3          SIN EMPLEO DE ARMAS         A PIE         A PIE   38  MASCULINO   \n",
       "4          SIN EMPLEO DE ARMAS         A PIE         A PIE   33  MASCULINO   \n",
       "\n",
       "  Estado civil País de nacimiento    Clase de empleado     Profesión  \\\n",
       "0      SOLTERO           COLOMBIA  EMPLEADO PARTICULAR             -   \n",
       "1      SOLTERO           COLOMBIA  EMPLEADO PARTICULAR  NO REPORTADA   \n",
       "2      SOLTERO           COLOMBIA  EMPLEADO PARTICULAR             -   \n",
       "3      SOLTERO           COLOMBIA  EMPLEADO PARTICULAR             -   \n",
       "4      SOLTERO           COLOMBIA  EMPLEADO PARTICULAR             -   \n",
       "\n",
       "    Escolaridad  Código DANE  Cantidad  \n",
       "0      PRIMARIA   11001000.0         1  \n",
       "1  NO REPORTADO   11001000.0         1  \n",
       "2      SUPERIOR   11001000.0         1  \n",
       "3      PRIMARIA   11001000.0         1  \n",
       "4    SECUNDARIA   11001000.0         1  "
      ]
     },
     "execution_count": 6,
     "metadata": {},
     "output_type": "execute_result"
    }
   ],
   "source": [
    "df_hurtos.head()"
   ]
  },
  {
   "cell_type": "code",
   "execution_count": 7,
   "metadata": {},
   "outputs": [],
   "source": [
    "df_barrios = pd.read_csv(\"./data/barrios_bogota.csv\")"
   ]
  },
  {
   "cell_type": "code",
   "execution_count": 8,
   "metadata": {},
   "outputs": [
    {
     "data": {
      "text/html": [
       "<div>\n",
       "<style scoped>\n",
       "    .dataframe tbody tr th:only-of-type {\n",
       "        vertical-align: middle;\n",
       "    }\n",
       "\n",
       "    .dataframe tbody tr th {\n",
       "        vertical-align: top;\n",
       "    }\n",
       "\n",
       "    .dataframe thead th {\n",
       "        text-align: right;\n",
       "    }\n",
       "</style>\n",
       "<table border=\"1\" class=\"dataframe\">\n",
       "  <thead>\n",
       "    <tr style=\"text-align: right;\">\n",
       "      <th></th>\n",
       "      <th>OBJECTID</th>\n",
       "      <th>Identificador unico del sector catastral</th>\n",
       "      <th>Tipo de sector catastral</th>\n",
       "      <th>Nombre del sector catastral</th>\n",
       "      <th>coord_x</th>\n",
       "      <th>coord_y</th>\n",
       "    </tr>\n",
       "  </thead>\n",
       "  <tbody>\n",
       "    <tr>\n",
       "      <th>0</th>\n",
       "      <td>1281</td>\n",
       "      <td>205109</td>\n",
       "      <td>2</td>\n",
       "      <td>LA MAGDALENA I</td>\n",
       "      <td>-74,15971638349998</td>\n",
       "      <td>4,6538848121528105</td>\n",
       "    </tr>\n",
       "    <tr>\n",
       "      <th>1</th>\n",
       "      <td>1282</td>\n",
       "      <td>205227</td>\n",
       "      <td>2</td>\n",
       "      <td>OSORIO IX</td>\n",
       "      <td>-74,171430826</td>\n",
       "      <td>4,655330582652857</td>\n",
       "    </tr>\n",
       "    <tr>\n",
       "      <th>2</th>\n",
       "      <td>1284</td>\n",
       "      <td>105203</td>\n",
       "      <td>1</td>\n",
       "      <td>OSORIO II</td>\n",
       "      <td>-74,166000932</td>\n",
       "      <td>4,654956388652853</td>\n",
       "    </tr>\n",
       "    <tr>\n",
       "      <th>3</th>\n",
       "      <td>1285</td>\n",
       "      <td>201109</td>\n",
       "      <td>2</td>\n",
       "      <td>INGEMAR I</td>\n",
       "      <td>-74,05440703649998</td>\n",
       "      <td>4,639504332652364</td>\n",
       "    </tr>\n",
       "    <tr>\n",
       "      <th>4</th>\n",
       "      <td>1286</td>\n",
       "      <td>201110</td>\n",
       "      <td>2</td>\n",
       "      <td>INGEMAR ORIENTAL I</td>\n",
       "      <td>-74,0505909105</td>\n",
       "      <td>4,644192807152489</td>\n",
       "    </tr>\n",
       "  </tbody>\n",
       "</table>\n",
       "</div>"
      ],
      "text/plain": [
       "   OBJECTID  Identificador unico del sector catastral  \\\n",
       "0      1281                                    205109   \n",
       "1      1282                                    205227   \n",
       "2      1284                                    105203   \n",
       "3      1285                                    201109   \n",
       "4      1286                                    201110   \n",
       "\n",
       "   Tipo de sector catastral Nombre del sector catastral             coord_x  \\\n",
       "0                         2              LA MAGDALENA I  -74,15971638349998   \n",
       "1                         2                   OSORIO IX       -74,171430826   \n",
       "2                         1                   OSORIO II       -74,166000932   \n",
       "3                         2                   INGEMAR I  -74,05440703649998   \n",
       "4                         2          INGEMAR ORIENTAL I      -74,0505909105   \n",
       "\n",
       "              coord_y  \n",
       "0  4,6538848121528105  \n",
       "1   4,655330582652857  \n",
       "2   4,654956388652853  \n",
       "3   4,639504332652364  \n",
       "4   4,644192807152489  "
      ]
     },
     "execution_count": 8,
     "metadata": {},
     "output_type": "execute_result"
    }
   ],
   "source": [
    "df_barrios.head()"
   ]
  },
  {
   "cell_type": "markdown",
   "metadata": {},
   "source": [
    "## Limpiar columna \"barrio\""
   ]
  },
  {
   "cell_type": "code",
   "execution_count": 9,
   "metadata": {},
   "outputs": [],
   "source": [
    "UMBRAL = 100"
   ]
  },
  {
   "cell_type": "code",
   "execution_count": 10,
   "metadata": {},
   "outputs": [],
   "source": [
    "def arreglar_I(x):\n",
    "    if \" I\" in x[-2:]:\n",
    "        return x[:-2]\n",
    "    if \" II\" in x[-3:]:\n",
    "        return x[:-3]\n",
    "    if \" III\" in x[-4:]:\n",
    "        return x[:-4]\n",
    "    else:\n",
    "        return x"
   ]
  },
  {
   "cell_type": "code",
   "execution_count": 11,
   "metadata": {},
   "outputs": [],
   "source": [
    "def arreglar_loc_hurtos(x):\n",
    "    try:\n",
    "        return x.split(\" E-\")[1]\n",
    "    except:\n",
    "        print(x)"
   ]
  },
  {
   "cell_type": "code",
   "execution_count": 12,
   "metadata": {},
   "outputs": [
    {
     "name": "stdout",
     "output_type": "stream",
     "text": [
      "AEROPUERTO EL DORADO\n",
      "AEROPUERTO EL DORADO\n",
      "AEROPUERTO EL DORADO\n",
      "AEROPUERTO PUENTE AEREO\n",
      "AEROPUERTO EL DORADO\n",
      "AEROPUERTO EL DORADO\n",
      "AEROPUERTO PUENTE AEREO\n",
      "CENTRO\n",
      "AEROPUERTO EL DORADO\n",
      "AEROPUERTO EL DORADO\n",
      "AEROPUERTO EL DORADO\n",
      "AEROPUERTO EL DORADO\n",
      "TERMINAL SATELITE DEL SUR\n",
      "AEROPUERTO PUENTE AEREO\n",
      "AEROPUERTO PUENTE AEREO\n",
      "TERMINAL MODULO AMARILLO\n",
      "AEROPUERTO EL DORADO\n",
      "AEROPUERTO EL DORADO\n",
      "AEROPUERTO EL DORADO\n",
      "AEROPUERTO EL DORADO\n",
      "AEROPUERTO EL DORADO\n",
      "AEROPUERTO EL DORADO\n",
      "AEROPUERTO EL DORADO\n",
      "AEROPUERTO EL DORADO\n",
      "AEROPUERTO EL DORADO\n",
      "AEROPUERTO EL DORADO\n",
      "AEROPUERTO EL DORADO\n",
      "AEROPUERTO EL DORADO\n",
      "AEROPUERTO EL DORADO\n",
      "TERMINAL\n",
      "AEROPUERTO EL DORADO\n",
      "AEROPUERTO EL DORADO\n",
      "AEROPUERTO EL DORADO\n",
      "TERMINAL\n",
      "AEROPUERTO EL DORADO\n",
      "AEROPUERTO EL DORADO\n",
      "PARCELACION TERMALES\n",
      "TERMINAL\n",
      "AEROPUERTO EL DORADO\n",
      "AEROPUERTO EL DORADO\n",
      "-\n",
      "AEROPUERTO PARQUEADEROS\n",
      "AEROPUERTO EL DORADO\n",
      "TERMINAL MODULO AZUL\n",
      "AEROPUERTO EL DORADO\n",
      "AEROPUERTO EL DORADO\n",
      "AEROPUERTO EL DORADO\n",
      "AEROPUERTO EL DORADO\n",
      "AEROPUERTO EL DORADO\n",
      "AEROPUERTO EL DORADO\n",
      "AEROPUERTO EL DORADO\n",
      "AEROPUERTO EL DORADO\n",
      "AEROPUERTO EL DORADO\n",
      "AEROPUERTO EL DORADO\n",
      "TERMINAL SATELITE DEL SUR\n",
      "AEROPUERTO EL DORADO\n",
      "AEROPUERTO MUELLE INTERNACIONAL\n",
      "AEROPUERTO EL DORADO\n",
      "AEROPUERTO EL DORADO\n",
      "AEROPUERTO EL DORADO\n",
      "AEROPUERTO EL DORADO\n",
      "TERMINAL\n",
      "TERMINAL\n",
      "AEROPUERTO EL DORADO\n",
      "TERMINAL\n",
      "AEROPUERTO EL DORADO\n",
      "AEROPUERTO EL DORADO\n",
      "AEROPUERTO EL DORADO\n",
      "AEROPUERTO EL DORADO\n",
      "AEROPUERTO EL DORADO\n",
      "AEROPUERTO EL DORADO\n",
      "AEROPUERTO EL DORADO\n",
      "AEROPUERTO EL DORADO\n",
      "AEROPUERTO EL DORADO\n",
      "AEROPUERTO EL DORADO\n",
      "TERMINAL MODULO AZUL\n",
      "TERMINAL\n",
      "AEROPUERTO EL DORADO\n",
      "TERMINAL\n",
      "TERMINAL MODULO AMARILLO\n",
      "TERMINAL\n",
      "AEROPUERTO EL DORADO\n",
      "AEROPUERTO EL DORADO\n",
      "AEROPUERTO EL DORADO\n",
      "AEROPUERTO PUENTE AEREO\n",
      "AEROPUERTO EL DORADO\n",
      "AEROPUERTO EL DORADO\n",
      "AEROPUERTO EL DORADO\n",
      "AEROPUERTO BODEGAS\n",
      "AEROPUERTO EL DORADO\n",
      "AEROPUERTO EL DORADO\n",
      "AEROPUERTO EL DORADO\n",
      "AEROPUERTO EL DORADO\n",
      "-\n",
      "AEROPUERTO EL DORADO\n",
      "AEROPUERTO EL DORADO\n",
      "AEROPUERTO EL DORADO\n",
      "AEROPUERTO EL DORADO\n",
      "AEROPUERTO EL DORADO\n",
      "AEROPUERTO EL DORADO\n",
      "AEROPUERTO EL DORADO\n",
      "TERMINAL\n",
      "AEROPUERTO EL DORADO\n",
      "AEROPUERTO EL DORADO\n",
      "AEROPUERTO EL DORADO\n",
      "TERMINAL MODULO AZUL\n",
      "AEROPUERTO EL DORADO\n",
      "TERMINAL SATELITE DEL SUR\n",
      "AEROPUERTO EL DORADO\n",
      "AEROPUERTO EL DORADO\n",
      "AEROPUERTO EL DORADO\n",
      "AEROPUERTO EL DORADO\n",
      "AEROPUERTO EL DORADO\n",
      "TERMINAL MODULO AMARILLO\n",
      "TERMINAL MODULO AMARILLO\n",
      "AEROPUERTO EL DORADO\n",
      "AEROPUERTO EL DORADO\n",
      "AEROPUERTO EL DORADO\n",
      "TERMINAL\n",
      "AEROPUERTO EL DORADO\n",
      "AEROPUERTO EL DORADO\n",
      "TERMINAL\n",
      "AEROPUERTO EL DORADO\n",
      "AEROPUERTO EL DORADO\n",
      "AEROPUERTO EL DORADO\n",
      "AEROPUERTO EL DORADO\n",
      "AEROPUERTO EL DORADO\n",
      "TERMINAL\n",
      "AEROPUERTO EL DORADO\n",
      "AEROPUERTO EL DORADO\n",
      "LOS PUENTES\n",
      "AEROPUERTO EL DORADO\n",
      "AEROPUERTO BODEGAS\n",
      "AEROPUERTO EL DORADO\n",
      "AEROPUERTO EL DORADO\n",
      "SANTA CRUZ\n",
      "AEROPUERTO EL DORADO\n",
      "AEROPUERTO PARQUEADEROS\n",
      "TERMINAL MODULO AMARILLO\n",
      "AEROPUERTO EL DORADO\n",
      "AEROPUERTO EL DORADO\n",
      "AEROPUERTO EL DORADO\n",
      "AEROPUERTO EL DORADO\n",
      "AEROPUERTO EL DORADO\n",
      "TERMINAL\n",
      "AEROPUERTO EL DORADO\n",
      "AEROPUERTO EL DORADO\n",
      "AEROPUERTO EL DORADO\n",
      "AEROPUERTO EL DORADO\n",
      "AEROPUERTO EL DORADO\n",
      "AEROPUERTO EL DORADO\n",
      "AEROPUERTO EL DORADO\n",
      "AEROPUERTO EL DORADO\n",
      "TERMINAL\n",
      "TERMINAL MODULO AMARILLO\n",
      "AEROPUERTO EL DORADO\n",
      "MORAVIA  C-4\n",
      "AEROPUERTO EL DORADO\n",
      "AEROPUERTO EL DORADO\n",
      "AEROPUERTO EL DORADO\n",
      "AEROPUERTO MUELLE INTERNACIONAL\n",
      "AEROPUERTO EL DORADO\n",
      "AEROPUERTO EL DORADO\n",
      "AEROPUERTO EL DORADO\n",
      "TERMINAL MODULO AZUL\n",
      "AEROPUERTO EL DORADO\n",
      "AEROPUERTO EL DORADO\n",
      "TERMINAL MODULO AZUL\n",
      "TERMINAL\n",
      "AEROPUERTO EL DORADO\n",
      "AEROPUERTO EL DORADO\n",
      "TERMINAL MODULO AZUL\n",
      "AEROPUERTO EL DORADO\n",
      "VILLA NIZA  C-2\n",
      "AEROPUERTO MUELLE NACIONAL\n",
      "AEROPUERTO EL DORADO\n",
      "AEROPUERTO EL DORADO\n",
      "AEROPUERTO EL DORADO\n",
      "AEROPUERTO EL DORADO\n",
      "AEROPUERTO EL DORADO\n",
      "TERMINAL MODULO AZUL\n",
      "TERMINAL\n",
      "AEROPUERTO EL DORADO\n",
      "AEROPUERTO EL DORADO\n",
      "AEROPUERTO EL DORADO\n",
      "AEROPUERTO EL DORADO\n",
      "AEROPUERTO EL DORADO\n",
      "-\n",
      "TERMINAL\n",
      "TERMINAL MODULO ROJO\n",
      "AEROPUERTO EL DORADO\n",
      "AEROPUERTO EL DORADO\n",
      "TERMINAL\n",
      "AEROPUERTO MUELLE INTERNACIONAL\n",
      "AEROPUERTO EL DORADO\n",
      "AEROPUERTO EL DORADO\n",
      "AEROPUERTO MUELLE INTERNACIONAL\n",
      "AEROPUERTO EL DORADO\n",
      "AEROPUERTO EL DORADO\n",
      "AEROPUERTO EL DORADO\n",
      "AEROPUERTO EL DORADO\n",
      "AEROPUERTO EL DORADO\n",
      "AEROPUERTO EL DORADO\n",
      "TERMINAL MODULO AZUL\n",
      "AEROPUERTO MUELLE INTERNACIONAL\n",
      "AEROPUERTO EL DORADO\n",
      "TERMINAL\n",
      "AEROPUERTO EL DORADO\n",
      "AEROPUERTO EL DORADO\n",
      "TERMINAL\n",
      "AEROPUERTO EL DORADO\n",
      "AEROPUERTO EL DORADO\n",
      "AEROPUERTO EL DORADO\n",
      "AEROPUERTO EL DORADO\n",
      "AEROPUERTO EL DORADO\n",
      "AEROPUERTO EL DORADO\n",
      "AEROPUERTO EL DORADO\n",
      "AEROPUERTO EL DORADO\n",
      "AEROPUERTO EL DORADO\n",
      "CUARTA BRIGADA C-11\n",
      "AEROPUERTO EL DORADO\n",
      "AEROPUERTO EL DORADO\n",
      "TERMINAL\n",
      "MORAVIA  C-4\n",
      "AEROPUERTO EL DORADO\n",
      "AEROPUERTO EL DORADO\n",
      "AEROPUERTO EL DORADO\n",
      "AEROPUERTO EL DORADO\n",
      "AEROPUERTO EL DORADO\n",
      "AEROPUERTO EL DORADO\n",
      "AEROPUERTO EL DORADO\n",
      "AEROPUERTO EL DORADO\n",
      "TERMINAL\n",
      "TERMINAL MODULO AMARILLO\n",
      "TERMINAL MODULO AZUL\n",
      "AEROPUERTO EL DORADO\n",
      "TERMINAL\n",
      "AEROPUERTO EL DORADO\n",
      "AEROPUERTO EL DORADO\n",
      "AEROPUERTO EL DORADO\n",
      "AEROPUERTO EL DORADO\n",
      "AEROPUERTO MUELLE INTERNACIONAL\n",
      "AEROPUERTO EL DORADO\n",
      "PRADO NORTE\n",
      "AEROPUERTO EL DORADO\n",
      "TERMINAL\n",
      "AEROPUERTO EL DORADO\n",
      "AEROPUERTO EL DORADO\n",
      "TERMINAL MODULO AZUL\n",
      "AEROPUERTO EL DORADO\n",
      "AEROPUERTO EL DORADO\n",
      "TERMINAL\n",
      "AEROPUERTO EL DORADO\n",
      "AEROPUERTO PUENTE AEREO\n",
      "AEROPUERTO EL DORADO\n",
      "AEROPUERTO BODEGAS\n",
      "TERMINAL\n",
      "AEROPUERTO EL DORADO\n",
      "AEROPUERTO EL DORADO\n",
      "TERMINAL\n",
      "AEROPUERTO EL DORADO\n",
      "TERMINAL\n",
      "AEROPUERTO EL DORADO\n",
      "AEROPUERTO EL DORADO\n",
      "AEROPUERTO EL DORADO\n",
      "TERMINAL SATELITE DEL SUR\n",
      "AEROPUERTO EL DORADO\n",
      "AEROPUERTO EL DORADO\n",
      "AEROPUERTO EL DORADO\n",
      "MORAVIA  C-4\n",
      "AEROPUERTO PUENTE AEREO\n",
      "AEROPUERTO EL DORADO\n",
      "AEROPUERTO EL DORADO\n",
      "AEROPUERTO EL DORADO\n",
      "TERMINAL MODULO AZUL\n",
      "AEROPUERTO EL DORADO\n",
      "AEROPUERTO EL DORADO\n",
      "AEROPUERTO EL DORADO\n",
      "AEROPUERTO EL DORADO\n",
      "AEROPUERTO EL DORADO\n",
      "SANTA ISABEL\n",
      "AEROPUERTO EL DORADO\n",
      "AEROPUERTO EL DORADO\n",
      "AEROPUERTO EL DORADO\n",
      "MORAVIA  C-4\n",
      "AEROPUERTO EL DORADO\n",
      "JUAN PABLO I\n",
      "AEROPUERTO EL DORADO\n",
      "TERMINAL SATELITE DEL SUR\n",
      "AEROPUERTO EL DORADO\n",
      "TERMINAL\n",
      "AEROPUERTO EL DORADO\n",
      "TERMINAL\n",
      "TERMINAL\n",
      "LAS TROJAS\n",
      "AEROPUERTO EL DORADO\n",
      "AEROPUERTO EL DORADO\n",
      "AEROPUERTO EL DORADO\n",
      "TERMINAL\n",
      "AEROPUERTO EL DORADO\n",
      "TERMINAL\n",
      "TERMINAL\n",
      "AEROPUERTO EL DORADO\n",
      "MORAVIA  C-4\n",
      "AEROPUERTO EL DORADO\n",
      "TERMINAL\n",
      "TERMINAL\n",
      "TERMINAL\n",
      "SANTA CATALINA\n",
      "TERMINAL SATELITE DEL SUR\n",
      "AEROPUERTO EL DORADO\n",
      "AEROPUERTO EL DORADO\n",
      "TERMINAL\n",
      "AEROPUERTO EL DORADO\n",
      "AEROPUERTO EL DORADO\n",
      "AEROPUERTO EL DORADO\n",
      "AEROPUERTO EL DORADO\n",
      "AEROPUERTO EL DORADO\n",
      "TERMINAL\n",
      "AEROPUERTO EL DORADO\n",
      "AEROPUERTO EL DORADO\n",
      "AEROPUERTO EL DORADO\n",
      "AEROPUERTO EL DORADO\n",
      "TERMINAL MODULO AZUL\n",
      "TERMINAL\n",
      "TERMINAL\n",
      "TERMINAL\n",
      "AEROPUERTO EL DORADO\n",
      "AEROPUERTO EL DORADO\n",
      "AEROPUERTO EL DORADO\n",
      "TERMINAL MODULO AZUL\n",
      "AEROPUERTO EL DORADO\n",
      "AEROPUERTO EL DORADO\n",
      "AEROPUERTO EL DORADO\n",
      "AEROPUERTO EL DORADO\n",
      "AEROPUERTO EL DORADO\n",
      "AEROPUERTO EL DORADO\n",
      "AEROPUERTO EL DORADO\n",
      "TERMINAL MODULO AZUL\n",
      "AEROPUERTO ANGARES PRIVADOS\n",
      "AEROPUERTO EL DORADO\n",
      "TERMINAL SATELITE DEL SUR\n",
      "AEROPUERTO EL DORADO\n",
      "AEROPUERTO EL DORADO\n",
      "AEROPUERTO EL DORADO\n",
      "AEROPUERTO EL DORADO\n",
      "AEROPUERTO EL DORADO\n",
      "AEROPUERTO EL DORADO\n",
      "AEROPUERTO EL DORADO\n",
      "AEROPUERTO EL DORADO\n",
      "AEROPUERTO EL DORADO\n",
      "TERMINAL SATELITE DEL SUR\n",
      "AEROPUERTO EL DORADO\n",
      "AEROPUERTO EL DORADO\n",
      "AEROPUERTO EL DORADO\n",
      "PARQUE NORTE C-4\n",
      "AEROPUERTO EL DORADO\n",
      "AEROPUERTO EL DORADO\n",
      "AEROPUERTO EL DORADO\n",
      "AEROPUERTO EL DORADO\n",
      "AEROPUERTO ANGARES PRIVADOS\n",
      "AEROPUERTO EL DORADO\n",
      "AEROPUERTO EL DORADO\n",
      "AEROPUERTO EL DORADO\n",
      "AEROPUERTO PUENTE AEREO\n",
      "AEROPUERTO EL DORADO\n",
      "AEROPUERTO EL DORADO\n",
      "AEROPUERTO EL DORADO\n",
      "TERMINAL\n",
      "SHELLMAR C-15\n",
      "AEROPUERTO EL DORADO\n",
      "TERMINAL\n",
      "AEROPUERTO EL DORADO\n",
      "TERMINAL\n",
      "TERMINAL\n",
      "AEROPUERTO EL DORADO\n",
      "AEROPUERTO MUELLE NACIONAL\n",
      "TERMINAL\n",
      "AEROPUERTO EL DORADO\n",
      "AEROPUERTO EL DORADO\n",
      "TERMINAL\n",
      "CORINTO\n",
      "AEROPUERTO EL DORADO\n",
      "MONSERRATE\n",
      "AEROPUERTO MUELLE INTERNACIONAL\n",
      "TERMINAL\n",
      "AEROPUERTO EL DORADO\n",
      "AEROPUERTO EL DORADO\n",
      "MORAVIA  C-4\n",
      "AEROPUERTO EL DORADO\n",
      "AEROPUERTO EL DORADO\n",
      "TERMINAL\n",
      "AEROPUERTO EL DORADO\n",
      "AEROPUERTO EL DORADO\n",
      "AEROPUERTO EL DORADO\n",
      "TERMINAL\n",
      "AEROPUERTO EL DORADO\n",
      "TERMINAL\n",
      "TERMINAL\n",
      "AEROPUERTO MUELLE NACIONAL\n",
      "AEROPUERTO EL DORADO\n",
      "AEROPUERTO EL DORADO\n",
      "AEROPUERTO EL DORADO\n",
      "AEROPUERTO PUENTE AEREO\n",
      "AEROPUERTO EL DORADO\n",
      "AEROPUERTO EL DORADO\n",
      "TERMINAL\n",
      "AEROPUERTO EL DORADO\n",
      "VDA. PANTANILLO STA. E.\n",
      "AEROPUERTO EL DORADO\n",
      "U.R. SANTIAGO DE CALI E19\n",
      "AEROPUERTO EL DORADO\n",
      "AEROPUERTO PUENTE AEREO\n",
      "AEROPUERTO EL DORADO\n",
      "AEROPUERTO EL DORADO\n",
      "AEROPUERTO EL DORADO\n",
      "AEROPUERTO EL DORADO\n",
      "TERMINAL\n",
      "AEROPUERTO EL DORADO\n",
      "QUINTANARES\n",
      "AEROPUERTO EL DORADO\n",
      "AEROPUERTO EL DORADO\n",
      "AEROPUERTO EL DORADO\n",
      "TERMINAL\n",
      "CENTRO\n",
      "TERMINAL\n",
      "AEROPUERTO EL DORADO\n",
      "EL BOSQUE SAN MATEO\n",
      "AEROPUERTO EL DORADO\n",
      "AEROPUERTO EL DORADO\n",
      "AEROPUERTO EL DORADO\n",
      "AEROPUERTO EL DORADO\n",
      "AEROPUERTO EL DORADO\n",
      "AEROPUERTO EL DORADO\n",
      "PARCELAS\n",
      "VDA. PAJARITO S.C.\n",
      "AEROPUERTO MUELLE INTERNACIONAL\n",
      "AEROPUERTO EL DORADO\n",
      "AEROPUERTO EL DORADO\n",
      "AEROPUERTO EL DORADO\n",
      "AEROPUERTO EL DORADO\n",
      "CIUDAD VERDE\n",
      "AEROPUERTO EL DORADO\n",
      "AEROPUERTO EL DORADO\n",
      "AEROPUERTO EL DORADO\n",
      "TERMINAL\n",
      "AEROPUERTO EL DORADO\n",
      "AEROPUERTO EL DORADO\n",
      "TERMINAL\n",
      "AEROPUERTO EL DORADO\n",
      "AEROPUERTO EL DORADO\n",
      "AEROPUERTO EL DORADO\n",
      "MORAVIA  C-4\n",
      "AEROPUERTO EL DORADO\n",
      "ANDALUCIA\n",
      "TERMINAL\n",
      "AEROPUERTO EL DORADO\n",
      "AEROPUERTO MUELLE INTERNACIONAL\n",
      "TERMINAL MODULO ROJO\n",
      "AEROPUERTO EL DORADO\n",
      "AEROPUERTO EL DORADO\n",
      "AEROPUERTO EL DORADO\n",
      "AEROPUERTO EL DORADO\n",
      "TERMINAL MODULO AZUL\n",
      "AEROPUERTO EL DORADO\n",
      "AEROPUERTO EL DORADO\n",
      "AEROPUERTO EL DORADO\n",
      "AEROPUERTO EL DORADO\n",
      "TERMINAL\n",
      "TERMINAL MODULO AZUL\n",
      "AEROPUERTO MUELLE INTERNACIONAL\n",
      "LA CITA\n",
      "AEROPUERTO EL DORADO\n",
      "AEROPUERTO EL DORADO\n",
      "AEROPUERTO EL DORADO\n",
      "TERMINAL MODULO AMARILLO\n",
      "TERMINAL SATELITE DEL SUR\n",
      "AEROPUERTO EL DORADO\n",
      "AEROPUERTO EL DORADO\n",
      "TERMINAL\n",
      "TERMINAL\n",
      "AEROPUERTO EL DORADO\n",
      "TERMINAL\n",
      "AEROPUERTO\n"
     ]
    }
   ],
   "source": [
    "df_hurtos[\"Localidad\"] = df_hurtos[\"Barrio\"].apply(arreglar_loc_hurtos)"
   ]
  },
  {
   "cell_type": "code",
   "execution_count": 13,
   "metadata": {},
   "outputs": [],
   "source": [
    "df_hurtos[\"Barrio\"] = df_hurtos[\"Barrio\"].apply(lambda x:x.split(\" E-\")[0])\n",
    "df_hurtos[\"Barrio\"] = df_hurtos[\"Barrio\"].apply(lambda x:x.replace(\" II \",\" \").replace(\" I \",\" \"))\n",
    "df_hurtos[\"Barrio\"] = df_hurtos[\"Barrio\"].apply(arreglar_I)\n",
    "df_hurtos[\"Barrio\"] = df_hurtos[\"Barrio\"].apply(lambda x:x\n",
    "                                                                                            .replace(\"LOS \",\"\")\n",
    "                                                                                            .replace(\"LAS \",\"\")\n",
    "                                                                                            .replace(\"EL \",\"\")\n",
    "                                                                                            .replace(\"LA \",\"\")\n",
    "                                                                                           )\n",
    "df_hurtos[\"Barrio\"] = df_hurtos[\"Barrio\"].apply(lambda x:x\n",
    "                                                                                            .replace(\" NOR-ORIENTAL\",\"\")\n",
    "                                                                                            .replace(\" SUR-ORIENTAL\",\"\")\n",
    "                                                                                            .replace(\" NOR-OCCIDENTAL\",\"\")\n",
    "                                                                                            .replace(\" SUR-OCCIDENTAL\",\"\")\n",
    "                                                                                            .replace(\" OCCIDENTAL\",\"\")\n",
    "                                                                                            .replace(\" ORIENTAL\",\"\")\n",
    "                                                                                            .replace(\" SUR\",\"\")\n",
    "                                                                                            .replace(\" NORTE\",\"\")\n",
    "                                                                                            .replace(\" CENTRO\",\"\")\n",
    "                                                                                            .replace(\" BAJO\",\"\")\n",
    "                                                                                            .replace(\" ALTO\",\"\")\n",
    "                                                                                            .replace(\" CENTRAL\",\"\")\n",
    "                                                                                            .replace(\" ETAPA\",\"\")\n",
    "                                                                                            .replace(\" SECTOR\",\"\")\n",
    "                                                                                           )"
   ]
  },
  {
   "cell_type": "code",
   "execution_count": 14,
   "metadata": {},
   "outputs": [],
   "source": [
    "df_barrios[\"Nombre del sector catastral\"] = df_barrios[\"Nombre del sector catastral\"].apply(lambda x:unidecode.unidecode(x))\n",
    "df_barrios[\"Nombre del sector catastral\"] = df_barrios[\"Nombre del sector catastral\"].apply(lambda x:x.replace(\" II\",\"\").replace(\" I\",\"\"))\n",
    "\"\"\"df_barrios[\"Nombre del sector catastral\"] = df_barrios[\"Nombre del sector catastral\"].apply(lambda x:x\n",
    "                                                                                            .replace(\" NOR-ORIENTAL\",\"\")\n",
    "                                                                                            .replace(\" SUR-ORIENTAL\",\"\")\n",
    "                                                                                            .replace(\" NOR-OCCIDENTAL\",\"\")\n",
    "                                                                                            .replace(\" SUR-OCCIDENTAL\",\"\")\n",
    "                                                                                            .replace(\" OCCIDENTAL\",\"\")\n",
    "                                                                                            .replace(\" ORIENTAL\",\"\")\n",
    "                                                                                            .replace(\" SUR\",\"\")\n",
    "                                                                                            .replace(\" NORTE\",\"\")\n",
    "                                                                                           )\"\"\"\n",
    "df_barrios[\"Nombre del sector catastral\"] = df_barrios[\"Nombre del sector catastral\"].apply(lambda x:x\n",
    "                                                                                            .replace(\"LOS \",\"\")\n",
    "                                                                                            .replace(\"LAS \",\"\")\n",
    "                                                                                            .replace(\"EL \",\"\")\n",
    "                                                                                            .replace(\"LA \",\"\")\n",
    "                                                                                           )"
   ]
  },
  {
   "cell_type": "code",
   "execution_count": 15,
   "metadata": {},
   "outputs": [
    {
     "data": {
      "text/plain": [
       "2162"
      ]
     },
     "execution_count": 15,
     "metadata": {},
     "output_type": "execute_result"
    }
   ],
   "source": [
    "np.size(df_hurtos[\"Barrio\"].value_counts().loc[df_hurtos[\"Barrio\"].value_counts()>0])"
   ]
  },
  {
   "cell_type": "code",
   "execution_count": 16,
   "metadata": {},
   "outputs": [],
   "source": [
    "barrios_con_umbral = np.size(df_hurtos[\"Barrio\"].value_counts().loc[df_hurtos[\"Barrio\"].value_counts()>UMBRAL])"
   ]
  },
  {
   "cell_type": "code",
   "execution_count": 17,
   "metadata": {},
   "outputs": [
    {
     "data": {
      "text/plain": [
       "0         CHAPINERO\n",
       "1             CHICO\n",
       "2     SANTA BARBARA\n",
       "3    CIUDAD SALITRE\n",
       "4          BELSUIZA\n",
       "dtype: object"
      ]
     },
     "execution_count": 17,
     "metadata": {},
     "output_type": "execute_result"
    }
   ],
   "source": [
    "barrios_hurtos = pd.Series((df_hurtos[\"Barrio\"].value_counts().loc[df_hurtos[\"Barrio\"].value_counts()>UMBRAL]).index)\n",
    "barrios_hurtos.head()"
   ]
  },
  {
   "cell_type": "code",
   "execution_count": 18,
   "metadata": {},
   "outputs": [],
   "source": [
    "def arreglar(x):\n",
    "    resp = \"\"\n",
    "    for barrio in barrios_hurtos:\n",
    "        if barrio in x:\n",
    "            return barrio\n",
    "    return x"
   ]
  },
  {
   "cell_type": "code",
   "execution_count": 19,
   "metadata": {},
   "outputs": [],
   "source": [
    "df_barrios[\"Nombre del sector catastral\"] = df_barrios[\"Nombre del sector catastral\"].apply(arreglar)"
   ]
  },
  {
   "cell_type": "code",
   "execution_count": 20,
   "metadata": {},
   "outputs": [],
   "source": [
    "barrios_catastro = pd.Series(df_barrios[\"Nombre del sector catastral\"].unique())"
   ]
  },
  {
   "cell_type": "code",
   "execution_count": 21,
   "metadata": {},
   "outputs": [],
   "source": [
    "barrios_coincidencia = np.sum(barrios_hurtos.isin(barrios_catastro))"
   ]
  },
  {
   "cell_type": "code",
   "execution_count": 22,
   "metadata": {},
   "outputs": [
    {
     "name": "stdout",
     "output_type": "stream",
     "text": [
      "Barrios: 278\n",
      "Barrios coincidentes: 209\n",
      "% Coincidencia:\n",
      "0.7517985611510791\n"
     ]
    }
   ],
   "source": [
    "print(\"Barrios: %s\" % barrios_con_umbral)\n",
    "print(\"Barrios coincidentes: %s\" % barrios_coincidencia)\n",
    "print(\"% Coincidencia:\")\n",
    "print(barrios_coincidencia/barrios_con_umbral)"
   ]
  },
  {
   "cell_type": "code",
   "execution_count": 23,
   "metadata": {},
   "outputs": [
    {
     "data": {
      "text/plain": [
       "SANTA INES                452\n",
       "CARVAJAL                  375\n",
       "TOBERIN                   358\n",
       "VILDPRADO                 300\n",
       "MAZUREN                   298\n",
       "BARRIOS UNIDOS            286\n",
       "PROVIDENCIA               269\n",
       "CENTRO USAQUEN            267\n",
       "SOCIEGO                   264\n",
       "CENTRO ADMINISTRATIVO     257\n",
       "QUIROGA IHS               238\n",
       "URB. SAN PATRICIO         223\n",
       "SAN BERNARDO              221\n",
       "MARTIRES                  219\n",
       "CANDELARIA NUEVA          218\n",
       "CHICO NAVARRA             214\n",
       "MADELENA Y                213\n",
       "POA                       209\n",
       "SANTA ISABEL              203\n",
       "MIRANDELA                 203\n",
       "TINTALA                   192\n",
       "VILDE GRANADA             191\n",
       "INDUSTRIAL PENSILVANIA    190\n",
       "VERAGUAS                  188\n",
       "GUSTAVO RESTREPO          185\n",
       "SAN IGNACIO               183\n",
       "ALQUERIAS DE FRAGUA       177\n",
       "GAITANA                   170\n",
       "SUBA URBANO               163\n",
       "SANTA MARIA DLAGO         145\n",
       "                         ... \n",
       "GRANJAS DE TECHO          127\n",
       "CABAÑA                    126\n",
       "BOYACA REAL               126\n",
       "AURES                     125\n",
       "TINTALITO                 122\n",
       "CENTRO ANTONIO NARIÑO     122\n",
       "VILMARIA                  121\n",
       "VEREDA TORCA              120\n",
       "CENTRO INTERNACIONAL      120\n",
       "PASADENA ROYAL            118\n",
       "CHICO III                 117\n",
       "CANAIMA                   115\n",
       "BANDERAS                  114\n",
       "ORQUÍDEAS                 113\n",
       "CIUDAD KENNEDY OCC        113\n",
       "FELICIDAD                 111\n",
       "BRITALIA                  111\n",
       "ALCAZAR DE SUBA           111\n",
       "GILMAR                    109\n",
       "FERROCAJA                 109\n",
       "SAN RAFAINDUSTRIAL        108\n",
       "PORTALES DNORTE           107\n",
       "CENTRO NARIÑO             107\n",
       "NUEVA TIBABUYES           106\n",
       "SANTA TERESA              105\n",
       "SAN CARPREDIO SAN JOSE    104\n",
       "AMPARO                    103\n",
       "ALHAMBRA                  103\n",
       "CAMPIÑA                   102\n",
       "CEMENTERIO APOGEO         102\n",
       "Name: Barrio, Length: 69, dtype: int64"
      ]
     },
     "execution_count": 23,
     "metadata": {},
     "output_type": "execute_result"
    }
   ],
   "source": [
    "df_hurtos.loc[df_hurtos[\"Barrio\"].isin(barrios_hurtos.loc[~barrios_hurtos.isin(barrios_catastro)])][\"Barrio\"].value_counts()"
   ]
  },
  {
   "cell_type": "code",
   "execution_count": 24,
   "metadata": {},
   "outputs": [
    {
     "data": {
      "text/plain": [
       "69"
      ]
     },
     "execution_count": 24,
     "metadata": {},
     "output_type": "execute_result"
    }
   ],
   "source": [
    "np.sum(~barrios_hurtos.isin(barrios_catastro))"
   ]
  },
  {
   "cell_type": "code",
   "execution_count": 25,
   "metadata": {},
   "outputs": [],
   "source": [
    "df_barrios[\"coord_x\"] = df_barrios[\"coord_x\"].apply(lambda x:float(x.replace(\",\",\".\")))\n",
    "df_barrios[\"coord_y\"] = df_barrios[\"coord_y\"].apply(lambda x:float(x.replace(\",\",\".\")))"
   ]
  },
  {
   "cell_type": "code",
   "execution_count": 26,
   "metadata": {},
   "outputs": [],
   "source": [
    "dict_localidades = {\n",
    "    'KENNEDY':\"8\",\n",
    "    'CHAPINERO':\"2\",\n",
    "    'SAN CRISTOBAL':\"4\",\n",
    "    'SANTA FE':\"3\",\n",
    "    'USME':\"5\",\n",
    "    'RAFAEL URIBE URIBE':\"18\",\n",
    "    'CIUDAD BOLIVAR':\"19\",\n",
    "    'ENGATIVA':\"10\",\n",
    "    'TEUSAQUILLO':\"13\",\n",
    "    'PUENTE ARANDA':\"16\",\n",
    "    'LOS MARTIRES':\"14\",\n",
    "    'BOSA':\"7\",\n",
    "    'ANTONIO NARIÑO':\"15\",\n",
    "    'USAQUEN':\"1\",\n",
    "    'FONTIBON':\"9\",\n",
    "    'BARRIOS UNIDOS':\"12\",\n",
    "    'TUNJUELITO':\"6\",\n",
    "    'SUBA':\"11\"\n",
    "}"
   ]
  },
  {
   "cell_type": "code",
   "execution_count": 27,
   "metadata": {},
   "outputs": [],
   "source": [
    "def get_localidad(x,y):\n",
    "    try:\n",
    "        resp = \"\"\n",
    "        p = Point(x,y)\n",
    "        for i in df.iterrows():\n",
    "            loc_name = i[1][\"LOC\"]\n",
    "            loc_pol = i[1][\"geometry\"]\n",
    "            if p.within(loc_pol):\n",
    "                resp = loc_name\n",
    "        return dict_localidades[resp]\n",
    "    except:\n",
    "        print(x, y)"
   ]
  },
  {
   "cell_type": "code",
   "execution_count": 28,
   "metadata": {},
   "outputs": [
    {
     "name": "stdout",
     "output_type": "stream",
     "text": [
      "-74.01923528699999 4.661020825153022\n"
     ]
    }
   ],
   "source": [
    "df_barrios[\"Localidad\"] = df_barrios.apply(lambda x:get_localidad(x[\"coord_x\"], x[\"coord_y\"]), axis=1)"
   ]
  },
  {
   "cell_type": "code",
   "execution_count": 29,
   "metadata": {},
   "outputs": [
    {
     "data": {
      "text/plain": [
       "array(['8', '2', '4', '3', '5', '18', '19', '10', '13', '16', '14', '7',\n",
       "       '15', '1', '9', '12', '6', '11', None], dtype=object)"
      ]
     },
     "execution_count": 29,
     "metadata": {},
     "output_type": "execute_result"
    }
   ],
   "source": [
    "df_barrios[\"Localidad\"].unique()"
   ]
  },
  {
   "cell_type": "code",
   "execution_count": 30,
   "metadata": {},
   "outputs": [
    {
     "data": {
      "text/plain": [
       "18"
      ]
     },
     "execution_count": 30,
     "metadata": {},
     "output_type": "execute_result"
    }
   ],
   "source": [
    "len(dict_localidades)"
   ]
  },
  {
   "cell_type": "code",
   "execution_count": 31,
   "metadata": {},
   "outputs": [],
   "source": [
    "df_hurtos[\"llave-barrio\"] = df_hurtos[\"Barrio\"] + \"-\" + df_hurtos[\"Localidad\"]"
   ]
  },
  {
   "cell_type": "code",
   "execution_count": 32,
   "metadata": {},
   "outputs": [
    {
     "data": {
      "text/html": [
       "<div>\n",
       "<style scoped>\n",
       "    .dataframe tbody tr th:only-of-type {\n",
       "        vertical-align: middle;\n",
       "    }\n",
       "\n",
       "    .dataframe tbody tr th {\n",
       "        vertical-align: top;\n",
       "    }\n",
       "\n",
       "    .dataframe thead th {\n",
       "        text-align: right;\n",
       "    }\n",
       "</style>\n",
       "<table border=\"1\" class=\"dataframe\">\n",
       "  <thead>\n",
       "    <tr style=\"text-align: right;\">\n",
       "      <th></th>\n",
       "      <th>Fecha</th>\n",
       "      <th>Departamento</th>\n",
       "      <th>Municipio</th>\n",
       "      <th>Día</th>\n",
       "      <th>Hora</th>\n",
       "      <th>Barrio</th>\n",
       "      <th>Zona</th>\n",
       "      <th>Clase de sitio</th>\n",
       "      <th>Arma empleada</th>\n",
       "      <th>Móvil Agresor</th>\n",
       "      <th>...</th>\n",
       "      <th>Sexo</th>\n",
       "      <th>Estado civil</th>\n",
       "      <th>País de nacimiento</th>\n",
       "      <th>Clase de empleado</th>\n",
       "      <th>Profesión</th>\n",
       "      <th>Escolaridad</th>\n",
       "      <th>Código DANE</th>\n",
       "      <th>Cantidad</th>\n",
       "      <th>Localidad</th>\n",
       "      <th>llave-barrio</th>\n",
       "    </tr>\n",
       "  </thead>\n",
       "  <tbody>\n",
       "    <tr>\n",
       "      <th>0</th>\n",
       "      <td>1/1/18</td>\n",
       "      <td>CUNDINAMARCA</td>\n",
       "      <td>BOGOTÁ D.C. (CT)</td>\n",
       "      <td>Lunes</td>\n",
       "      <td>0:00:00</td>\n",
       "      <td>BOLIVIA</td>\n",
       "      <td>URBANA</td>\n",
       "      <td>VIAS PUBLICAS</td>\n",
       "      <td>ARMA BLANCA / CORTOPUNZANTE</td>\n",
       "      <td>A PIE</td>\n",
       "      <td>...</td>\n",
       "      <td>MASCULINO</td>\n",
       "      <td>SOLTERO</td>\n",
       "      <td>COLOMBIA</td>\n",
       "      <td>EMPLEADO PARTICULAR</td>\n",
       "      <td>-</td>\n",
       "      <td>PRIMARIA</td>\n",
       "      <td>11001000.0</td>\n",
       "      <td>1</td>\n",
       "      <td>10</td>\n",
       "      <td>BOLIVIA-10</td>\n",
       "    </tr>\n",
       "    <tr>\n",
       "      <th>1</th>\n",
       "      <td>1/1/18</td>\n",
       "      <td>CUNDINAMARCA</td>\n",
       "      <td>BOGOTÁ D.C. (CT)</td>\n",
       "      <td>Lunes</td>\n",
       "      <td>0:00:00</td>\n",
       "      <td>CIUDAD SALITRE</td>\n",
       "      <td>URBANA</td>\n",
       "      <td>VIAS PUBLICAS</td>\n",
       "      <td>CONTUNDENTES</td>\n",
       "      <td>A PIE</td>\n",
       "      <td>...</td>\n",
       "      <td>FEMENINO</td>\n",
       "      <td>SOLTERO</td>\n",
       "      <td>COLOMBIA</td>\n",
       "      <td>EMPLEADO PARTICULAR</td>\n",
       "      <td>NO REPORTADA</td>\n",
       "      <td>NO REPORTADO</td>\n",
       "      <td>11001000.0</td>\n",
       "      <td>1</td>\n",
       "      <td>13</td>\n",
       "      <td>CIUDAD SALITRE-13</td>\n",
       "    </tr>\n",
       "  </tbody>\n",
       "</table>\n",
       "<p>2 rows × 22 columns</p>\n",
       "</div>"
      ],
      "text/plain": [
       "    Fecha  Departamento         Municipio    Día     Hora          Barrio  \\\n",
       "0  1/1/18  CUNDINAMARCA  BOGOTÁ D.C. (CT)  Lunes  0:00:00         BOLIVIA   \n",
       "1  1/1/18  CUNDINAMARCA  BOGOTÁ D.C. (CT)  Lunes  0:00:00  CIUDAD SALITRE   \n",
       "\n",
       "     Zona Clase de sitio                Arma empleada Móvil Agresor  \\\n",
       "0  URBANA  VIAS PUBLICAS  ARMA BLANCA / CORTOPUNZANTE         A PIE   \n",
       "1  URBANA  VIAS PUBLICAS                 CONTUNDENTES         A PIE   \n",
       "\n",
       "         ...               Sexo Estado civil País de nacimiento  \\\n",
       "0        ...          MASCULINO      SOLTERO           COLOMBIA   \n",
       "1        ...           FEMENINO      SOLTERO           COLOMBIA   \n",
       "\n",
       "     Clase de empleado     Profesión   Escolaridad Código DANE Cantidad  \\\n",
       "0  EMPLEADO PARTICULAR             -      PRIMARIA  11001000.0        1   \n",
       "1  EMPLEADO PARTICULAR  NO REPORTADA  NO REPORTADO  11001000.0        1   \n",
       "\n",
       "   Localidad       llave-barrio  \n",
       "0         10         BOLIVIA-10  \n",
       "1         13  CIUDAD SALITRE-13  \n",
       "\n",
       "[2 rows x 22 columns]"
      ]
     },
     "execution_count": 32,
     "metadata": {},
     "output_type": "execute_result"
    }
   ],
   "source": [
    "df_hurtos.head(2)"
   ]
  },
  {
   "cell_type": "code",
   "execution_count": 33,
   "metadata": {},
   "outputs": [],
   "source": [
    "df_barrios[\"llave-barrio\"] = df_barrios[\"Nombre del sector catastral\"] + \"-\" + df_barrios[\"Localidad\"]"
   ]
  },
  {
   "cell_type": "code",
   "execution_count": 34,
   "metadata": {},
   "outputs": [],
   "source": [
    "df_barrios = df_barrios.groupby(\"llave-barrio\").mean()[[\"coord_x\", \"coord_y\"]].reset_index()"
   ]
  },
  {
   "cell_type": "code",
   "execution_count": 35,
   "metadata": {},
   "outputs": [],
   "source": [
    "df_count = df_hurtos.groupby(\"llave-barrio\").count()[\"Fecha\"].to_frame().reset_index()"
   ]
  },
  {
   "cell_type": "code",
   "execution_count": 36,
   "metadata": {},
   "outputs": [],
   "source": [
    "df_def = pd.merge(df_count, df_barrios, on=\"llave-barrio\", how=\"inner\")"
   ]
  },
  {
   "cell_type": "code",
   "execution_count": 37,
   "metadata": {},
   "outputs": [
    {
     "data": {
      "text/plain": [
       "105155"
      ]
     },
     "execution_count": 37,
     "metadata": {},
     "output_type": "execute_result"
    }
   ],
   "source": [
    "len(df_hurtos)"
   ]
  },
  {
   "cell_type": "code",
   "execution_count": 38,
   "metadata": {},
   "outputs": [
    {
     "data": {
      "text/plain": [
       "68269"
      ]
     },
     "execution_count": 38,
     "metadata": {},
     "output_type": "execute_result"
    }
   ],
   "source": [
    "df_def[\"Fecha\"].sum()"
   ]
  },
  {
   "cell_type": "code",
   "execution_count": 39,
   "metadata": {},
   "outputs": [],
   "source": [
    "df_def.to_csv(\"./data/base_definitiva.csv\", index=False)"
   ]
  },
  {
   "cell_type": "code",
   "execution_count": 40,
   "metadata": {},
   "outputs": [],
   "source": [
    "max_amount = float(df_def['Fecha'].max())"
   ]
  },
  {
   "cell_type": "code",
   "execution_count": 137,
   "metadata": {},
   "outputs": [],
   "source": [
    "hmap = folium.Map(location=[4.6, -74.1], zoom_start=11)"
   ]
  },
  {
   "cell_type": "code",
   "execution_count": 125,
   "metadata": {},
   "outputs": [],
   "source": [
    "df_def.Fecha = df_def.Fecha.apply(lambda x:int(str(x)))"
   ]
  },
  {
   "cell_type": "code",
   "execution_count": 126,
   "metadata": {},
   "outputs": [
    {
     "data": {
      "text/plain": [
       "''"
      ]
     },
     "execution_count": 126,
     "metadata": {},
     "output_type": "execute_result"
    }
   ],
   "source": [
    "\"\"\"hm_wide = HeatMap( list(zip(df_def.coord_x.values, df_def.coord_y.values, [int(x) for x in list(df_def.Fecha.values)])),\n",
    "                   min_opacity=0.2,\n",
    "                   max_val=max_amount,\n",
    "                   radius=17, blur=15, \n",
    "                   max_zoom=1, \n",
    "                 )\"\"\"\n",
    "\"\""
   ]
  },
  {
   "cell_type": "code",
   "execution_count": 138,
   "metadata": {},
   "outputs": [],
   "source": [
    "hm_wide = HeatMap( list(zip(df_def.coord_y.values, df_def.coord_x.values, [int(x) for x in list(df_def.Fecha.values)])),\n",
    "                   min_opacity=0.2,\n",
    "                   max_val=max_amount,\n",
    "                   radius=17, blur=15, \n",
    "                   max_zoom=1, \n",
    "                   min_zoom=1  \n",
    "                 )"
   ]
  },
  {
   "cell_type": "code",
   "execution_count": 139,
   "metadata": {},
   "outputs": [
    {
     "data": {
      "text/html": [
       "<div style=\"width:100%;\"><div style=\"position:relative;width:100%;height:0;padding-bottom:60%;\"><iframe src=\"data:text/html;charset=utf-8;base64,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\" style=\"position:absolute;width:100%;height:100%;left:0;top:0;border:none !important;\" allowfullscreen webkitallowfullscreen mozallowfullscreen></iframe></div></div>"
      ],
      "text/plain": [
       "<folium.folium.Map at 0x127bca7b8>"
      ]
     },
     "execution_count": 139,
     "metadata": {},
     "output_type": "execute_result"
    }
   ],
   "source": [
    "hmap.add_child(hm_wide)"
   ]
  },
  {
   "cell_type": "code",
   "execution_count": 132,
   "metadata": {},
   "outputs": [],
   "source": [
    "hmap.save('mapa_hurtos.html')"
   ]
  }
 ],
 "metadata": {
  "kernelspec": {
   "display_name": "Python 3",
   "language": "python",
   "name": "python3"
  },
  "language_info": {
   "codemirror_mode": {
    "name": "ipython",
    "version": 3
   },
   "file_extension": ".py",
   "mimetype": "text/x-python",
   "name": "python",
   "nbconvert_exporter": "python",
   "pygments_lexer": "ipython3",
   "version": "3.7.1"
  }
 },
 "nbformat": 4,
 "nbformat_minor": 2
}

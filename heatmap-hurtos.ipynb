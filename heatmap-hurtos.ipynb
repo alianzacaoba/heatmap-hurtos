{
 "cells": [
  {
   "cell_type": "code",
   "execution_count": 390,
   "metadata": {},
   "outputs": [],
   "source": [
    "import pandas as pd\n",
    "import numpy as np\n",
    "import unidecode\n",
    "import re"
   ]
  },
  {
   "cell_type": "code",
   "execution_count": 391,
   "metadata": {},
   "outputs": [
    {
     "data": {
      "text/plain": [
       "'PABLO '"
      ]
     },
     "execution_count": 391,
     "metadata": {},
     "output_type": "execute_result"
    }
   ],
   "source": [
    "re.sub(r'I', '', \"PABLO I\")"
   ]
  },
  {
   "cell_type": "code",
   "execution_count": 392,
   "metadata": {},
   "outputs": [
    {
     "data": {
      "text/plain": [
       "105155"
      ]
     },
     "execution_count": 392,
     "metadata": {},
     "output_type": "execute_result"
    }
   ],
   "source": [
    "df_hurtos = pd.read_csv(\"./data/hurtos_bogota_2018.csv\")\n",
    "len(df_hurtos)"
   ]
  },
  {
   "cell_type": "code",
   "execution_count": 393,
   "metadata": {},
   "outputs": [
    {
     "data": {
      "text/html": [
       "<div>\n",
       "<style scoped>\n",
       "    .dataframe tbody tr th:only-of-type {\n",
       "        vertical-align: middle;\n",
       "    }\n",
       "\n",
       "    .dataframe tbody tr th {\n",
       "        vertical-align: top;\n",
       "    }\n",
       "\n",
       "    .dataframe thead th {\n",
       "        text-align: right;\n",
       "    }\n",
       "</style>\n",
       "<table border=\"1\" class=\"dataframe\">\n",
       "  <thead>\n",
       "    <tr style=\"text-align: right;\">\n",
       "      <th></th>\n",
       "      <th>Fecha</th>\n",
       "      <th>Departamento</th>\n",
       "      <th>Municipio</th>\n",
       "      <th>Día</th>\n",
       "      <th>Hora</th>\n",
       "      <th>Barrio</th>\n",
       "      <th>Zona</th>\n",
       "      <th>Clase de sitio</th>\n",
       "      <th>Arma empleada</th>\n",
       "      <th>Móvil Agresor</th>\n",
       "      <th>Móvil Victima</th>\n",
       "      <th>Edad</th>\n",
       "      <th>Sexo</th>\n",
       "      <th>Estado civil</th>\n",
       "      <th>País de nacimiento</th>\n",
       "      <th>Clase de empleado</th>\n",
       "      <th>Profesión</th>\n",
       "      <th>Escolaridad</th>\n",
       "      <th>Código DANE</th>\n",
       "      <th>Cantidad</th>\n",
       "    </tr>\n",
       "  </thead>\n",
       "  <tbody>\n",
       "    <tr>\n",
       "      <th>0</th>\n",
       "      <td>1/1/18</td>\n",
       "      <td>CUNDINAMARCA</td>\n",
       "      <td>BOGOTÁ D.C. (CT)</td>\n",
       "      <td>Lunes</td>\n",
       "      <td>0:00:00</td>\n",
       "      <td>BOLIVIA E-10</td>\n",
       "      <td>URBANA</td>\n",
       "      <td>VIAS PUBLICAS</td>\n",
       "      <td>ARMA BLANCA / CORTOPUNZANTE</td>\n",
       "      <td>A PIE</td>\n",
       "      <td>A PIE</td>\n",
       "      <td>18</td>\n",
       "      <td>MASCULINO</td>\n",
       "      <td>SOLTERO</td>\n",
       "      <td>COLOMBIA</td>\n",
       "      <td>EMPLEADO PARTICULAR</td>\n",
       "      <td>-</td>\n",
       "      <td>PRIMARIA</td>\n",
       "      <td>11001000.0</td>\n",
       "      <td>1</td>\n",
       "    </tr>\n",
       "    <tr>\n",
       "      <th>1</th>\n",
       "      <td>1/1/18</td>\n",
       "      <td>CUNDINAMARCA</td>\n",
       "      <td>BOGOTÁ D.C. (CT)</td>\n",
       "      <td>Lunes</td>\n",
       "      <td>0:00:00</td>\n",
       "      <td>CIUDAD SALITRE II E-13</td>\n",
       "      <td>URBANA</td>\n",
       "      <td>VIAS PUBLICAS</td>\n",
       "      <td>CONTUNDENTES</td>\n",
       "      <td>A PIE</td>\n",
       "      <td>A PIE</td>\n",
       "      <td>61</td>\n",
       "      <td>FEMENINO</td>\n",
       "      <td>SOLTERO</td>\n",
       "      <td>COLOMBIA</td>\n",
       "      <td>EMPLEADO PARTICULAR</td>\n",
       "      <td>NO REPORTADA</td>\n",
       "      <td>NO REPORTADO</td>\n",
       "      <td>11001000.0</td>\n",
       "      <td>1</td>\n",
       "    </tr>\n",
       "    <tr>\n",
       "      <th>2</th>\n",
       "      <td>1/1/18</td>\n",
       "      <td>CUNDINAMARCA</td>\n",
       "      <td>BOGOTÁ D.C. (CT)</td>\n",
       "      <td>Lunes</td>\n",
       "      <td>0:00:00</td>\n",
       "      <td>ESTACIÓN CENTRAL E-16</td>\n",
       "      <td>URBANA</td>\n",
       "      <td>CASAS DE HABITACION</td>\n",
       "      <td>ARMA BLANCA / CORTOPUNZANTE</td>\n",
       "      <td>A PIE</td>\n",
       "      <td>A PIE</td>\n",
       "      <td>25</td>\n",
       "      <td>MASCULINO</td>\n",
       "      <td>SOLTERO</td>\n",
       "      <td>COLOMBIA</td>\n",
       "      <td>EMPLEADO PARTICULAR</td>\n",
       "      <td>-</td>\n",
       "      <td>SUPERIOR</td>\n",
       "      <td>11001000.0</td>\n",
       "      <td>1</td>\n",
       "    </tr>\n",
       "    <tr>\n",
       "      <th>3</th>\n",
       "      <td>1/1/18</td>\n",
       "      <td>CUNDINAMARCA</td>\n",
       "      <td>BOGOTÁ D.C. (CT)</td>\n",
       "      <td>Lunes</td>\n",
       "      <td>0:00:00</td>\n",
       "      <td>LA CABRERA E-2</td>\n",
       "      <td>URBANA</td>\n",
       "      <td>VIAS PUBLICAS</td>\n",
       "      <td>SIN EMPLEO DE ARMAS</td>\n",
       "      <td>A PIE</td>\n",
       "      <td>A PIE</td>\n",
       "      <td>38</td>\n",
       "      <td>MASCULINO</td>\n",
       "      <td>SOLTERO</td>\n",
       "      <td>COLOMBIA</td>\n",
       "      <td>EMPLEADO PARTICULAR</td>\n",
       "      <td>-</td>\n",
       "      <td>PRIMARIA</td>\n",
       "      <td>11001000.0</td>\n",
       "      <td>1</td>\n",
       "    </tr>\n",
       "    <tr>\n",
       "      <th>4</th>\n",
       "      <td>1/1/18</td>\n",
       "      <td>CUNDINAMARCA</td>\n",
       "      <td>BOGOTÁ D.C. (CT)</td>\n",
       "      <td>Lunes</td>\n",
       "      <td>0:00:00</td>\n",
       "      <td>LA CHUCUA E-8</td>\n",
       "      <td>URBANA</td>\n",
       "      <td>VIAS PUBLICAS</td>\n",
       "      <td>SIN EMPLEO DE ARMAS</td>\n",
       "      <td>A PIE</td>\n",
       "      <td>A PIE</td>\n",
       "      <td>33</td>\n",
       "      <td>MASCULINO</td>\n",
       "      <td>SOLTERO</td>\n",
       "      <td>COLOMBIA</td>\n",
       "      <td>EMPLEADO PARTICULAR</td>\n",
       "      <td>-</td>\n",
       "      <td>SECUNDARIA</td>\n",
       "      <td>11001000.0</td>\n",
       "      <td>1</td>\n",
       "    </tr>\n",
       "  </tbody>\n",
       "</table>\n",
       "</div>"
      ],
      "text/plain": [
       "    Fecha  Departamento         Municipio    Día     Hora  \\\n",
       "0  1/1/18  CUNDINAMARCA  BOGOTÁ D.C. (CT)  Lunes  0:00:00   \n",
       "1  1/1/18  CUNDINAMARCA  BOGOTÁ D.C. (CT)  Lunes  0:00:00   \n",
       "2  1/1/18  CUNDINAMARCA  BOGOTÁ D.C. (CT)  Lunes  0:00:00   \n",
       "3  1/1/18  CUNDINAMARCA  BOGOTÁ D.C. (CT)  Lunes  0:00:00   \n",
       "4  1/1/18  CUNDINAMARCA  BOGOTÁ D.C. (CT)  Lunes  0:00:00   \n",
       "\n",
       "                   Barrio    Zona       Clase de sitio  \\\n",
       "0            BOLIVIA E-10  URBANA        VIAS PUBLICAS   \n",
       "1  CIUDAD SALITRE II E-13  URBANA        VIAS PUBLICAS   \n",
       "2   ESTACIÓN CENTRAL E-16  URBANA  CASAS DE HABITACION   \n",
       "3          LA CABRERA E-2  URBANA        VIAS PUBLICAS   \n",
       "4           LA CHUCUA E-8  URBANA        VIAS PUBLICAS   \n",
       "\n",
       "                 Arma empleada Móvil Agresor Móvil Victima Edad       Sexo  \\\n",
       "0  ARMA BLANCA / CORTOPUNZANTE         A PIE         A PIE   18  MASCULINO   \n",
       "1                 CONTUNDENTES         A PIE         A PIE   61   FEMENINO   \n",
       "2  ARMA BLANCA / CORTOPUNZANTE         A PIE         A PIE   25  MASCULINO   \n",
       "3          SIN EMPLEO DE ARMAS         A PIE         A PIE   38  MASCULINO   \n",
       "4          SIN EMPLEO DE ARMAS         A PIE         A PIE   33  MASCULINO   \n",
       "\n",
       "  Estado civil País de nacimiento    Clase de empleado     Profesión  \\\n",
       "0      SOLTERO           COLOMBIA  EMPLEADO PARTICULAR             -   \n",
       "1      SOLTERO           COLOMBIA  EMPLEADO PARTICULAR  NO REPORTADA   \n",
       "2      SOLTERO           COLOMBIA  EMPLEADO PARTICULAR             -   \n",
       "3      SOLTERO           COLOMBIA  EMPLEADO PARTICULAR             -   \n",
       "4      SOLTERO           COLOMBIA  EMPLEADO PARTICULAR             -   \n",
       "\n",
       "    Escolaridad  Código DANE  Cantidad  \n",
       "0      PRIMARIA   11001000.0         1  \n",
       "1  NO REPORTADO   11001000.0         1  \n",
       "2      SUPERIOR   11001000.0         1  \n",
       "3      PRIMARIA   11001000.0         1  \n",
       "4    SECUNDARIA   11001000.0         1  "
      ]
     },
     "execution_count": 393,
     "metadata": {},
     "output_type": "execute_result"
    }
   ],
   "source": [
    "df_hurtos.head()"
   ]
  },
  {
   "cell_type": "code",
   "execution_count": 394,
   "metadata": {},
   "outputs": [],
   "source": [
    "df_barrios = pd.read_csv(\"./data/barrios_bogota.csv\")"
   ]
  },
  {
   "cell_type": "code",
   "execution_count": 395,
   "metadata": {},
   "outputs": [
    {
     "data": {
      "text/html": [
       "<div>\n",
       "<style scoped>\n",
       "    .dataframe tbody tr th:only-of-type {\n",
       "        vertical-align: middle;\n",
       "    }\n",
       "\n",
       "    .dataframe tbody tr th {\n",
       "        vertical-align: top;\n",
       "    }\n",
       "\n",
       "    .dataframe thead th {\n",
       "        text-align: right;\n",
       "    }\n",
       "</style>\n",
       "<table border=\"1\" class=\"dataframe\">\n",
       "  <thead>\n",
       "    <tr style=\"text-align: right;\">\n",
       "      <th></th>\n",
       "      <th>OBJECTID</th>\n",
       "      <th>Identificador unico del sector catastral</th>\n",
       "      <th>Tipo de sector catastral</th>\n",
       "      <th>Nombre del sector catastral</th>\n",
       "      <th>coord_x</th>\n",
       "      <th>coord_y</th>\n",
       "    </tr>\n",
       "  </thead>\n",
       "  <tbody>\n",
       "    <tr>\n",
       "      <th>0</th>\n",
       "      <td>1281</td>\n",
       "      <td>205109</td>\n",
       "      <td>2</td>\n",
       "      <td>LA MAGDALENA I</td>\n",
       "      <td>-74,15971638349998</td>\n",
       "      <td>4,6538848121528105</td>\n",
       "    </tr>\n",
       "    <tr>\n",
       "      <th>1</th>\n",
       "      <td>1282</td>\n",
       "      <td>205227</td>\n",
       "      <td>2</td>\n",
       "      <td>OSORIO IX</td>\n",
       "      <td>-74,171430826</td>\n",
       "      <td>4,655330582652857</td>\n",
       "    </tr>\n",
       "    <tr>\n",
       "      <th>2</th>\n",
       "      <td>1284</td>\n",
       "      <td>105203</td>\n",
       "      <td>1</td>\n",
       "      <td>OSORIO II</td>\n",
       "      <td>-74,166000932</td>\n",
       "      <td>4,654956388652853</td>\n",
       "    </tr>\n",
       "    <tr>\n",
       "      <th>3</th>\n",
       "      <td>1285</td>\n",
       "      <td>201109</td>\n",
       "      <td>2</td>\n",
       "      <td>INGEMAR I</td>\n",
       "      <td>-74,05440703649998</td>\n",
       "      <td>4,639504332652364</td>\n",
       "    </tr>\n",
       "    <tr>\n",
       "      <th>4</th>\n",
       "      <td>1286</td>\n",
       "      <td>201110</td>\n",
       "      <td>2</td>\n",
       "      <td>INGEMAR ORIENTAL I</td>\n",
       "      <td>-74,0505909105</td>\n",
       "      <td>4,644192807152489</td>\n",
       "    </tr>\n",
       "  </tbody>\n",
       "</table>\n",
       "</div>"
      ],
      "text/plain": [
       "   OBJECTID  Identificador unico del sector catastral  \\\n",
       "0      1281                                    205109   \n",
       "1      1282                                    205227   \n",
       "2      1284                                    105203   \n",
       "3      1285                                    201109   \n",
       "4      1286                                    201110   \n",
       "\n",
       "   Tipo de sector catastral Nombre del sector catastral             coord_x  \\\n",
       "0                         2              LA MAGDALENA I  -74,15971638349998   \n",
       "1                         2                   OSORIO IX       -74,171430826   \n",
       "2                         1                   OSORIO II       -74,166000932   \n",
       "3                         2                   INGEMAR I  -74,05440703649998   \n",
       "4                         2          INGEMAR ORIENTAL I      -74,0505909105   \n",
       "\n",
       "              coord_y  \n",
       "0  4,6538848121528105  \n",
       "1   4,655330582652857  \n",
       "2   4,654956388652853  \n",
       "3   4,639504332652364  \n",
       "4   4,644192807152489  "
      ]
     },
     "execution_count": 395,
     "metadata": {},
     "output_type": "execute_result"
    }
   ],
   "source": [
    "df_barrios.head()"
   ]
  },
  {
   "cell_type": "markdown",
   "metadata": {},
   "source": [
    "## Limpiar columna \"barrio\""
   ]
  },
  {
   "cell_type": "code",
   "execution_count": 396,
   "metadata": {},
   "outputs": [],
   "source": [
    "UMBRAL = 100"
   ]
  },
  {
   "cell_type": "code",
   "execution_count": 397,
   "metadata": {},
   "outputs": [],
   "source": [
    "def arreglar_I(x):\n",
    "    if \" I\" in x[-2:]:\n",
    "        return x[:-2]\n",
    "    if \" II\" in x[-3:]:\n",
    "        return x[:-3]\n",
    "    if \" III\" in x[-4:]:\n",
    "        return x[:-4]\n",
    "    else:\n",
    "        return x"
   ]
  },
  {
   "cell_type": "code",
   "execution_count": 398,
   "metadata": {},
   "outputs": [],
   "source": [
    "df_hurtos[\"Barrio\"] = df_hurtos[\"Barrio\"].apply(lambda x:x.split(\" E-\")[0])\n",
    "df_hurtos[\"Barrio\"] = df_hurtos[\"Barrio\"].apply(lambda x:x.replace(\" II \",\" \").replace(\" I \",\" \"))\n",
    "df_hurtos[\"Barrio\"] = df_hurtos[\"Barrio\"].apply(arreglar_I)\n",
    "df_hurtos[\"Barrio\"] = df_hurtos[\"Barrio\"].apply(lambda x:x\n",
    "                                                                                            .replace(\"LOS \",\"\")\n",
    "                                                                                            .replace(\"LAS \",\"\")\n",
    "                                                                                            .replace(\"EL \",\"\")\n",
    "                                                                                            .replace(\"LA \",\"\")\n",
    "                                                                                           )\n",
    "df_hurtos[\"Barrio\"] = df_hurtos[\"Barrio\"].apply(lambda x:x\n",
    "                                                                                            .replace(\" NOR-ORIENTAL\",\"\")\n",
    "                                                                                            .replace(\" SUR-ORIENTAL\",\"\")\n",
    "                                                                                            .replace(\" NOR-OCCIDENTAL\",\"\")\n",
    "                                                                                            .replace(\" SUR-OCCIDENTAL\",\"\")\n",
    "                                                                                            .replace(\" OCCIDENTAL\",\"\")\n",
    "                                                                                            .replace(\" ORIENTAL\",\"\")\n",
    "                                                                                            .replace(\" SUR\",\"\")\n",
    "                                                                                            .replace(\" NORTE\",\"\")\n",
    "                                                                                            .replace(\" CENTRO\",\"\")\n",
    "                                                                                            .replace(\" BAJO\",\"\")\n",
    "                                                                                            .replace(\" ALTO\",\"\")\n",
    "                                                                                            .replace(\" CENTRAL\",\"\")\n",
    "                                                                                            .replace(\" ETAPA\",\"\")\n",
    "                                                                                            .replace(\" SECTOR\",\"\")\n",
    "                                                                                           )"
   ]
  },
  {
   "cell_type": "code",
   "execution_count": 399,
   "metadata": {},
   "outputs": [],
   "source": [
    "df_barrios[\"Nombre del sector catastral\"] = df_barrios[\"Nombre del sector catastral\"].apply(lambda x:unidecode.unidecode(x))\n",
    "df_barrios[\"Nombre del sector catastral\"] = df_barrios[\"Nombre del sector catastral\"].apply(lambda x:x.replace(\" II\",\"\").replace(\" I\",\"\"))\n",
    "\"\"\"df_barrios[\"Nombre del sector catastral\"] = df_barrios[\"Nombre del sector catastral\"].apply(lambda x:x\n",
    "                                                                                            .replace(\" NOR-ORIENTAL\",\"\")\n",
    "                                                                                            .replace(\" SUR-ORIENTAL\",\"\")\n",
    "                                                                                            .replace(\" NOR-OCCIDENTAL\",\"\")\n",
    "                                                                                            .replace(\" SUR-OCCIDENTAL\",\"\")\n",
    "                                                                                            .replace(\" OCCIDENTAL\",\"\")\n",
    "                                                                                            .replace(\" ORIENTAL\",\"\")\n",
    "                                                                                            .replace(\" SUR\",\"\")\n",
    "                                                                                            .replace(\" NORTE\",\"\")\n",
    "                                                                                           )\"\"\"\n",
    "df_barrios[\"Nombre del sector catastral\"] = df_barrios[\"Nombre del sector catastral\"].apply(lambda x:x\n",
    "                                                                                            .replace(\"LOS \",\"\")\n",
    "                                                                                            .replace(\"LAS \",\"\")\n",
    "                                                                                            .replace(\"EL \",\"\")\n",
    "                                                                                            .replace(\"LA \",\"\")\n",
    "                                                                                           )"
   ]
  },
  {
   "cell_type": "code",
   "execution_count": 400,
   "metadata": {},
   "outputs": [
    {
     "data": {
      "text/plain": [
       "2162"
      ]
     },
     "execution_count": 400,
     "metadata": {},
     "output_type": "execute_result"
    }
   ],
   "source": [
    "np.size(df_hurtos[\"Barrio\"].value_counts().loc[df_hurtos[\"Barrio\"].value_counts()>0])"
   ]
  },
  {
   "cell_type": "code",
   "execution_count": 401,
   "metadata": {},
   "outputs": [],
   "source": [
    "barrios_con_umbral = np.size(df_hurtos[\"Barrio\"].value_counts().loc[df_hurtos[\"Barrio\"].value_counts()>UMBRAL])"
   ]
  },
  {
   "cell_type": "code",
   "execution_count": 402,
   "metadata": {},
   "outputs": [
    {
     "data": {
      "text/plain": [
       "0         CHAPINERO\n",
       "1             CHICO\n",
       "2     SANTA BARBARA\n",
       "3    CIUDAD SALITRE\n",
       "4          BELSUIZA\n",
       "dtype: object"
      ]
     },
     "execution_count": 402,
     "metadata": {},
     "output_type": "execute_result"
    }
   ],
   "source": [
    "barrios_hurtos = pd.Series((df_hurtos[\"Barrio\"].value_counts().loc[df_hurtos[\"Barrio\"].value_counts()>UMBRAL]).index)\n",
    "barrios_hurtos.head()"
   ]
  },
  {
   "cell_type": "code",
   "execution_count": 403,
   "metadata": {},
   "outputs": [],
   "source": [
    "def arreglar(x):\n",
    "    resp = \"\"\n",
    "    for barrio in barrios_hurtos:\n",
    "        if barrio in x:\n",
    "            return barrio\n",
    "    return x"
   ]
  },
  {
   "cell_type": "code",
   "execution_count": 404,
   "metadata": {},
   "outputs": [],
   "source": [
    "df_barrios[\"Nombre del sector catastral\"] = df_barrios[\"Nombre del sector catastral\"].apply(arreglar)"
   ]
  },
  {
   "cell_type": "code",
   "execution_count": 405,
   "metadata": {},
   "outputs": [],
   "source": [
    "barrios_catastro = pd.Series(df_barrios[\"Nombre del sector catastral\"].unique())"
   ]
  },
  {
   "cell_type": "code",
   "execution_count": 406,
   "metadata": {},
   "outputs": [],
   "source": [
    "barrios_coincidencia = np.sum(barrios_hurtos.isin(barrios_catastro))"
   ]
  },
  {
   "cell_type": "code",
   "execution_count": 407,
   "metadata": {},
   "outputs": [
    {
     "name": "stdout",
     "output_type": "stream",
     "text": [
      "Barrios: 278\n",
      "Barrios coincidentes: 209\n",
      "% Coincidencia:\n",
      "0.7517985611510791\n"
     ]
    }
   ],
   "source": [
    "print(\"Barrios: %s\" % barrios_con_umbral)\n",
    "print(\"Barrios coincidentes: %s\" % barrios_coincidencia)\n",
    "print(\"% Coincidencia:\")\n",
    "print(barrios_coincidencia/barrios_con_umbral)"
   ]
  },
  {
   "cell_type": "code",
   "execution_count": 416,
   "metadata": {},
   "outputs": [
    {
     "data": {
      "text/plain": [
       "SANTA INES                452\n",
       "CARVAJAL                  375\n",
       "TOBERIN                   358\n",
       "VILDPRADO                 300\n",
       "MAZUREN                   298\n",
       "BARRIOS UNIDOS            286\n",
       "PROVIDENCIA               269\n",
       "CENTRO USAQUEN            267\n",
       "SOCIEGO                   264\n",
       "CENTRO ADMINISTRATIVO     257\n",
       "QUIROGA IHS               238\n",
       "URB. SAN PATRICIO         223\n",
       "SAN BERNARDO              221\n",
       "MARTIRES                  219\n",
       "CANDELARIA NUEVA          218\n",
       "CHICO NAVARRA             214\n",
       "MADELENA Y                213\n",
       "POA                       209\n",
       "MIRANDELA                 203\n",
       "SANTA ISABEL              203\n",
       "TINTALA                   192\n",
       "VILDE GRANADA             191\n",
       "INDUSTRIAL PENSILVANIA    190\n",
       "VERAGUAS                  188\n",
       "GUSTAVO RESTREPO          185\n",
       "SAN IGNACIO               183\n",
       "ALQUERIAS DE FRAGUA       177\n",
       "GAITANA                   170\n",
       "SUBA URBANO               163\n",
       "SANTA MARIA DLAGO         145\n",
       "                         ... \n",
       "GRANJAS DE TECHO          127\n",
       "BOYACA REAL               126\n",
       "CABAÑA                    126\n",
       "AURES                     125\n",
       "CENTRO ANTONIO NARIÑO     122\n",
       "TINTALITO                 122\n",
       "VILMARIA                  121\n",
       "CENTRO INTERNACIONAL      120\n",
       "VEREDA TORCA              120\n",
       "PASADENA ROYAL            118\n",
       "CHICO III                 117\n",
       "CANAIMA                   115\n",
       "BANDERAS                  114\n",
       "ORQUÍDEAS                 113\n",
       "CIUDAD KENNEDY OCC        113\n",
       "FELICIDAD                 111\n",
       "BRITALIA                  111\n",
       "ALCAZAR DE SUBA           111\n",
       "GILMAR                    109\n",
       "FERROCAJA                 109\n",
       "SAN RAFAINDUSTRIAL        108\n",
       "CENTRO NARIÑO             107\n",
       "PORTALES DNORTE           107\n",
       "NUEVA TIBABUYES           106\n",
       "SANTA TERESA              105\n",
       "SAN CARPREDIO SAN JOSE    104\n",
       "ALHAMBRA                  103\n",
       "AMPARO                    103\n",
       "CAMPIÑA                   102\n",
       "CEMENTERIO APOGEO         102\n",
       "Name: Barrio, Length: 69, dtype: int64"
      ]
     },
     "execution_count": 416,
     "metadata": {},
     "output_type": "execute_result"
    }
   ],
   "source": [
    "df_hurtos.loc[df_hurtos[\"Barrio\"].isin(barrios_hurtos.loc[~barrios_hurtos.isin(barrios_catastro)])][\"Barrio\"].value_counts()"
   ]
  },
  {
   "cell_type": "code",
   "execution_count": 409,
   "metadata": {},
   "outputs": [
    {
     "data": {
      "text/plain": [
       "69"
      ]
     },
     "execution_count": 409,
     "metadata": {},
     "output_type": "execute_result"
    }
   ],
   "source": [
    "np.sum(~barrios_hurtos.isin(barrios_catastro))"
   ]
  }
 ],
 "metadata": {
  "kernelspec": {
   "display_name": "Python 3",
   "language": "python",
   "name": "python3"
  },
  "language_info": {
   "codemirror_mode": {
    "name": "ipython",
    "version": 3
   },
   "file_extension": ".py",
   "mimetype": "text/x-python",
   "name": "python",
   "nbconvert_exporter": "python",
   "pygments_lexer": "ipython3",
   "version": "3.7.1"
  }
 },
 "nbformat": 4,
 "nbformat_minor": 2
}

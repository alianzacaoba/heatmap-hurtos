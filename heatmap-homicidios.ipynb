{
 "cells": [
  {
   "cell_type": "code",
   "execution_count": 2,
   "metadata": {},
   "outputs": [],
   "source": [
    "import pandas as pd\n",
    "import numpy as np\n",
    "import unidecode\n",
    "import re\n",
    "from shapely.geometry import Point, Polygon\n",
    "import folium\n",
    "from folium.plugins import HeatMap"
   ]
  },
  {
   "cell_type": "code",
   "execution_count": 3,
   "metadata": {},
   "outputs": [],
   "source": [
    "import geopandas as gpd"
   ]
  },
  {
   "cell_type": "markdown",
   "metadata": {},
   "source": []
  },
  {
   "cell_type": "code",
   "execution_count": 4,
   "metadata": {},
   "outputs": [
    {
     "name": "stdout",
     "output_type": "stream",
     "text": [
      "<class 'geopandas.geodataframe.GeoDataFrame'>\n"
     ]
    },
    {
     "data": {
      "text/html": [
       "<div>\n",
       "<style scoped>\n",
       "    .dataframe tbody tr th:only-of-type {\n",
       "        vertical-align: middle;\n",
       "    }\n",
       "\n",
       "    .dataframe tbody tr th {\n",
       "        vertical-align: top;\n",
       "    }\n",
       "\n",
       "    .dataframe thead th {\n",
       "        text-align: right;\n",
       "    }\n",
       "</style>\n",
       "<table border=\"1\" class=\"dataframe\">\n",
       "  <thead>\n",
       "    <tr style=\"text-align: right;\">\n",
       "      <th></th>\n",
       "      <th>LOC</th>\n",
       "      <th>geometry</th>\n",
       "    </tr>\n",
       "  </thead>\n",
       "  <tbody>\n",
       "    <tr>\n",
       "      <th>0</th>\n",
       "      <td>ANTONIO NARIÑO</td>\n",
       "      <td>POLYGON ((-74.13075446257029 4.59335334662506,...</td>\n",
       "    </tr>\n",
       "    <tr>\n",
       "      <th>1</th>\n",
       "      <td>LA CANDELARIA</td>\n",
       "      <td>POLYGON ((-74.0662087260469 4.60317174214195, ...</td>\n",
       "    </tr>\n",
       "    <tr>\n",
       "      <th>2</th>\n",
       "      <td>CHAPINERO</td>\n",
       "      <td>POLYGON ((-74.0572470317838 4.68683629566918, ...</td>\n",
       "    </tr>\n",
       "    <tr>\n",
       "      <th>3</th>\n",
       "      <td>CIUDAD BOLIVAR</td>\n",
       "      <td>POLYGON ((-74.15216009957931 4.59975861479746,...</td>\n",
       "    </tr>\n",
       "    <tr>\n",
       "      <th>4</th>\n",
       "      <td>ENGATIVA</td>\n",
       "      <td>POLYGON ((-74.127379945115 4.73730502762603, -...</td>\n",
       "    </tr>\n",
       "  </tbody>\n",
       "</table>\n",
       "</div>"
      ],
      "text/plain": [
       "              LOC                                           geometry\n",
       "0  ANTONIO NARIÑO  POLYGON ((-74.13075446257029 4.59335334662506,...\n",
       "1   LA CANDELARIA  POLYGON ((-74.0662087260469 4.60317174214195, ...\n",
       "2       CHAPINERO  POLYGON ((-74.0572470317838 4.68683629566918, ...\n",
       "3  CIUDAD BOLIVAR  POLYGON ((-74.15216009957931 4.59975861479746,...\n",
       "4        ENGATIVA  POLYGON ((-74.127379945115 4.73730502762603, -..."
      ]
     },
     "execution_count": 4,
     "metadata": {},
     "output_type": "execute_result"
    }
   ],
   "source": [
    "fname = \"./data/loc.geojson\"\n",
    "\n",
    "df = gpd.read_file(fname)\n",
    "\n",
    "print(type(df))\n",
    "\n",
    "df.head()"
   ]
  },
  {
   "cell_type": "code",
   "execution_count": 5,
   "metadata": {},
   "outputs": [
    {
     "data": {
      "text/plain": [
       "'PABLO '"
      ]
     },
     "execution_count": 5,
     "metadata": {},
     "output_type": "execute_result"
    }
   ],
   "source": [
    "re.sub(r'I', '', \"PABLO I\")"
   ]
  },
  {
   "cell_type": "code",
   "execution_count": 6,
   "metadata": {},
   "outputs": [
    {
     "data": {
      "text/plain": [
       "431"
      ]
     },
     "execution_count": 6,
     "metadata": {},
     "output_type": "execute_result"
    }
   ],
   "source": [
    "df_hurtos = pd.read_csv(\"./data/homicidios_bogota_2018.csv\")\n",
    "len(df_hurtos)"
   ]
  },
  {
   "cell_type": "code",
   "execution_count": 7,
   "metadata": {},
   "outputs": [
    {
     "data": {
      "text/html": [
       "<div>\n",
       "<style scoped>\n",
       "    .dataframe tbody tr th:only-of-type {\n",
       "        vertical-align: middle;\n",
       "    }\n",
       "\n",
       "    .dataframe tbody tr th {\n",
       "        vertical-align: top;\n",
       "    }\n",
       "\n",
       "    .dataframe thead th {\n",
       "        text-align: right;\n",
       "    }\n",
       "</style>\n",
       "<table border=\"1\" class=\"dataframe\">\n",
       "  <thead>\n",
       "    <tr style=\"text-align: right;\">\n",
       "      <th></th>\n",
       "      <th>Fecha</th>\n",
       "      <th>Departamento</th>\n",
       "      <th>Municipio</th>\n",
       "      <th>Día</th>\n",
       "      <th>Hora</th>\n",
       "      <th>Barrio</th>\n",
       "      <th>Zona</th>\n",
       "      <th>Clase de sitio</th>\n",
       "      <th>Arma empleada</th>\n",
       "      <th>Móvil Agresor</th>\n",
       "      <th>Móvil Victima</th>\n",
       "      <th>Edad</th>\n",
       "      <th>Sexo</th>\n",
       "      <th>Estado civil</th>\n",
       "      <th>País de nacimiento</th>\n",
       "      <th>Clase de empleado</th>\n",
       "      <th>Profesión</th>\n",
       "      <th>Escolaridad</th>\n",
       "      <th>Código DANE</th>\n",
       "      <th>Cantidad</th>\n",
       "    </tr>\n",
       "  </thead>\n",
       "  <tbody>\n",
       "    <tr>\n",
       "      <th>0</th>\n",
       "      <td>01/01/2018 12:00:00 AM</td>\n",
       "      <td>CUNDINAMARCA</td>\n",
       "      <td>BOGOTÁ D.C. (CT)</td>\n",
       "      <td>Lunes</td>\n",
       "      <td>1:00:00</td>\n",
       "      <td>SANTA LIBRADA E-5</td>\n",
       "      <td>URBANA</td>\n",
       "      <td>VIAS PUBLICAS</td>\n",
       "      <td>ARMA BLANCA / CORTOPUNZANTE</td>\n",
       "      <td>A PIE</td>\n",
       "      <td>A PIE</td>\n",
       "      <td>22.0</td>\n",
       "      <td>FEMENINO</td>\n",
       "      <td>SOLTERO</td>\n",
       "      <td>COLOMBIA</td>\n",
       "      <td>DESEMPLEADO</td>\n",
       "      <td>-</td>\n",
       "      <td>SECUNDARIA</td>\n",
       "      <td>11001000.0</td>\n",
       "      <td>1</td>\n",
       "    </tr>\n",
       "    <tr>\n",
       "      <th>1</th>\n",
       "      <td>01/01/2018 12:00:00 AM</td>\n",
       "      <td>CUNDINAMARCA</td>\n",
       "      <td>BOGOTÁ D.C. (CT)</td>\n",
       "      <td>Lunes</td>\n",
       "      <td>5:30:00</td>\n",
       "      <td>LOS TRES REYES - I ETAPA E-19</td>\n",
       "      <td>URBANA</td>\n",
       "      <td>VIAS PUBLICAS</td>\n",
       "      <td>ARMA BLANCA / CORTOPUNZANTE</td>\n",
       "      <td>A PIE</td>\n",
       "      <td>A PIE</td>\n",
       "      <td>17.0</td>\n",
       "      <td>MASCULINO</td>\n",
       "      <td>SOLTERO</td>\n",
       "      <td>COLOMBIA</td>\n",
       "      <td>DESEMPLEADO</td>\n",
       "      <td>-</td>\n",
       "      <td>SECUNDARIA</td>\n",
       "      <td>11001000.0</td>\n",
       "      <td>1</td>\n",
       "    </tr>\n",
       "    <tr>\n",
       "      <th>2</th>\n",
       "      <td>01/01/2018 12:00:00 AM</td>\n",
       "      <td>CUNDINAMARCA</td>\n",
       "      <td>BOGOTÁ D.C. (CT)</td>\n",
       "      <td>Lunes</td>\n",
       "      <td>2:30:00</td>\n",
       "      <td>SAN ANTONIO E-15</td>\n",
       "      <td>URBANA</td>\n",
       "      <td>CASAS DE HABITACION</td>\n",
       "      <td>ARMA BLANCA / CORTOPUNZANTE</td>\n",
       "      <td>A PIE</td>\n",
       "      <td>A PIE</td>\n",
       "      <td>30.0</td>\n",
       "      <td>MASCULINO</td>\n",
       "      <td>UNION LIBRE</td>\n",
       "      <td>COLOMBIA</td>\n",
       "      <td>INDEPENDIENTE</td>\n",
       "      <td>-</td>\n",
       "      <td>SECUNDARIA</td>\n",
       "      <td>11001000.0</td>\n",
       "      <td>1</td>\n",
       "    </tr>\n",
       "    <tr>\n",
       "      <th>3</th>\n",
       "      <td>01/01/2018 12:00:00 AM</td>\n",
       "      <td>CUNDINAMARCA</td>\n",
       "      <td>BOGOTÁ D.C. (CT)</td>\n",
       "      <td>Lunes</td>\n",
       "      <td>2:35:00</td>\n",
       "      <td>CENTRO USME E-5</td>\n",
       "      <td>URBANA</td>\n",
       "      <td>VIAS PUBLICAS</td>\n",
       "      <td>ARMA BLANCA / CORTOPUNZANTE</td>\n",
       "      <td>A PIE</td>\n",
       "      <td>A PIE</td>\n",
       "      <td>24.0</td>\n",
       "      <td>MASCULINO</td>\n",
       "      <td>UNION LIBRE</td>\n",
       "      <td>COLOMBIA</td>\n",
       "      <td>EMPLEADO PARTICULAR</td>\n",
       "      <td>-</td>\n",
       "      <td>SECUNDARIA</td>\n",
       "      <td>11001000.0</td>\n",
       "      <td>1</td>\n",
       "    </tr>\n",
       "    <tr>\n",
       "      <th>4</th>\n",
       "      <td>01/01/2018 12:00:00 AM</td>\n",
       "      <td>CUNDINAMARCA</td>\n",
       "      <td>BOGOTÁ D.C. (CT)</td>\n",
       "      <td>Lunes</td>\n",
       "      <td>7:45:00</td>\n",
       "      <td>LA PRIMAVERA E-7</td>\n",
       "      <td>URBANA</td>\n",
       "      <td>VIAS PUBLICAS</td>\n",
       "      <td>ARMA BLANCA / CORTOPUNZANTE</td>\n",
       "      <td>A PIE</td>\n",
       "      <td>A PIE</td>\n",
       "      <td>43.0</td>\n",
       "      <td>MASCULINO</td>\n",
       "      <td>UNION LIBRE</td>\n",
       "      <td>COLOMBIA</td>\n",
       "      <td>DESEMPLEADO</td>\n",
       "      <td>-</td>\n",
       "      <td>SECUNDARIA</td>\n",
       "      <td>11001000.0</td>\n",
       "      <td>1</td>\n",
       "    </tr>\n",
       "  </tbody>\n",
       "</table>\n",
       "</div>"
      ],
      "text/plain": [
       "                    Fecha  Departamento         Municipio    Día     Hora  \\\n",
       "0  01/01/2018 12:00:00 AM  CUNDINAMARCA  BOGOTÁ D.C. (CT)  Lunes  1:00:00   \n",
       "1  01/01/2018 12:00:00 AM  CUNDINAMARCA  BOGOTÁ D.C. (CT)  Lunes  5:30:00   \n",
       "2  01/01/2018 12:00:00 AM  CUNDINAMARCA  BOGOTÁ D.C. (CT)  Lunes  2:30:00   \n",
       "3  01/01/2018 12:00:00 AM  CUNDINAMARCA  BOGOTÁ D.C. (CT)  Lunes  2:35:00   \n",
       "4  01/01/2018 12:00:00 AM  CUNDINAMARCA  BOGOTÁ D.C. (CT)  Lunes  7:45:00   \n",
       "\n",
       "                          Barrio    Zona       Clase de sitio  \\\n",
       "0              SANTA LIBRADA E-5  URBANA        VIAS PUBLICAS   \n",
       "1  LOS TRES REYES - I ETAPA E-19  URBANA        VIAS PUBLICAS   \n",
       "2               SAN ANTONIO E-15  URBANA  CASAS DE HABITACION   \n",
       "3                CENTRO USME E-5  URBANA        VIAS PUBLICAS   \n",
       "4               LA PRIMAVERA E-7  URBANA        VIAS PUBLICAS   \n",
       "\n",
       "                 Arma empleada Móvil Agresor Móvil Victima  Edad       Sexo  \\\n",
       "0  ARMA BLANCA / CORTOPUNZANTE         A PIE         A PIE  22.0   FEMENINO   \n",
       "1  ARMA BLANCA / CORTOPUNZANTE         A PIE         A PIE  17.0  MASCULINO   \n",
       "2  ARMA BLANCA / CORTOPUNZANTE         A PIE         A PIE  30.0  MASCULINO   \n",
       "3  ARMA BLANCA / CORTOPUNZANTE         A PIE         A PIE  24.0  MASCULINO   \n",
       "4  ARMA BLANCA / CORTOPUNZANTE         A PIE         A PIE  43.0  MASCULINO   \n",
       "\n",
       "  Estado civil País de nacimiento    Clase de empleado Profesión Escolaridad  \\\n",
       "0      SOLTERO           COLOMBIA          DESEMPLEADO         -  SECUNDARIA   \n",
       "1      SOLTERO           COLOMBIA          DESEMPLEADO         -  SECUNDARIA   \n",
       "2  UNION LIBRE           COLOMBIA        INDEPENDIENTE         -  SECUNDARIA   \n",
       "3  UNION LIBRE           COLOMBIA  EMPLEADO PARTICULAR         -  SECUNDARIA   \n",
       "4  UNION LIBRE           COLOMBIA          DESEMPLEADO         -  SECUNDARIA   \n",
       "\n",
       "   Código DANE  Cantidad  \n",
       "0   11001000.0         1  \n",
       "1   11001000.0         1  \n",
       "2   11001000.0         1  \n",
       "3   11001000.0         1  \n",
       "4   11001000.0         1  "
      ]
     },
     "execution_count": 7,
     "metadata": {},
     "output_type": "execute_result"
    }
   ],
   "source": [
    "df_hurtos.head()"
   ]
  },
  {
   "cell_type": "code",
   "execution_count": 8,
   "metadata": {},
   "outputs": [],
   "source": [
    "df_barrios = pd.read_csv(\"./data/barrios_bogota.csv\")"
   ]
  },
  {
   "cell_type": "code",
   "execution_count": 9,
   "metadata": {},
   "outputs": [
    {
     "data": {
      "text/html": [
       "<div>\n",
       "<style scoped>\n",
       "    .dataframe tbody tr th:only-of-type {\n",
       "        vertical-align: middle;\n",
       "    }\n",
       "\n",
       "    .dataframe tbody tr th {\n",
       "        vertical-align: top;\n",
       "    }\n",
       "\n",
       "    .dataframe thead th {\n",
       "        text-align: right;\n",
       "    }\n",
       "</style>\n",
       "<table border=\"1\" class=\"dataframe\">\n",
       "  <thead>\n",
       "    <tr style=\"text-align: right;\">\n",
       "      <th></th>\n",
       "      <th>OBJECTID</th>\n",
       "      <th>Identificador unico del sector catastral</th>\n",
       "      <th>Tipo de sector catastral</th>\n",
       "      <th>Nombre del sector catastral</th>\n",
       "      <th>coord_x</th>\n",
       "      <th>coord_y</th>\n",
       "    </tr>\n",
       "  </thead>\n",
       "  <tbody>\n",
       "    <tr>\n",
       "      <th>0</th>\n",
       "      <td>1281</td>\n",
       "      <td>205109</td>\n",
       "      <td>2</td>\n",
       "      <td>LA MAGDALENA I</td>\n",
       "      <td>-74,15971638349998</td>\n",
       "      <td>4,6538848121528105</td>\n",
       "    </tr>\n",
       "    <tr>\n",
       "      <th>1</th>\n",
       "      <td>1282</td>\n",
       "      <td>205227</td>\n",
       "      <td>2</td>\n",
       "      <td>OSORIO IX</td>\n",
       "      <td>-74,171430826</td>\n",
       "      <td>4,655330582652857</td>\n",
       "    </tr>\n",
       "    <tr>\n",
       "      <th>2</th>\n",
       "      <td>1284</td>\n",
       "      <td>105203</td>\n",
       "      <td>1</td>\n",
       "      <td>OSORIO II</td>\n",
       "      <td>-74,166000932</td>\n",
       "      <td>4,654956388652853</td>\n",
       "    </tr>\n",
       "    <tr>\n",
       "      <th>3</th>\n",
       "      <td>1285</td>\n",
       "      <td>201109</td>\n",
       "      <td>2</td>\n",
       "      <td>INGEMAR I</td>\n",
       "      <td>-74,05440703649998</td>\n",
       "      <td>4,639504332652364</td>\n",
       "    </tr>\n",
       "    <tr>\n",
       "      <th>4</th>\n",
       "      <td>1286</td>\n",
       "      <td>201110</td>\n",
       "      <td>2</td>\n",
       "      <td>INGEMAR ORIENTAL I</td>\n",
       "      <td>-74,0505909105</td>\n",
       "      <td>4,644192807152489</td>\n",
       "    </tr>\n",
       "  </tbody>\n",
       "</table>\n",
       "</div>"
      ],
      "text/plain": [
       "   OBJECTID  Identificador unico del sector catastral  \\\n",
       "0      1281                                    205109   \n",
       "1      1282                                    205227   \n",
       "2      1284                                    105203   \n",
       "3      1285                                    201109   \n",
       "4      1286                                    201110   \n",
       "\n",
       "   Tipo de sector catastral Nombre del sector catastral             coord_x  \\\n",
       "0                         2              LA MAGDALENA I  -74,15971638349998   \n",
       "1                         2                   OSORIO IX       -74,171430826   \n",
       "2                         1                   OSORIO II       -74,166000932   \n",
       "3                         2                   INGEMAR I  -74,05440703649998   \n",
       "4                         2          INGEMAR ORIENTAL I      -74,0505909105   \n",
       "\n",
       "              coord_y  \n",
       "0  4,6538848121528105  \n",
       "1   4,655330582652857  \n",
       "2   4,654956388652853  \n",
       "3   4,639504332652364  \n",
       "4   4,644192807152489  "
      ]
     },
     "execution_count": 9,
     "metadata": {},
     "output_type": "execute_result"
    }
   ],
   "source": [
    "df_barrios.head()"
   ]
  },
  {
   "cell_type": "markdown",
   "metadata": {},
   "source": [
    "## Limpiar columna \"barrio\""
   ]
  },
  {
   "cell_type": "code",
   "execution_count": 10,
   "metadata": {},
   "outputs": [],
   "source": [
    "UMBRAL = 0"
   ]
  },
  {
   "cell_type": "code",
   "execution_count": 11,
   "metadata": {},
   "outputs": [],
   "source": [
    "def arreglar_I(x):\n",
    "    if \" I\" in x[-2:]:\n",
    "        return x[:-2]\n",
    "    if \" II\" in x[-3:]:\n",
    "        return x[:-3]\n",
    "    if \" III\" in x[-4:]:\n",
    "        return x[:-4]\n",
    "    else:\n",
    "        return x"
   ]
  },
  {
   "cell_type": "code",
   "execution_count": 12,
   "metadata": {},
   "outputs": [],
   "source": [
    "def arreglar_loc_hurtos(x):\n",
    "    try:\n",
    "        return x.split(\" E-\")[1]\n",
    "    except:\n",
    "        print(x)"
   ]
  },
  {
   "cell_type": "code",
   "execution_count": 13,
   "metadata": {},
   "outputs": [],
   "source": [
    "df_hurtos[\"Localidad\"] = df_hurtos[\"Barrio\"].apply(arreglar_loc_hurtos)"
   ]
  },
  {
   "cell_type": "code",
   "execution_count": 14,
   "metadata": {},
   "outputs": [],
   "source": [
    "df_hurtos[\"Barrio\"] = df_hurtos[\"Barrio\"].apply(lambda x:x.split(\" E-\")[0])\n",
    "df_hurtos[\"Barrio\"] = df_hurtos[\"Barrio\"].apply(lambda x:x.replace(\" II \",\" \").replace(\" I \",\" \"))\n",
    "df_hurtos[\"Barrio\"] = df_hurtos[\"Barrio\"].apply(arreglar_I)\n",
    "df_hurtos[\"Barrio\"] = df_hurtos[\"Barrio\"].apply(lambda x:x\n",
    "                                                                                            .replace(\"LOS \",\"\")\n",
    "                                                                                            .replace(\"LAS \",\"\")\n",
    "                                                                                            .replace(\"EL \",\"\")\n",
    "                                                                                            .replace(\"LA \",\"\")\n",
    "                                                                                           )\n",
    "df_hurtos[\"Barrio\"] = df_hurtos[\"Barrio\"].apply(lambda x:x\n",
    "                                                                                            .replace(\" NOR-ORIENTAL\",\"\")\n",
    "                                                                                            .replace(\" SUR-ORIENTAL\",\"\")\n",
    "                                                                                            .replace(\" NOR-OCCIDENTAL\",\"\")\n",
    "                                                                                            .replace(\" SUR-OCCIDENTAL\",\"\")\n",
    "                                                                                            .replace(\" OCCIDENTAL\",\"\")\n",
    "                                                                                            .replace(\" ORIENTAL\",\"\")\n",
    "                                                                                            .replace(\" SUR\",\"\")\n",
    "                                                                                            .replace(\" NORTE\",\"\")\n",
    "                                                                                            .replace(\" CENTRO\",\"\")\n",
    "                                                                                            .replace(\" BAJO\",\"\")\n",
    "                                                                                            .replace(\" ALTO\",\"\")\n",
    "                                                                                            .replace(\" CENTRAL\",\"\")\n",
    "                                                                                            .replace(\" ETAPA\",\"\")\n",
    "                                                                                            .replace(\" SECTOR\",\"\")\n",
    "                                                                                           )"
   ]
  },
  {
   "cell_type": "code",
   "execution_count": 15,
   "metadata": {},
   "outputs": [],
   "source": [
    "df_barrios[\"Nombre del sector catastral\"] = df_barrios[\"Nombre del sector catastral\"].apply(lambda x:unidecode.unidecode(x))\n",
    "df_barrios[\"Nombre del sector catastral\"] = df_barrios[\"Nombre del sector catastral\"].apply(lambda x:x.replace(\" II\",\"\").replace(\" I\",\"\"))\n",
    "\"\"\"df_barrios[\"Nombre del sector catastral\"] = df_barrios[\"Nombre del sector catastral\"].apply(lambda x:x\n",
    "                                                                                            .replace(\" NOR-ORIENTAL\",\"\")\n",
    "                                                                                            .replace(\" SUR-ORIENTAL\",\"\")\n",
    "                                                                                            .replace(\" NOR-OCCIDENTAL\",\"\")\n",
    "                                                                                            .replace(\" SUR-OCCIDENTAL\",\"\")\n",
    "                                                                                            .replace(\" OCCIDENTAL\",\"\")\n",
    "                                                                                            .replace(\" ORIENTAL\",\"\")\n",
    "                                                                                            .replace(\" SUR\",\"\")\n",
    "                                                                                            .replace(\" NORTE\",\"\")\n",
    "                                                                                           )\"\"\"\n",
    "df_barrios[\"Nombre del sector catastral\"] = df_barrios[\"Nombre del sector catastral\"].apply(lambda x:x\n",
    "                                                                                            .replace(\"LOS \",\"\")\n",
    "                                                                                            .replace(\"LAS \",\"\")\n",
    "                                                                                            .replace(\"EL \",\"\")\n",
    "                                                                                            .replace(\"LA \",\"\")\n",
    "                                                                                           )"
   ]
  },
  {
   "cell_type": "code",
   "execution_count": 16,
   "metadata": {},
   "outputs": [
    {
     "data": {
      "text/plain": [
       "279"
      ]
     },
     "execution_count": 16,
     "metadata": {},
     "output_type": "execute_result"
    }
   ],
   "source": [
    "np.size(df_hurtos[\"Barrio\"].value_counts().loc[df_hurtos[\"Barrio\"].value_counts()>0])"
   ]
  },
  {
   "cell_type": "code",
   "execution_count": 17,
   "metadata": {},
   "outputs": [],
   "source": [
    "barrios_con_umbral = np.size(df_hurtos[\"Barrio\"].value_counts().loc[df_hurtos[\"Barrio\"].value_counts()>UMBRAL])"
   ]
  },
  {
   "cell_type": "code",
   "execution_count": 18,
   "metadata": {},
   "outputs": [
    {
     "data": {
      "text/plain": [
       "0             FAVORITA\n",
       "1             CARACOLI\n",
       "2           MARGARITAS\n",
       "3        GRAN BRITALIA\n",
       "4    ARBORIZADORA ALTA\n",
       "dtype: object"
      ]
     },
     "execution_count": 18,
     "metadata": {},
     "output_type": "execute_result"
    }
   ],
   "source": [
    "barrios_hurtos = pd.Series((df_hurtos[\"Barrio\"].value_counts().loc[df_hurtos[\"Barrio\"].value_counts()>UMBRAL]).index)\n",
    "barrios_hurtos.head()"
   ]
  },
  {
   "cell_type": "code",
   "execution_count": 19,
   "metadata": {},
   "outputs": [],
   "source": [
    "def arreglar(x):\n",
    "    resp = \"\"\n",
    "    for barrio in barrios_hurtos:\n",
    "        if barrio in x:\n",
    "            return barrio\n",
    "    return x"
   ]
  },
  {
   "cell_type": "code",
   "execution_count": 20,
   "metadata": {},
   "outputs": [],
   "source": [
    "df_barrios[\"Nombre del sector catastral\"] = df_barrios[\"Nombre del sector catastral\"].apply(arreglar)"
   ]
  },
  {
   "cell_type": "code",
   "execution_count": 21,
   "metadata": {},
   "outputs": [],
   "source": [
    "barrios_catastro = pd.Series(df_barrios[\"Nombre del sector catastral\"].unique())"
   ]
  },
  {
   "cell_type": "code",
   "execution_count": 22,
   "metadata": {},
   "outputs": [],
   "source": [
    "barrios_coincidencia = np.sum(barrios_hurtos.isin(barrios_catastro))"
   ]
  },
  {
   "cell_type": "code",
   "execution_count": 23,
   "metadata": {},
   "outputs": [
    {
     "name": "stdout",
     "output_type": "stream",
     "text": [
      "Barrios: 279\n",
      "Barrios coincidentes: 178\n",
      "% Coincidencia:\n",
      "0.6379928315412187\n"
     ]
    }
   ],
   "source": [
    "print(\"Barrios: %s\" % barrios_con_umbral)\n",
    "print(\"Barrios coincidentes: %s\" % barrios_coincidencia)\n",
    "print(\"% Coincidencia:\")\n",
    "print(barrios_coincidencia/barrios_con_umbral)"
   ]
  },
  {
   "cell_type": "code",
   "execution_count": 24,
   "metadata": {},
   "outputs": [
    {
     "data": {
      "text/plain": [
       "CANDELARIA III-IV          3\n",
       "MADELENA Y                 3\n",
       "GUACAMAYAS I-II            2\n",
       "CABAÑA                     2\n",
       "CARVAJAL                   2\n",
       "INDUSTRIAL PENSILVANIA     2\n",
       "VISTA HERMOSA CAPRI        2\n",
       "VEREDA TIBAQUE             2\n",
       "BILBAO                     2\n",
       "JAPON                      2\n",
       "VILDE COMUNEROS            2\n",
       "SAN JOSE A                 2\n",
       "SAN BERNARDO               2\n",
       "MANZANARES                 2\n",
       "MILLÁN SAUCES              2\n",
       "PEÑON DCORTIJO             2\n",
       "ALQUERIAS DE FRAGUA        2\n",
       "GAITANA                    2\n",
       "POA                        2\n",
       "VILHERMOSA                 2\n",
       "GRANJAS DE SAN PABLO       1\n",
       "COMPOSTELA                 1\n",
       "CENTRO INDUSTRIAL          1\n",
       "VILDDORADO                 1\n",
       "LIBERTADOR                 1\n",
       "ESTRELLITA                 1\n",
       "DIVINO ROSTRO              1\n",
       "CANTALEJO                  1\n",
       "VISTA HERMOSA ESPINAL      1\n",
       "RINCON DE BRITALIA         1\n",
       "                          ..\n",
       "SAN ANTONIO DE ENGATIVA    1\n",
       "BOSQUE IZQUIERDO           1\n",
       "TIBABITA                   1\n",
       "TUNALITO                   1\n",
       "MINUTO DE MARÍA            1\n",
       "BOSQUES DE SAN JOSE        1\n",
       "MARTIRES                   1\n",
       "ISMAPERDOMO                1\n",
       "ALFA                       1\n",
       "URB. SANTANDER             1\n",
       "TEJAR DONTARIO             1\n",
       "VILMARIA                   1\n",
       "MANITAS                    1\n",
       "CODITO                     1\n",
       "AMAPARO CAÑIZARES          1\n",
       "LIBERTAD III               1\n",
       "CONSUELO                   1\n",
       "TORCA                      1\n",
       "FORTALEZA                  1\n",
       "SAN CARPREDIO SAN JOSE     1\n",
       "BRILLANTE                  1\n",
       "NUEVA ESPAÑA               1\n",
       "SAN JUAN DE USME           1\n",
       "ORQUÍDEAS                  1\n",
       "VILGALANTE                 1\n",
       "VILALEMANIA                1\n",
       "AURES                      1\n",
       "LUCERO MEDIO               1\n",
       "ESPINOS                    1\n",
       "VEREDA MOCHUELO            1\n",
       "Name: Barrio, Length: 101, dtype: int64"
      ]
     },
     "execution_count": 24,
     "metadata": {},
     "output_type": "execute_result"
    }
   ],
   "source": [
    "df_hurtos.loc[df_hurtos[\"Barrio\"].isin(barrios_hurtos.loc[~barrios_hurtos.isin(barrios_catastro)])][\"Barrio\"].value_counts()"
   ]
  },
  {
   "cell_type": "code",
   "execution_count": 25,
   "metadata": {},
   "outputs": [
    {
     "data": {
      "text/plain": [
       "101"
      ]
     },
     "execution_count": 25,
     "metadata": {},
     "output_type": "execute_result"
    }
   ],
   "source": [
    "np.sum(~barrios_hurtos.isin(barrios_catastro))"
   ]
  },
  {
   "cell_type": "code",
   "execution_count": 26,
   "metadata": {},
   "outputs": [],
   "source": [
    "df_barrios[\"coord_x\"] = df_barrios[\"coord_x\"].apply(lambda x:float(x.replace(\",\",\".\")))\n",
    "df_barrios[\"coord_y\"] = df_barrios[\"coord_y\"].apply(lambda x:float(x.replace(\",\",\".\")))"
   ]
  },
  {
   "cell_type": "code",
   "execution_count": 27,
   "metadata": {},
   "outputs": [],
   "source": [
    "dict_localidades = {\n",
    "    'KENNEDY':\"8\",\n",
    "    'CHAPINERO':\"2\",\n",
    "    'SAN CRISTOBAL':\"4\",\n",
    "    'SANTA FE':\"3\",\n",
    "    'USME':\"5\",\n",
    "    'RAFAEL URIBE URIBE':\"18\",\n",
    "    'CIUDAD BOLIVAR':\"19\",\n",
    "    'ENGATIVA':\"10\",\n",
    "    'TEUSAQUILLO':\"13\",\n",
    "    'PUENTE ARANDA':\"16\",\n",
    "    'LOS MARTIRES':\"14\",\n",
    "    'BOSA':\"7\",\n",
    "    'ANTONIO NARIÑO':\"15\",\n",
    "    'USAQUEN':\"1\",\n",
    "    'FONTIBON':\"9\",\n",
    "    'BARRIOS UNIDOS':\"12\",\n",
    "    'TUNJUELITO':\"6\",\n",
    "    'SUBA':\"11\"\n",
    "}"
   ]
  },
  {
   "cell_type": "code",
   "execution_count": 28,
   "metadata": {},
   "outputs": [],
   "source": [
    "def get_localidad(x,y):\n",
    "    try:\n",
    "        resp = \"\"\n",
    "        p = Point(x,y)\n",
    "        for i in df.iterrows():\n",
    "            loc_name = i[1][\"LOC\"]\n",
    "            loc_pol = i[1][\"geometry\"]\n",
    "            if p.within(loc_pol):\n",
    "                resp = loc_name\n",
    "        return dict_localidades[resp]\n",
    "    except:\n",
    "        print(x, y)"
   ]
  },
  {
   "cell_type": "code",
   "execution_count": 29,
   "metadata": {},
   "outputs": [
    {
     "name": "stdout",
     "output_type": "stream",
     "text": [
      "-74.01923528699999 4.661020825153022\n"
     ]
    }
   ],
   "source": [
    "df_barrios[\"Localidad\"] = df_barrios.apply(lambda x:get_localidad(x[\"coord_x\"], x[\"coord_y\"]), axis=1)"
   ]
  },
  {
   "cell_type": "code",
   "execution_count": 30,
   "metadata": {},
   "outputs": [
    {
     "data": {
      "text/plain": [
       "array(['8', '2', '4', '3', '5', '18', '19', '10', '13', '16', '14', '7',\n",
       "       '15', '1', '9', '12', '6', '11', None], dtype=object)"
      ]
     },
     "execution_count": 30,
     "metadata": {},
     "output_type": "execute_result"
    }
   ],
   "source": [
    "df_barrios[\"Localidad\"].unique()"
   ]
  },
  {
   "cell_type": "code",
   "execution_count": 31,
   "metadata": {},
   "outputs": [
    {
     "data": {
      "text/plain": [
       "18"
      ]
     },
     "execution_count": 31,
     "metadata": {},
     "output_type": "execute_result"
    }
   ],
   "source": [
    "len(dict_localidades)"
   ]
  },
  {
   "cell_type": "code",
   "execution_count": 32,
   "metadata": {},
   "outputs": [],
   "source": [
    "df_hurtos[\"llave-barrio\"] = df_hurtos[\"Barrio\"] + \"-\" + df_hurtos[\"Localidad\"]"
   ]
  },
  {
   "cell_type": "code",
   "execution_count": 33,
   "metadata": {},
   "outputs": [
    {
     "data": {
      "text/html": [
       "<div>\n",
       "<style scoped>\n",
       "    .dataframe tbody tr th:only-of-type {\n",
       "        vertical-align: middle;\n",
       "    }\n",
       "\n",
       "    .dataframe tbody tr th {\n",
       "        vertical-align: top;\n",
       "    }\n",
       "\n",
       "    .dataframe thead th {\n",
       "        text-align: right;\n",
       "    }\n",
       "</style>\n",
       "<table border=\"1\" class=\"dataframe\">\n",
       "  <thead>\n",
       "    <tr style=\"text-align: right;\">\n",
       "      <th></th>\n",
       "      <th>Fecha</th>\n",
       "      <th>Departamento</th>\n",
       "      <th>Municipio</th>\n",
       "      <th>Día</th>\n",
       "      <th>Hora</th>\n",
       "      <th>Barrio</th>\n",
       "      <th>Zona</th>\n",
       "      <th>Clase de sitio</th>\n",
       "      <th>Arma empleada</th>\n",
       "      <th>Móvil Agresor</th>\n",
       "      <th>...</th>\n",
       "      <th>Sexo</th>\n",
       "      <th>Estado civil</th>\n",
       "      <th>País de nacimiento</th>\n",
       "      <th>Clase de empleado</th>\n",
       "      <th>Profesión</th>\n",
       "      <th>Escolaridad</th>\n",
       "      <th>Código DANE</th>\n",
       "      <th>Cantidad</th>\n",
       "      <th>Localidad</th>\n",
       "      <th>llave-barrio</th>\n",
       "    </tr>\n",
       "  </thead>\n",
       "  <tbody>\n",
       "    <tr>\n",
       "      <th>0</th>\n",
       "      <td>01/01/2018 12:00:00 AM</td>\n",
       "      <td>CUNDINAMARCA</td>\n",
       "      <td>BOGOTÁ D.C. (CT)</td>\n",
       "      <td>Lunes</td>\n",
       "      <td>1:00:00</td>\n",
       "      <td>SANTA LIBRADA</td>\n",
       "      <td>URBANA</td>\n",
       "      <td>VIAS PUBLICAS</td>\n",
       "      <td>ARMA BLANCA / CORTOPUNZANTE</td>\n",
       "      <td>A PIE</td>\n",
       "      <td>...</td>\n",
       "      <td>FEMENINO</td>\n",
       "      <td>SOLTERO</td>\n",
       "      <td>COLOMBIA</td>\n",
       "      <td>DESEMPLEADO</td>\n",
       "      <td>-</td>\n",
       "      <td>SECUNDARIA</td>\n",
       "      <td>11001000.0</td>\n",
       "      <td>1</td>\n",
       "      <td>5</td>\n",
       "      <td>SANTA LIBRADA-5</td>\n",
       "    </tr>\n",
       "    <tr>\n",
       "      <th>1</th>\n",
       "      <td>01/01/2018 12:00:00 AM</td>\n",
       "      <td>CUNDINAMARCA</td>\n",
       "      <td>BOGOTÁ D.C. (CT)</td>\n",
       "      <td>Lunes</td>\n",
       "      <td>5:30:00</td>\n",
       "      <td>TRES REYES -</td>\n",
       "      <td>URBANA</td>\n",
       "      <td>VIAS PUBLICAS</td>\n",
       "      <td>ARMA BLANCA / CORTOPUNZANTE</td>\n",
       "      <td>A PIE</td>\n",
       "      <td>...</td>\n",
       "      <td>MASCULINO</td>\n",
       "      <td>SOLTERO</td>\n",
       "      <td>COLOMBIA</td>\n",
       "      <td>DESEMPLEADO</td>\n",
       "      <td>-</td>\n",
       "      <td>SECUNDARIA</td>\n",
       "      <td>11001000.0</td>\n",
       "      <td>1</td>\n",
       "      <td>19</td>\n",
       "      <td>TRES REYES --19</td>\n",
       "    </tr>\n",
       "  </tbody>\n",
       "</table>\n",
       "<p>2 rows × 22 columns</p>\n",
       "</div>"
      ],
      "text/plain": [
       "                    Fecha  Departamento         Municipio    Día     Hora  \\\n",
       "0  01/01/2018 12:00:00 AM  CUNDINAMARCA  BOGOTÁ D.C. (CT)  Lunes  1:00:00   \n",
       "1  01/01/2018 12:00:00 AM  CUNDINAMARCA  BOGOTÁ D.C. (CT)  Lunes  5:30:00   \n",
       "\n",
       "          Barrio    Zona Clase de sitio                Arma empleada  \\\n",
       "0  SANTA LIBRADA  URBANA  VIAS PUBLICAS  ARMA BLANCA / CORTOPUNZANTE   \n",
       "1   TRES REYES -  URBANA  VIAS PUBLICAS  ARMA BLANCA / CORTOPUNZANTE   \n",
       "\n",
       "  Móvil Agresor       ...              Sexo  Estado civil País de nacimiento  \\\n",
       "0         A PIE       ...          FEMENINO       SOLTERO           COLOMBIA   \n",
       "1         A PIE       ...         MASCULINO       SOLTERO           COLOMBIA   \n",
       "\n",
       "  Clase de empleado Profesión Escolaridad Código DANE Cantidad  Localidad  \\\n",
       "0       DESEMPLEADO         -  SECUNDARIA  11001000.0        1          5   \n",
       "1       DESEMPLEADO         -  SECUNDARIA  11001000.0        1         19   \n",
       "\n",
       "      llave-barrio  \n",
       "0  SANTA LIBRADA-5  \n",
       "1  TRES REYES --19  \n",
       "\n",
       "[2 rows x 22 columns]"
      ]
     },
     "execution_count": 33,
     "metadata": {},
     "output_type": "execute_result"
    }
   ],
   "source": [
    "df_hurtos.head(2)"
   ]
  },
  {
   "cell_type": "code",
   "execution_count": 34,
   "metadata": {},
   "outputs": [],
   "source": [
    "df_barrios[\"llave-barrio\"] = df_barrios[\"Nombre del sector catastral\"] + \"-\" + df_barrios[\"Localidad\"]"
   ]
  },
  {
   "cell_type": "code",
   "execution_count": 35,
   "metadata": {},
   "outputs": [],
   "source": [
    "df_barrios = df_barrios.groupby(\"llave-barrio\").mean()[[\"coord_x\", \"coord_y\"]].reset_index()"
   ]
  },
  {
   "cell_type": "code",
   "execution_count": 36,
   "metadata": {},
   "outputs": [],
   "source": [
    "df_count = df_hurtos.groupby(\"llave-barrio\").count()[\"Fecha\"].to_frame().reset_index()"
   ]
  },
  {
   "cell_type": "code",
   "execution_count": 37,
   "metadata": {},
   "outputs": [],
   "source": [
    "df_def = pd.merge(df_count, df_barrios, on=\"llave-barrio\", how=\"inner\")"
   ]
  },
  {
   "cell_type": "code",
   "execution_count": 38,
   "metadata": {},
   "outputs": [
    {
     "data": {
      "text/plain": [
       "431"
      ]
     },
     "execution_count": 38,
     "metadata": {},
     "output_type": "execute_result"
    }
   ],
   "source": [
    "len(df_hurtos)"
   ]
  },
  {
   "cell_type": "code",
   "execution_count": 39,
   "metadata": {},
   "outputs": [
    {
     "data": {
      "text/plain": [
       "272"
      ]
     },
     "execution_count": 39,
     "metadata": {},
     "output_type": "execute_result"
    }
   ],
   "source": [
    "df_def[\"Fecha\"].sum()"
   ]
  },
  {
   "cell_type": "code",
   "execution_count": 40,
   "metadata": {},
   "outputs": [],
   "source": [
    "df_def.to_csv(\"./data/base_definitiva.csv\", index=False)"
   ]
  },
  {
   "cell_type": "code",
   "execution_count": 41,
   "metadata": {},
   "outputs": [],
   "source": [
    "max_amount = float(df_def['Fecha'].max())"
   ]
  },
  {
   "cell_type": "code",
   "execution_count": 42,
   "metadata": {},
   "outputs": [],
   "source": [
    "hmap = folium.Map(location=[4.6, -74.1], zoom_start=11)"
   ]
  },
  {
   "cell_type": "code",
   "execution_count": 43,
   "metadata": {},
   "outputs": [],
   "source": [
    "df_def.Fecha = df_def.Fecha.apply(lambda x:int(str(x)))"
   ]
  },
  {
   "cell_type": "code",
   "execution_count": 44,
   "metadata": {},
   "outputs": [],
   "source": [
    "hm_wide = HeatMap( list(zip(df_def.coord_x.values, df_def.coord_y.values, [int(x) for x in list(df_def.Fecha.values)])),\n",
    "                   min_opacity=0.2,\n",
    "                   max_val=max_amount,\n",
    "                   radius=17, blur=15, \n",
    "                   max_zoom=1, \n",
    "                 )"
   ]
  },
  {
   "cell_type": "code",
   "execution_count": 45,
   "metadata": {},
   "outputs": [],
   "source": [
    "hm_wide = HeatMap( list(zip(df_def.coord_y.values, df_def.coord_x.values, [int(x) for x in list(df_def.Fecha.values)])),\n",
    "                   min_opacity=0.2,\n",
    "                   max_val=max_amount,\n",
    "                   radius=17, blur=15, \n",
    "                   max_zoom=1, \n",
    "                 )"
   ]
  },
  {
   "cell_type": "code",
   "execution_count": 46,
   "metadata": {},
   "outputs": [
    {
     "data": {
      "text/html": [
       "<div style=\"width:100%;\"><div style=\"position:relative;width:100%;height:0;padding-bottom:60%;\"><iframe src=\"data:text/html;charset=utf-8;base64,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\" style=\"position:absolute;width:100%;height:100%;left:0;top:0;border:none !important;\" allowfullscreen webkitallowfullscreen mozallowfullscreen></iframe></div></div>"
      ],
      "text/plain": [
       "<folium.folium.Map at 0x1026389b0>"
      ]
     },
     "execution_count": 46,
     "metadata": {},
     "output_type": "execute_result"
    }
   ],
   "source": [
    "hmap.add_child(hm_wide)"
   ]
  },
  {
   "cell_type": "code",
   "execution_count": 47,
   "metadata": {},
   "outputs": [],
   "source": [
    "hmap.save('mapa_homicidios.html')"
   ]
  }
 ],
 "metadata": {
  "kernelspec": {
   "display_name": "Python 3",
   "language": "python",
   "name": "python3"
  },
  "language_info": {
   "codemirror_mode": {
    "name": "ipython",
    "version": 3
   },
   "file_extension": ".py",
   "mimetype": "text/x-python",
   "name": "python",
   "nbconvert_exporter": "python",
   "pygments_lexer": "ipython3",
   "version": "3.7.1"
  }
 },
 "nbformat": 4,
 "nbformat_minor": 2
}

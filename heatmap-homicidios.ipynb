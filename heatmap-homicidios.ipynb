{
 "cells": [
  {
   "cell_type": "code",
   "execution_count": 54,
   "metadata": {},
   "outputs": [],
   "source": [
    "import pandas as pd\n",
    "import numpy as np\n",
    "import unidecode\n",
    "import re\n",
    "from shapely.geometry import Point, Polygon\n",
    "import folium\n",
    "from folium.plugins import HeatMap"
   ]
  },
  {
   "cell_type": "code",
   "execution_count": 55,
   "metadata": {},
   "outputs": [],
   "source": [
    "import geopandas as gpd"
   ]
  },
  {
   "cell_type": "markdown",
   "metadata": {},
   "source": []
  },
  {
   "cell_type": "code",
   "execution_count": 56,
   "metadata": {},
   "outputs": [
    {
     "name": "stdout",
     "output_type": "stream",
     "text": [
      "<class 'geopandas.geodataframe.GeoDataFrame'>\n"
     ]
    },
    {
     "data": {
      "text/html": [
       "<div>\n",
       "<style scoped>\n",
       "    .dataframe tbody tr th:only-of-type {\n",
       "        vertical-align: middle;\n",
       "    }\n",
       "\n",
       "    .dataframe tbody tr th {\n",
       "        vertical-align: top;\n",
       "    }\n",
       "\n",
       "    .dataframe thead th {\n",
       "        text-align: right;\n",
       "    }\n",
       "</style>\n",
       "<table border=\"1\" class=\"dataframe\">\n",
       "  <thead>\n",
       "    <tr style=\"text-align: right;\">\n",
       "      <th></th>\n",
       "      <th>LOC</th>\n",
       "      <th>geometry</th>\n",
       "    </tr>\n",
       "  </thead>\n",
       "  <tbody>\n",
       "    <tr>\n",
       "      <th>0</th>\n",
       "      <td>ANTONIO NARIÑO</td>\n",
       "      <td>POLYGON ((-74.13075446257029 4.59335334662506,...</td>\n",
       "    </tr>\n",
       "    <tr>\n",
       "      <th>1</th>\n",
       "      <td>LA CANDELARIA</td>\n",
       "      <td>POLYGON ((-74.0662087260469 4.60317174214195, ...</td>\n",
       "    </tr>\n",
       "    <tr>\n",
       "      <th>2</th>\n",
       "      <td>CHAPINERO</td>\n",
       "      <td>POLYGON ((-74.0572470317838 4.68683629566918, ...</td>\n",
       "    </tr>\n",
       "    <tr>\n",
       "      <th>3</th>\n",
       "      <td>CIUDAD BOLIVAR</td>\n",
       "      <td>POLYGON ((-74.15216009957931 4.59975861479746,...</td>\n",
       "    </tr>\n",
       "    <tr>\n",
       "      <th>4</th>\n",
       "      <td>ENGATIVA</td>\n",
       "      <td>POLYGON ((-74.127379945115 4.73730502762603, -...</td>\n",
       "    </tr>\n",
       "  </tbody>\n",
       "</table>\n",
       "</div>"
      ],
      "text/plain": [
       "              LOC                                           geometry\n",
       "0  ANTONIO NARIÑO  POLYGON ((-74.13075446257029 4.59335334662506,...\n",
       "1   LA CANDELARIA  POLYGON ((-74.0662087260469 4.60317174214195, ...\n",
       "2       CHAPINERO  POLYGON ((-74.0572470317838 4.68683629566918, ...\n",
       "3  CIUDAD BOLIVAR  POLYGON ((-74.15216009957931 4.59975861479746,...\n",
       "4        ENGATIVA  POLYGON ((-74.127379945115 4.73730502762603, -..."
      ]
     },
     "execution_count": 56,
     "metadata": {},
     "output_type": "execute_result"
    }
   ],
   "source": [
    "fname = \"./data/loc.geojson\"\n",
    "\n",
    "df = gpd.read_file(fname)\n",
    "\n",
    "print(type(df))\n",
    "\n",
    "df.head()"
   ]
  },
  {
   "cell_type": "code",
   "execution_count": 57,
   "metadata": {},
   "outputs": [
    {
     "data": {
      "text/plain": [
       "'PABLO '"
      ]
     },
     "execution_count": 57,
     "metadata": {},
     "output_type": "execute_result"
    }
   ],
   "source": [
    "re.sub(r'I', '', \"PABLO I\")"
   ]
  },
  {
   "cell_type": "code",
   "execution_count": 58,
   "metadata": {},
   "outputs": [
    {
     "data": {
      "text/plain": [
       "431"
      ]
     },
     "execution_count": 58,
     "metadata": {},
     "output_type": "execute_result"
    }
   ],
   "source": [
    "df_hurtos = pd.read_csv(\"./data/homicidios_bogota_2018.csv\")\n",
    "len(df_hurtos)"
   ]
  },
  {
   "cell_type": "code",
   "execution_count": 59,
   "metadata": {},
   "outputs": [
    {
     "data": {
      "text/html": [
       "<div>\n",
       "<style scoped>\n",
       "    .dataframe tbody tr th:only-of-type {\n",
       "        vertical-align: middle;\n",
       "    }\n",
       "\n",
       "    .dataframe tbody tr th {\n",
       "        vertical-align: top;\n",
       "    }\n",
       "\n",
       "    .dataframe thead th {\n",
       "        text-align: right;\n",
       "    }\n",
       "</style>\n",
       "<table border=\"1\" class=\"dataframe\">\n",
       "  <thead>\n",
       "    <tr style=\"text-align: right;\">\n",
       "      <th></th>\n",
       "      <th>Fecha</th>\n",
       "      <th>Departamento</th>\n",
       "      <th>Municipio</th>\n",
       "      <th>Día</th>\n",
       "      <th>Hora</th>\n",
       "      <th>Barrio</th>\n",
       "      <th>Zona</th>\n",
       "      <th>Clase de sitio</th>\n",
       "      <th>Arma empleada</th>\n",
       "      <th>Móvil Agresor</th>\n",
       "      <th>Móvil Victima</th>\n",
       "      <th>Edad</th>\n",
       "      <th>Sexo</th>\n",
       "      <th>Estado civil</th>\n",
       "      <th>País de nacimiento</th>\n",
       "      <th>Clase de empleado</th>\n",
       "      <th>Profesión</th>\n",
       "      <th>Escolaridad</th>\n",
       "      <th>Código DANE</th>\n",
       "      <th>Cantidad</th>\n",
       "    </tr>\n",
       "  </thead>\n",
       "  <tbody>\n",
       "    <tr>\n",
       "      <th>0</th>\n",
       "      <td>01/01/2018 12:00:00 AM</td>\n",
       "      <td>CUNDINAMARCA</td>\n",
       "      <td>BOGOTÁ D.C. (CT)</td>\n",
       "      <td>Lunes</td>\n",
       "      <td>1:00:00</td>\n",
       "      <td>SANTA LIBRADA E-5</td>\n",
       "      <td>URBANA</td>\n",
       "      <td>VIAS PUBLICAS</td>\n",
       "      <td>ARMA BLANCA / CORTOPUNZANTE</td>\n",
       "      <td>A PIE</td>\n",
       "      <td>A PIE</td>\n",
       "      <td>22.0</td>\n",
       "      <td>FEMENINO</td>\n",
       "      <td>SOLTERO</td>\n",
       "      <td>COLOMBIA</td>\n",
       "      <td>DESEMPLEADO</td>\n",
       "      <td>-</td>\n",
       "      <td>SECUNDARIA</td>\n",
       "      <td>11001000.0</td>\n",
       "      <td>1</td>\n",
       "    </tr>\n",
       "    <tr>\n",
       "      <th>1</th>\n",
       "      <td>01/01/2018 12:00:00 AM</td>\n",
       "      <td>CUNDINAMARCA</td>\n",
       "      <td>BOGOTÁ D.C. (CT)</td>\n",
       "      <td>Lunes</td>\n",
       "      <td>5:30:00</td>\n",
       "      <td>LOS TRES REYES - I ETAPA E-19</td>\n",
       "      <td>URBANA</td>\n",
       "      <td>VIAS PUBLICAS</td>\n",
       "      <td>ARMA BLANCA / CORTOPUNZANTE</td>\n",
       "      <td>A PIE</td>\n",
       "      <td>A PIE</td>\n",
       "      <td>17.0</td>\n",
       "      <td>MASCULINO</td>\n",
       "      <td>SOLTERO</td>\n",
       "      <td>COLOMBIA</td>\n",
       "      <td>DESEMPLEADO</td>\n",
       "      <td>-</td>\n",
       "      <td>SECUNDARIA</td>\n",
       "      <td>11001000.0</td>\n",
       "      <td>1</td>\n",
       "    </tr>\n",
       "    <tr>\n",
       "      <th>2</th>\n",
       "      <td>01/01/2018 12:00:00 AM</td>\n",
       "      <td>CUNDINAMARCA</td>\n",
       "      <td>BOGOTÁ D.C. (CT)</td>\n",
       "      <td>Lunes</td>\n",
       "      <td>2:30:00</td>\n",
       "      <td>SAN ANTONIO E-15</td>\n",
       "      <td>URBANA</td>\n",
       "      <td>CASAS DE HABITACION</td>\n",
       "      <td>ARMA BLANCA / CORTOPUNZANTE</td>\n",
       "      <td>A PIE</td>\n",
       "      <td>A PIE</td>\n",
       "      <td>30.0</td>\n",
       "      <td>MASCULINO</td>\n",
       "      <td>UNION LIBRE</td>\n",
       "      <td>COLOMBIA</td>\n",
       "      <td>INDEPENDIENTE</td>\n",
       "      <td>-</td>\n",
       "      <td>SECUNDARIA</td>\n",
       "      <td>11001000.0</td>\n",
       "      <td>1</td>\n",
       "    </tr>\n",
       "    <tr>\n",
       "      <th>3</th>\n",
       "      <td>01/01/2018 12:00:00 AM</td>\n",
       "      <td>CUNDINAMARCA</td>\n",
       "      <td>BOGOTÁ D.C. (CT)</td>\n",
       "      <td>Lunes</td>\n",
       "      <td>2:35:00</td>\n",
       "      <td>CENTRO USME E-5</td>\n",
       "      <td>URBANA</td>\n",
       "      <td>VIAS PUBLICAS</td>\n",
       "      <td>ARMA BLANCA / CORTOPUNZANTE</td>\n",
       "      <td>A PIE</td>\n",
       "      <td>A PIE</td>\n",
       "      <td>24.0</td>\n",
       "      <td>MASCULINO</td>\n",
       "      <td>UNION LIBRE</td>\n",
       "      <td>COLOMBIA</td>\n",
       "      <td>EMPLEADO PARTICULAR</td>\n",
       "      <td>-</td>\n",
       "      <td>SECUNDARIA</td>\n",
       "      <td>11001000.0</td>\n",
       "      <td>1</td>\n",
       "    </tr>\n",
       "    <tr>\n",
       "      <th>4</th>\n",
       "      <td>01/01/2018 12:00:00 AM</td>\n",
       "      <td>CUNDINAMARCA</td>\n",
       "      <td>BOGOTÁ D.C. (CT)</td>\n",
       "      <td>Lunes</td>\n",
       "      <td>7:45:00</td>\n",
       "      <td>LA PRIMAVERA E-7</td>\n",
       "      <td>URBANA</td>\n",
       "      <td>VIAS PUBLICAS</td>\n",
       "      <td>ARMA BLANCA / CORTOPUNZANTE</td>\n",
       "      <td>A PIE</td>\n",
       "      <td>A PIE</td>\n",
       "      <td>43.0</td>\n",
       "      <td>MASCULINO</td>\n",
       "      <td>UNION LIBRE</td>\n",
       "      <td>COLOMBIA</td>\n",
       "      <td>DESEMPLEADO</td>\n",
       "      <td>-</td>\n",
       "      <td>SECUNDARIA</td>\n",
       "      <td>11001000.0</td>\n",
       "      <td>1</td>\n",
       "    </tr>\n",
       "  </tbody>\n",
       "</table>\n",
       "</div>"
      ],
      "text/plain": [
       "                    Fecha  Departamento         Municipio    Día     Hora  \\\n",
       "0  01/01/2018 12:00:00 AM  CUNDINAMARCA  BOGOTÁ D.C. (CT)  Lunes  1:00:00   \n",
       "1  01/01/2018 12:00:00 AM  CUNDINAMARCA  BOGOTÁ D.C. (CT)  Lunes  5:30:00   \n",
       "2  01/01/2018 12:00:00 AM  CUNDINAMARCA  BOGOTÁ D.C. (CT)  Lunes  2:30:00   \n",
       "3  01/01/2018 12:00:00 AM  CUNDINAMARCA  BOGOTÁ D.C. (CT)  Lunes  2:35:00   \n",
       "4  01/01/2018 12:00:00 AM  CUNDINAMARCA  BOGOTÁ D.C. (CT)  Lunes  7:45:00   \n",
       "\n",
       "                          Barrio    Zona       Clase de sitio  \\\n",
       "0              SANTA LIBRADA E-5  URBANA        VIAS PUBLICAS   \n",
       "1  LOS TRES REYES - I ETAPA E-19  URBANA        VIAS PUBLICAS   \n",
       "2               SAN ANTONIO E-15  URBANA  CASAS DE HABITACION   \n",
       "3                CENTRO USME E-5  URBANA        VIAS PUBLICAS   \n",
       "4               LA PRIMAVERA E-7  URBANA        VIAS PUBLICAS   \n",
       "\n",
       "                 Arma empleada Móvil Agresor Móvil Victima  Edad       Sexo  \\\n",
       "0  ARMA BLANCA / CORTOPUNZANTE         A PIE         A PIE  22.0   FEMENINO   \n",
       "1  ARMA BLANCA / CORTOPUNZANTE         A PIE         A PIE  17.0  MASCULINO   \n",
       "2  ARMA BLANCA / CORTOPUNZANTE         A PIE         A PIE  30.0  MASCULINO   \n",
       "3  ARMA BLANCA / CORTOPUNZANTE         A PIE         A PIE  24.0  MASCULINO   \n",
       "4  ARMA BLANCA / CORTOPUNZANTE         A PIE         A PIE  43.0  MASCULINO   \n",
       "\n",
       "  Estado civil País de nacimiento    Clase de empleado Profesión Escolaridad  \\\n",
       "0      SOLTERO           COLOMBIA          DESEMPLEADO         -  SECUNDARIA   \n",
       "1      SOLTERO           COLOMBIA          DESEMPLEADO         -  SECUNDARIA   \n",
       "2  UNION LIBRE           COLOMBIA        INDEPENDIENTE         -  SECUNDARIA   \n",
       "3  UNION LIBRE           COLOMBIA  EMPLEADO PARTICULAR         -  SECUNDARIA   \n",
       "4  UNION LIBRE           COLOMBIA          DESEMPLEADO         -  SECUNDARIA   \n",
       "\n",
       "   Código DANE  Cantidad  \n",
       "0   11001000.0         1  \n",
       "1   11001000.0         1  \n",
       "2   11001000.0         1  \n",
       "3   11001000.0         1  \n",
       "4   11001000.0         1  "
      ]
     },
     "execution_count": 59,
     "metadata": {},
     "output_type": "execute_result"
    }
   ],
   "source": [
    "df_hurtos.head()"
   ]
  },
  {
   "cell_type": "code",
   "execution_count": 60,
   "metadata": {},
   "outputs": [],
   "source": [
    "df_barrios = pd.read_csv(\"./data/barrios_bogota.csv\")"
   ]
  },
  {
   "cell_type": "code",
   "execution_count": 61,
   "metadata": {},
   "outputs": [
    {
     "data": {
      "text/html": [
       "<div>\n",
       "<style scoped>\n",
       "    .dataframe tbody tr th:only-of-type {\n",
       "        vertical-align: middle;\n",
       "    }\n",
       "\n",
       "    .dataframe tbody tr th {\n",
       "        vertical-align: top;\n",
       "    }\n",
       "\n",
       "    .dataframe thead th {\n",
       "        text-align: right;\n",
       "    }\n",
       "</style>\n",
       "<table border=\"1\" class=\"dataframe\">\n",
       "  <thead>\n",
       "    <tr style=\"text-align: right;\">\n",
       "      <th></th>\n",
       "      <th>OBJECTID</th>\n",
       "      <th>Identificador unico del sector catastral</th>\n",
       "      <th>Tipo de sector catastral</th>\n",
       "      <th>Nombre del sector catastral</th>\n",
       "      <th>coord_x</th>\n",
       "      <th>coord_y</th>\n",
       "    </tr>\n",
       "  </thead>\n",
       "  <tbody>\n",
       "    <tr>\n",
       "      <th>0</th>\n",
       "      <td>1281</td>\n",
       "      <td>205109</td>\n",
       "      <td>2</td>\n",
       "      <td>LA MAGDALENA I</td>\n",
       "      <td>-74,15971638349998</td>\n",
       "      <td>4,6538848121528105</td>\n",
       "    </tr>\n",
       "    <tr>\n",
       "      <th>1</th>\n",
       "      <td>1282</td>\n",
       "      <td>205227</td>\n",
       "      <td>2</td>\n",
       "      <td>OSORIO IX</td>\n",
       "      <td>-74,171430826</td>\n",
       "      <td>4,655330582652857</td>\n",
       "    </tr>\n",
       "    <tr>\n",
       "      <th>2</th>\n",
       "      <td>1284</td>\n",
       "      <td>105203</td>\n",
       "      <td>1</td>\n",
       "      <td>OSORIO II</td>\n",
       "      <td>-74,166000932</td>\n",
       "      <td>4,654956388652853</td>\n",
       "    </tr>\n",
       "    <tr>\n",
       "      <th>3</th>\n",
       "      <td>1285</td>\n",
       "      <td>201109</td>\n",
       "      <td>2</td>\n",
       "      <td>INGEMAR I</td>\n",
       "      <td>-74,05440703649998</td>\n",
       "      <td>4,639504332652364</td>\n",
       "    </tr>\n",
       "    <tr>\n",
       "      <th>4</th>\n",
       "      <td>1286</td>\n",
       "      <td>201110</td>\n",
       "      <td>2</td>\n",
       "      <td>INGEMAR ORIENTAL I</td>\n",
       "      <td>-74,0505909105</td>\n",
       "      <td>4,644192807152489</td>\n",
       "    </tr>\n",
       "  </tbody>\n",
       "</table>\n",
       "</div>"
      ],
      "text/plain": [
       "   OBJECTID  Identificador unico del sector catastral  \\\n",
       "0      1281                                    205109   \n",
       "1      1282                                    205227   \n",
       "2      1284                                    105203   \n",
       "3      1285                                    201109   \n",
       "4      1286                                    201110   \n",
       "\n",
       "   Tipo de sector catastral Nombre del sector catastral             coord_x  \\\n",
       "0                         2              LA MAGDALENA I  -74,15971638349998   \n",
       "1                         2                   OSORIO IX       -74,171430826   \n",
       "2                         1                   OSORIO II       -74,166000932   \n",
       "3                         2                   INGEMAR I  -74,05440703649998   \n",
       "4                         2          INGEMAR ORIENTAL I      -74,0505909105   \n",
       "\n",
       "              coord_y  \n",
       "0  4,6538848121528105  \n",
       "1   4,655330582652857  \n",
       "2   4,654956388652853  \n",
       "3   4,639504332652364  \n",
       "4   4,644192807152489  "
      ]
     },
     "execution_count": 61,
     "metadata": {},
     "output_type": "execute_result"
    }
   ],
   "source": [
    "df_barrios.head()"
   ]
  },
  {
   "cell_type": "markdown",
   "metadata": {},
   "source": [
    "## Limpiar columna \"barrio\""
   ]
  },
  {
   "cell_type": "code",
   "execution_count": 62,
   "metadata": {},
   "outputs": [],
   "source": [
    "UMBRAL = 0"
   ]
  },
  {
   "cell_type": "code",
   "execution_count": 63,
   "metadata": {},
   "outputs": [],
   "source": [
    "def arreglar_I(x):\n",
    "    if \" I\" in x[-2:]:\n",
    "        return x[:-2]\n",
    "    if \" II\" in x[-3:]:\n",
    "        return x[:-3]\n",
    "    if \" III\" in x[-4:]:\n",
    "        return x[:-4]\n",
    "    else:\n",
    "        return x"
   ]
  },
  {
   "cell_type": "code",
   "execution_count": 64,
   "metadata": {},
   "outputs": [],
   "source": [
    "def arreglar_loc_hurtos(x):\n",
    "    try:\n",
    "        return x.split(\" E-\")[1]\n",
    "    except:\n",
    "        print(x)"
   ]
  },
  {
   "cell_type": "code",
   "execution_count": 65,
   "metadata": {},
   "outputs": [],
   "source": [
    "df_hurtos[\"Localidad\"] = df_hurtos[\"Barrio\"].apply(arreglar_loc_hurtos)"
   ]
  },
  {
   "cell_type": "code",
   "execution_count": 66,
   "metadata": {},
   "outputs": [],
   "source": [
    "df_hurtos[\"Barrio\"] = df_hurtos[\"Barrio\"].apply(lambda x:x.split(\" E-\")[0])\n",
    "df_hurtos[\"Barrio\"] = df_hurtos[\"Barrio\"].apply(lambda x:x.replace(\" II \",\" \").replace(\" I \",\" \"))\n",
    "df_hurtos[\"Barrio\"] = df_hurtos[\"Barrio\"].apply(arreglar_I)\n",
    "df_hurtos[\"Barrio\"] = df_hurtos[\"Barrio\"].apply(lambda x:x\n",
    "                                                                                            .replace(\"LOS \",\"\")\n",
    "                                                                                            .replace(\"LAS \",\"\")\n",
    "                                                                                            .replace(\"EL \",\"\")\n",
    "                                                                                            .replace(\"LA \",\"\")\n",
    "                                                                                           )\n",
    "df_hurtos[\"Barrio\"] = df_hurtos[\"Barrio\"].apply(lambda x:x\n",
    "                                                                                            .replace(\" NOR-ORIENTAL\",\"\")\n",
    "                                                                                            .replace(\" SUR-ORIENTAL\",\"\")\n",
    "                                                                                            .replace(\" NOR-OCCIDENTAL\",\"\")\n",
    "                                                                                            .replace(\" SUR-OCCIDENTAL\",\"\")\n",
    "                                                                                            .replace(\" OCCIDENTAL\",\"\")\n",
    "                                                                                            .replace(\" ORIENTAL\",\"\")\n",
    "                                                                                            .replace(\" SUR\",\"\")\n",
    "                                                                                            .replace(\" NORTE\",\"\")\n",
    "                                                                                            .replace(\" CENTRO\",\"\")\n",
    "                                                                                            .replace(\" BAJO\",\"\")\n",
    "                                                                                            .replace(\" ALTO\",\"\")\n",
    "                                                                                            .replace(\" CENTRAL\",\"\")\n",
    "                                                                                            .replace(\" ETAPA\",\"\")\n",
    "                                                                                            .replace(\" SECTOR\",\"\")\n",
    "                                                                                           )"
   ]
  },
  {
   "cell_type": "code",
   "execution_count": 67,
   "metadata": {},
   "outputs": [],
   "source": [
    "df_barrios[\"Nombre del sector catastral\"] = df_barrios[\"Nombre del sector catastral\"].apply(lambda x:unidecode.unidecode(x))\n",
    "df_barrios[\"Nombre del sector catastral\"] = df_barrios[\"Nombre del sector catastral\"].apply(lambda x:x.replace(\" II\",\"\").replace(\" I\",\"\"))\n",
    "\"\"\"df_barrios[\"Nombre del sector catastral\"] = df_barrios[\"Nombre del sector catastral\"].apply(lambda x:x\n",
    "                                                                                            .replace(\" NOR-ORIENTAL\",\"\")\n",
    "                                                                                            .replace(\" SUR-ORIENTAL\",\"\")\n",
    "                                                                                            .replace(\" NOR-OCCIDENTAL\",\"\")\n",
    "                                                                                            .replace(\" SUR-OCCIDENTAL\",\"\")\n",
    "                                                                                            .replace(\" OCCIDENTAL\",\"\")\n",
    "                                                                                            .replace(\" ORIENTAL\",\"\")\n",
    "                                                                                            .replace(\" SUR\",\"\")\n",
    "                                                                                            .replace(\" NORTE\",\"\")\n",
    "                                                                                           )\"\"\"\n",
    "df_barrios[\"Nombre del sector catastral\"] = df_barrios[\"Nombre del sector catastral\"].apply(lambda x:x\n",
    "                                                                                            .replace(\"LOS \",\"\")\n",
    "                                                                                            .replace(\"LAS \",\"\")\n",
    "                                                                                            .replace(\"EL \",\"\")\n",
    "                                                                                            .replace(\"LA \",\"\")\n",
    "                                                                                           )"
   ]
  },
  {
   "cell_type": "code",
   "execution_count": 68,
   "metadata": {},
   "outputs": [
    {
     "data": {
      "text/plain": [
       "279"
      ]
     },
     "execution_count": 68,
     "metadata": {},
     "output_type": "execute_result"
    }
   ],
   "source": [
    "np.size(df_hurtos[\"Barrio\"].value_counts().loc[df_hurtos[\"Barrio\"].value_counts()>0])"
   ]
  },
  {
   "cell_type": "code",
   "execution_count": 69,
   "metadata": {},
   "outputs": [],
   "source": [
    "barrios_con_umbral = np.size(df_hurtos[\"Barrio\"].value_counts().loc[df_hurtos[\"Barrio\"].value_counts()>UMBRAL])"
   ]
  },
  {
   "cell_type": "code",
   "execution_count": 70,
   "metadata": {},
   "outputs": [
    {
     "data": {
      "text/plain": [
       "0         FAVORITA\n",
       "1         CARACOLI\n",
       "2            QUIBA\n",
       "3       MARGARITAS\n",
       "4    GRAN BRITALIA\n",
       "dtype: object"
      ]
     },
     "execution_count": 70,
     "metadata": {},
     "output_type": "execute_result"
    }
   ],
   "source": [
    "barrios_hurtos = pd.Series((df_hurtos[\"Barrio\"].value_counts().loc[df_hurtos[\"Barrio\"].value_counts()>UMBRAL]).index)\n",
    "barrios_hurtos.head()"
   ]
  },
  {
   "cell_type": "code",
   "execution_count": 71,
   "metadata": {},
   "outputs": [],
   "source": [
    "def arreglar(x):\n",
    "    resp = \"\"\n",
    "    for barrio in barrios_hurtos:\n",
    "        if barrio in x:\n",
    "            return barrio\n",
    "    return x"
   ]
  },
  {
   "cell_type": "code",
   "execution_count": 72,
   "metadata": {},
   "outputs": [],
   "source": [
    "df_barrios[\"Nombre del sector catastral\"] = df_barrios[\"Nombre del sector catastral\"].apply(arreglar)"
   ]
  },
  {
   "cell_type": "code",
   "execution_count": 73,
   "metadata": {},
   "outputs": [],
   "source": [
    "barrios_catastro = pd.Series(df_barrios[\"Nombre del sector catastral\"].unique())"
   ]
  },
  {
   "cell_type": "code",
   "execution_count": 74,
   "metadata": {},
   "outputs": [],
   "source": [
    "barrios_coincidencia = np.sum(barrios_hurtos.isin(barrios_catastro))"
   ]
  },
  {
   "cell_type": "code",
   "execution_count": 75,
   "metadata": {},
   "outputs": [
    {
     "name": "stdout",
     "output_type": "stream",
     "text": [
      "Barrios: 279\n",
      "Barrios coincidentes: 179\n",
      "% Coincidencia:\n",
      "0.6415770609318996\n"
     ]
    }
   ],
   "source": [
    "print(\"Barrios: %s\" % barrios_con_umbral)\n",
    "print(\"Barrios coincidentes: %s\" % barrios_coincidencia)\n",
    "print(\"% Coincidencia:\")\n",
    "print(barrios_coincidencia/barrios_con_umbral)"
   ]
  },
  {
   "cell_type": "code",
   "execution_count": 99,
   "metadata": {},
   "outputs": [
    {
     "data": {
      "text/plain": [
       "FAVORITA                9\n",
       "CARACOLI                6\n",
       "GRAN BRITALIA           5\n",
       "ARBORIZADORA ALTA       5\n",
       "MARGARITAS              5\n",
       "QUIBA                   5\n",
       "PRIMAVERA               4\n",
       "PATIO BONITO            4\n",
       "ESTANZUELA              4\n",
       "MOCHUELO                4\n",
       "DIANA TURBAY            4\n",
       "RESTREPO                4\n",
       "JUAN REY                4\n",
       "SAN FRANCISCO           4\n",
       "ALPES                   4\n",
       "LLANO GRANDE            3\n",
       "ARABIA                  3\n",
       "SIERRA MORENA           3\n",
       "VILDPROGRESO            3\n",
       "CIUDAD KENNEDY          3\n",
       "MARIA PAZ               3\n",
       "VICTORIA                3\n",
       "TINTAL                  3\n",
       "PARAISO                 3\n",
       "LUCERO                  3\n",
       "CLASS                   3\n",
       "CIUDAD DE CALI          3\n",
       "LIBERTAD                3\n",
       "BRASILIA                3\n",
       "MOLINOS DSUR            3\n",
       "                       ..\n",
       "CHUNIZA                 1\n",
       "SANTA CECILIA           1\n",
       "FLORIDA BLANCA          1\n",
       "MERCEDES                1\n",
       "GLORIA                  1\n",
       "QUINTAS DSUR            1\n",
       "TEUSAQUILLO             1\n",
       "SOTAVENTO               1\n",
       "GUADALUPE               1\n",
       "LAURELES                1\n",
       "SAN CRISTOBAL           1\n",
       "ALTAMIRA                1\n",
       "CAPELLANIA              1\n",
       "NACIONES UNIDAS         1\n",
       "PERDOMO                 1\n",
       "CATEDRAL                1\n",
       "NORMANDIA               1\n",
       "BACHUE                  1\n",
       "ENGATIVA ZONA URBANA    1\n",
       "SANTA LUCIA             1\n",
       "SAUCES                  1\n",
       "DANUBIO AZUL            1\n",
       "PICOTA                  1\n",
       "FATIMA                  1\n",
       "SAMORE                  1\n",
       "BELFLOR                 1\n",
       "VITELMA                 1\n",
       "CHAPINERITO             1\n",
       "SAUCEDAL                1\n",
       "GALICIA                 1\n",
       "Name: Barrio, Length: 179, dtype: int64"
      ]
     },
     "execution_count": 99,
     "metadata": {},
     "output_type": "execute_result"
    }
   ],
   "source": [
    "df_hurtos.loc[df_hurtos[\"Barrio\"].isin(barrios_hurtos.loc[~barrios_hurtos.isin(barrios_catastro)])][\"Barrio\"].value_counts()"
   ]
  },
  {
   "cell_type": "code",
   "execution_count": 77,
   "metadata": {},
   "outputs": [
    {
     "data": {
      "text/plain": [
       "100"
      ]
     },
     "execution_count": 77,
     "metadata": {},
     "output_type": "execute_result"
    }
   ],
   "source": [
    "np.sum(~barrios_hurtos.isin(barrios_catastro))"
   ]
  },
  {
   "cell_type": "code",
   "execution_count": 78,
   "metadata": {},
   "outputs": [],
   "source": [
    "df_barrios[\"coord_x\"] = df_barrios[\"coord_x\"].apply(lambda x:float(x.replace(\",\",\".\")))\n",
    "df_barrios[\"coord_y\"] = df_barrios[\"coord_y\"].apply(lambda x:float(x.replace(\",\",\".\")))"
   ]
  },
  {
   "cell_type": "code",
   "execution_count": 79,
   "metadata": {},
   "outputs": [],
   "source": [
    "dict_localidades = {\n",
    "    'KENNEDY':\"8\",\n",
    "    'CHAPINERO':\"2\",\n",
    "    'SAN CRISTOBAL':\"4\",\n",
    "    'SANTA FE':\"3\",\n",
    "    'USME':\"5\",\n",
    "    'RAFAEL URIBE URIBE':\"18\",\n",
    "    'CIUDAD BOLIVAR':\"19\",\n",
    "    'ENGATIVA':\"10\",\n",
    "    'TEUSAQUILLO':\"13\",\n",
    "    'PUENTE ARANDA':\"16\",\n",
    "    'LOS MARTIRES':\"14\",\n",
    "    'BOSA':\"7\",\n",
    "    'ANTONIO NARIÑO':\"15\",\n",
    "    'USAQUEN':\"1\",\n",
    "    'FONTIBON':\"9\",\n",
    "    'BARRIOS UNIDOS':\"12\",\n",
    "    'TUNJUELITO':\"6\",\n",
    "    'SUBA':\"11\"\n",
    "}"
   ]
  },
  {
   "cell_type": "code",
   "execution_count": 80,
   "metadata": {},
   "outputs": [],
   "source": [
    "def get_localidad(x,y):\n",
    "    try:\n",
    "        resp = \"\"\n",
    "        p = Point(x,y)\n",
    "        for i in df.iterrows():\n",
    "            loc_name = i[1][\"LOC\"]\n",
    "            loc_pol = i[1][\"geometry\"]\n",
    "            if p.within(loc_pol):\n",
    "                resp = loc_name\n",
    "        return dict_localidades[resp]\n",
    "    except:\n",
    "        print(x, y)"
   ]
  },
  {
   "cell_type": "code",
   "execution_count": 81,
   "metadata": {},
   "outputs": [
    {
     "name": "stdout",
     "output_type": "stream",
     "text": [
      "-74.01923528699999 4.661020825153022\n"
     ]
    }
   ],
   "source": [
    "df_barrios[\"Localidad\"] = df_barrios.apply(lambda x:get_localidad(x[\"coord_x\"], x[\"coord_y\"]), axis=1)"
   ]
  },
  {
   "cell_type": "code",
   "execution_count": 82,
   "metadata": {},
   "outputs": [
    {
     "data": {
      "text/plain": [
       "array(['8', '2', '4', '3', '5', '18', '19', '10', '13', '16', '14', '7',\n",
       "       '15', '1', '9', '12', '6', '11', None], dtype=object)"
      ]
     },
     "execution_count": 82,
     "metadata": {},
     "output_type": "execute_result"
    }
   ],
   "source": [
    "df_barrios[\"Localidad\"].unique()"
   ]
  },
  {
   "cell_type": "code",
   "execution_count": 83,
   "metadata": {},
   "outputs": [
    {
     "data": {
      "text/plain": [
       "18"
      ]
     },
     "execution_count": 83,
     "metadata": {},
     "output_type": "execute_result"
    }
   ],
   "source": [
    "len(dict_localidades)"
   ]
  },
  {
   "cell_type": "code",
   "execution_count": 84,
   "metadata": {},
   "outputs": [],
   "source": [
    "df_hurtos[\"llave-barrio\"] = df_hurtos[\"Barrio\"] + \"-\" + df_hurtos[\"Localidad\"]"
   ]
  },
  {
   "cell_type": "code",
   "execution_count": 85,
   "metadata": {},
   "outputs": [
    {
     "data": {
      "text/html": [
       "<div>\n",
       "<style scoped>\n",
       "    .dataframe tbody tr th:only-of-type {\n",
       "        vertical-align: middle;\n",
       "    }\n",
       "\n",
       "    .dataframe tbody tr th {\n",
       "        vertical-align: top;\n",
       "    }\n",
       "\n",
       "    .dataframe thead th {\n",
       "        text-align: right;\n",
       "    }\n",
       "</style>\n",
       "<table border=\"1\" class=\"dataframe\">\n",
       "  <thead>\n",
       "    <tr style=\"text-align: right;\">\n",
       "      <th></th>\n",
       "      <th>Fecha</th>\n",
       "      <th>Departamento</th>\n",
       "      <th>Municipio</th>\n",
       "      <th>Día</th>\n",
       "      <th>Hora</th>\n",
       "      <th>Barrio</th>\n",
       "      <th>Zona</th>\n",
       "      <th>Clase de sitio</th>\n",
       "      <th>Arma empleada</th>\n",
       "      <th>Móvil Agresor</th>\n",
       "      <th>...</th>\n",
       "      <th>Sexo</th>\n",
       "      <th>Estado civil</th>\n",
       "      <th>País de nacimiento</th>\n",
       "      <th>Clase de empleado</th>\n",
       "      <th>Profesión</th>\n",
       "      <th>Escolaridad</th>\n",
       "      <th>Código DANE</th>\n",
       "      <th>Cantidad</th>\n",
       "      <th>Localidad</th>\n",
       "      <th>llave-barrio</th>\n",
       "    </tr>\n",
       "  </thead>\n",
       "  <tbody>\n",
       "    <tr>\n",
       "      <th>0</th>\n",
       "      <td>01/01/2018 12:00:00 AM</td>\n",
       "      <td>CUNDINAMARCA</td>\n",
       "      <td>BOGOTÁ D.C. (CT)</td>\n",
       "      <td>Lunes</td>\n",
       "      <td>1:00:00</td>\n",
       "      <td>SANTA LIBRADA</td>\n",
       "      <td>URBANA</td>\n",
       "      <td>VIAS PUBLICAS</td>\n",
       "      <td>ARMA BLANCA / CORTOPUNZANTE</td>\n",
       "      <td>A PIE</td>\n",
       "      <td>...</td>\n",
       "      <td>FEMENINO</td>\n",
       "      <td>SOLTERO</td>\n",
       "      <td>COLOMBIA</td>\n",
       "      <td>DESEMPLEADO</td>\n",
       "      <td>-</td>\n",
       "      <td>SECUNDARIA</td>\n",
       "      <td>11001000.0</td>\n",
       "      <td>1</td>\n",
       "      <td>5</td>\n",
       "      <td>SANTA LIBRADA-5</td>\n",
       "    </tr>\n",
       "    <tr>\n",
       "      <th>1</th>\n",
       "      <td>01/01/2018 12:00:00 AM</td>\n",
       "      <td>CUNDINAMARCA</td>\n",
       "      <td>BOGOTÁ D.C. (CT)</td>\n",
       "      <td>Lunes</td>\n",
       "      <td>5:30:00</td>\n",
       "      <td>TRES REYES -</td>\n",
       "      <td>URBANA</td>\n",
       "      <td>VIAS PUBLICAS</td>\n",
       "      <td>ARMA BLANCA / CORTOPUNZANTE</td>\n",
       "      <td>A PIE</td>\n",
       "      <td>...</td>\n",
       "      <td>MASCULINO</td>\n",
       "      <td>SOLTERO</td>\n",
       "      <td>COLOMBIA</td>\n",
       "      <td>DESEMPLEADO</td>\n",
       "      <td>-</td>\n",
       "      <td>SECUNDARIA</td>\n",
       "      <td>11001000.0</td>\n",
       "      <td>1</td>\n",
       "      <td>19</td>\n",
       "      <td>TRES REYES --19</td>\n",
       "    </tr>\n",
       "  </tbody>\n",
       "</table>\n",
       "<p>2 rows × 22 columns</p>\n",
       "</div>"
      ],
      "text/plain": [
       "                    Fecha  Departamento         Municipio    Día     Hora  \\\n",
       "0  01/01/2018 12:00:00 AM  CUNDINAMARCA  BOGOTÁ D.C. (CT)  Lunes  1:00:00   \n",
       "1  01/01/2018 12:00:00 AM  CUNDINAMARCA  BOGOTÁ D.C. (CT)  Lunes  5:30:00   \n",
       "\n",
       "          Barrio    Zona Clase de sitio                Arma empleada  \\\n",
       "0  SANTA LIBRADA  URBANA  VIAS PUBLICAS  ARMA BLANCA / CORTOPUNZANTE   \n",
       "1   TRES REYES -  URBANA  VIAS PUBLICAS  ARMA BLANCA / CORTOPUNZANTE   \n",
       "\n",
       "  Móvil Agresor       ...              Sexo  Estado civil País de nacimiento  \\\n",
       "0         A PIE       ...          FEMENINO       SOLTERO           COLOMBIA   \n",
       "1         A PIE       ...         MASCULINO       SOLTERO           COLOMBIA   \n",
       "\n",
       "  Clase de empleado Profesión Escolaridad Código DANE Cantidad  Localidad  \\\n",
       "0       DESEMPLEADO         -  SECUNDARIA  11001000.0        1          5   \n",
       "1       DESEMPLEADO         -  SECUNDARIA  11001000.0        1         19   \n",
       "\n",
       "      llave-barrio  \n",
       "0  SANTA LIBRADA-5  \n",
       "1  TRES REYES --19  \n",
       "\n",
       "[2 rows x 22 columns]"
      ]
     },
     "execution_count": 85,
     "metadata": {},
     "output_type": "execute_result"
    }
   ],
   "source": [
    "df_hurtos.head(2)"
   ]
  },
  {
   "cell_type": "code",
   "execution_count": 86,
   "metadata": {},
   "outputs": [],
   "source": [
    "df_barrios[\"llave-barrio\"] = df_barrios[\"Nombre del sector catastral\"] + \"-\" + df_barrios[\"Localidad\"]"
   ]
  },
  {
   "cell_type": "code",
   "execution_count": 87,
   "metadata": {},
   "outputs": [],
   "source": [
    "df_barrios = df_barrios.groupby(\"llave-barrio\").mean()[[\"coord_x\", \"coord_y\"]].reset_index()"
   ]
  },
  {
   "cell_type": "code",
   "execution_count": 88,
   "metadata": {},
   "outputs": [],
   "source": [
    "df_count = df_hurtos.groupby(\"llave-barrio\").count()[\"Fecha\"].to_frame().reset_index()"
   ]
  },
  {
   "cell_type": "code",
   "execution_count": 89,
   "metadata": {},
   "outputs": [],
   "source": [
    "df_def = pd.merge(df_count, df_barrios, on=\"llave-barrio\", how=\"inner\")"
   ]
  },
  {
   "cell_type": "code",
   "execution_count": 90,
   "metadata": {},
   "outputs": [
    {
     "data": {
      "text/plain": [
       "431"
      ]
     },
     "execution_count": 90,
     "metadata": {},
     "output_type": "execute_result"
    }
   ],
   "source": [
    "len(df_hurtos)"
   ]
  },
  {
   "cell_type": "code",
   "execution_count": 91,
   "metadata": {},
   "outputs": [
    {
     "data": {
      "text/plain": [
       "272"
      ]
     },
     "execution_count": 91,
     "metadata": {},
     "output_type": "execute_result"
    }
   ],
   "source": [
    "df_def[\"Fecha\"].sum()"
   ]
  },
  {
   "cell_type": "code",
   "execution_count": 92,
   "metadata": {},
   "outputs": [],
   "source": [
    "df_def.to_csv(\"./data/base_definitiva.csv\", index=False)"
   ]
  },
  {
   "cell_type": "code",
   "execution_count": 93,
   "metadata": {},
   "outputs": [],
   "source": [
    "max_amount = float(df_def['Fecha'].max())"
   ]
  },
  {
   "cell_type": "code",
   "execution_count": 94,
   "metadata": {},
   "outputs": [],
   "source": [
    "hmap = folium.Map(location=[42.5, -75.5], zoom_start=7)"
   ]
  },
  {
   "cell_type": "code",
   "execution_count": 95,
   "metadata": {},
   "outputs": [],
   "source": [
    "df_def.Fecha = df_def.Fecha.apply(lambda x:int(str(x)))"
   ]
  },
  {
   "cell_type": "code",
   "execution_count": 96,
   "metadata": {},
   "outputs": [],
   "source": [
    "hm_wide = HeatMap( list(zip(df_def.coord_x.values, df_def.coord_y.values, [int(x) for x in list(df_def.Fecha.values)])),\n",
    "                   min_opacity=0.2,\n",
    "                   max_val=max_amount,\n",
    "                   radius=17, blur=15, \n",
    "                   max_zoom=1, \n",
    "                 )"
   ]
  },
  {
   "cell_type": "code",
   "execution_count": 97,
   "metadata": {},
   "outputs": [],
   "source": [
    "hm_wide = HeatMap( list(zip(df_def.coord_y.values, df_def.coord_x.values, [int(x) for x in list(df_def.Fecha.values)])),\n",
    "                   min_opacity=0.2,\n",
    "                   max_val=max_amount,\n",
    "                   radius=17, blur=15, \n",
    "                   max_zoom=1, \n",
    "                 )"
   ]
  },
  {
   "cell_type": "code",
   "execution_count": 98,
   "metadata": {},
   "outputs": [
    {
     "data": {
      "text/html": [
       "<div style=\"width:100%;\"><div style=\"position:relative;width:100%;height:0;padding-bottom:60%;\"><iframe src=\"data:text/html;charset=utf-8;base64,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\" style=\"position:absolute;width:100%;height:100%;left:0;top:0;border:none !important;\" allowfullscreen webkitallowfullscreen mozallowfullscreen></iframe></div></div>"
      ],
      "text/plain": [
       "<folium.folium.Map at 0x12079c2e8>"
      ]
     },
     "execution_count": 98,
     "metadata": {},
     "output_type": "execute_result"
    }
   ],
   "source": [
    "hmap.add_child(hm_wide)"
   ]
  }
 ],
 "metadata": {
  "kernelspec": {
   "display_name": "Python 3",
   "language": "python",
   "name": "python3"
  },
  "language_info": {
   "codemirror_mode": {
    "name": "ipython",
    "version": 3
   },
   "file_extension": ".py",
   "mimetype": "text/x-python",
   "name": "python",
   "nbconvert_exporter": "python",
   "pygments_lexer": "ipython3",
   "version": "3.7.1"
  }
 },
 "nbformat": 4,
 "nbformat_minor": 2
}

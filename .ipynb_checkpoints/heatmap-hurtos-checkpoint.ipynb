{
 "cells": [
  {
   "cell_type": "code",
   "execution_count": 98,
   "metadata": {},
   "outputs": [],
   "source": [
    "import pandas as pd\n",
    "import numpy as np\n",
    "import unidecode"
   ]
  },
  {
   "cell_type": "code",
   "execution_count": 99,
   "metadata": {},
   "outputs": [
    {
     "data": {
      "text/plain": [
       "105155"
      ]
     },
     "execution_count": 99,
     "metadata": {},
     "output_type": "execute_result"
    }
   ],
   "source": [
    "df_hurtos = pd.read_csv(\"./data/hurtos_bogota_2018.csv\")\n",
    "len(df_hurtos)"
   ]
  },
  {
   "cell_type": "code",
   "execution_count": 100,
   "metadata": {},
   "outputs": [
    {
     "data": {
      "text/html": [
       "<div>\n",
       "<style scoped>\n",
       "    .dataframe tbody tr th:only-of-type {\n",
       "        vertical-align: middle;\n",
       "    }\n",
       "\n",
       "    .dataframe tbody tr th {\n",
       "        vertical-align: top;\n",
       "    }\n",
       "\n",
       "    .dataframe thead th {\n",
       "        text-align: right;\n",
       "    }\n",
       "</style>\n",
       "<table border=\"1\" class=\"dataframe\">\n",
       "  <thead>\n",
       "    <tr style=\"text-align: right;\">\n",
       "      <th></th>\n",
       "      <th>Fecha</th>\n",
       "      <th>Departamento</th>\n",
       "      <th>Municipio</th>\n",
       "      <th>Día</th>\n",
       "      <th>Hora</th>\n",
       "      <th>Barrio</th>\n",
       "      <th>Zona</th>\n",
       "      <th>Clase de sitio</th>\n",
       "      <th>Arma empleada</th>\n",
       "      <th>Móvil Agresor</th>\n",
       "      <th>Móvil Victima</th>\n",
       "      <th>Edad</th>\n",
       "      <th>Sexo</th>\n",
       "      <th>Estado civil</th>\n",
       "      <th>País de nacimiento</th>\n",
       "      <th>Clase de empleado</th>\n",
       "      <th>Profesión</th>\n",
       "      <th>Escolaridad</th>\n",
       "      <th>Código DANE</th>\n",
       "      <th>Cantidad</th>\n",
       "    </tr>\n",
       "  </thead>\n",
       "  <tbody>\n",
       "    <tr>\n",
       "      <th>0</th>\n",
       "      <td>1/1/18</td>\n",
       "      <td>CUNDINAMARCA</td>\n",
       "      <td>BOGOTÁ D.C. (CT)</td>\n",
       "      <td>Lunes</td>\n",
       "      <td>0:00:00</td>\n",
       "      <td>BOLIVIA E-10</td>\n",
       "      <td>URBANA</td>\n",
       "      <td>VIAS PUBLICAS</td>\n",
       "      <td>ARMA BLANCA / CORTOPUNZANTE</td>\n",
       "      <td>A PIE</td>\n",
       "      <td>A PIE</td>\n",
       "      <td>18</td>\n",
       "      <td>MASCULINO</td>\n",
       "      <td>SOLTERO</td>\n",
       "      <td>COLOMBIA</td>\n",
       "      <td>EMPLEADO PARTICULAR</td>\n",
       "      <td>-</td>\n",
       "      <td>PRIMARIA</td>\n",
       "      <td>11001000.0</td>\n",
       "      <td>1</td>\n",
       "    </tr>\n",
       "    <tr>\n",
       "      <th>1</th>\n",
       "      <td>1/1/18</td>\n",
       "      <td>CUNDINAMARCA</td>\n",
       "      <td>BOGOTÁ D.C. (CT)</td>\n",
       "      <td>Lunes</td>\n",
       "      <td>0:00:00</td>\n",
       "      <td>CIUDAD SALITRE II E-13</td>\n",
       "      <td>URBANA</td>\n",
       "      <td>VIAS PUBLICAS</td>\n",
       "      <td>CONTUNDENTES</td>\n",
       "      <td>A PIE</td>\n",
       "      <td>A PIE</td>\n",
       "      <td>61</td>\n",
       "      <td>FEMENINO</td>\n",
       "      <td>SOLTERO</td>\n",
       "      <td>COLOMBIA</td>\n",
       "      <td>EMPLEADO PARTICULAR</td>\n",
       "      <td>NO REPORTADA</td>\n",
       "      <td>NO REPORTADO</td>\n",
       "      <td>11001000.0</td>\n",
       "      <td>1</td>\n",
       "    </tr>\n",
       "    <tr>\n",
       "      <th>2</th>\n",
       "      <td>1/1/18</td>\n",
       "      <td>CUNDINAMARCA</td>\n",
       "      <td>BOGOTÁ D.C. (CT)</td>\n",
       "      <td>Lunes</td>\n",
       "      <td>0:00:00</td>\n",
       "      <td>ESTACIÓN CENTRAL E-16</td>\n",
       "      <td>URBANA</td>\n",
       "      <td>CASAS DE HABITACION</td>\n",
       "      <td>ARMA BLANCA / CORTOPUNZANTE</td>\n",
       "      <td>A PIE</td>\n",
       "      <td>A PIE</td>\n",
       "      <td>25</td>\n",
       "      <td>MASCULINO</td>\n",
       "      <td>SOLTERO</td>\n",
       "      <td>COLOMBIA</td>\n",
       "      <td>EMPLEADO PARTICULAR</td>\n",
       "      <td>-</td>\n",
       "      <td>SUPERIOR</td>\n",
       "      <td>11001000.0</td>\n",
       "      <td>1</td>\n",
       "    </tr>\n",
       "    <tr>\n",
       "      <th>3</th>\n",
       "      <td>1/1/18</td>\n",
       "      <td>CUNDINAMARCA</td>\n",
       "      <td>BOGOTÁ D.C. (CT)</td>\n",
       "      <td>Lunes</td>\n",
       "      <td>0:00:00</td>\n",
       "      <td>LA CABRERA E-2</td>\n",
       "      <td>URBANA</td>\n",
       "      <td>VIAS PUBLICAS</td>\n",
       "      <td>SIN EMPLEO DE ARMAS</td>\n",
       "      <td>A PIE</td>\n",
       "      <td>A PIE</td>\n",
       "      <td>38</td>\n",
       "      <td>MASCULINO</td>\n",
       "      <td>SOLTERO</td>\n",
       "      <td>COLOMBIA</td>\n",
       "      <td>EMPLEADO PARTICULAR</td>\n",
       "      <td>-</td>\n",
       "      <td>PRIMARIA</td>\n",
       "      <td>11001000.0</td>\n",
       "      <td>1</td>\n",
       "    </tr>\n",
       "    <tr>\n",
       "      <th>4</th>\n",
       "      <td>1/1/18</td>\n",
       "      <td>CUNDINAMARCA</td>\n",
       "      <td>BOGOTÁ D.C. (CT)</td>\n",
       "      <td>Lunes</td>\n",
       "      <td>0:00:00</td>\n",
       "      <td>LA CHUCUA E-8</td>\n",
       "      <td>URBANA</td>\n",
       "      <td>VIAS PUBLICAS</td>\n",
       "      <td>SIN EMPLEO DE ARMAS</td>\n",
       "      <td>A PIE</td>\n",
       "      <td>A PIE</td>\n",
       "      <td>33</td>\n",
       "      <td>MASCULINO</td>\n",
       "      <td>SOLTERO</td>\n",
       "      <td>COLOMBIA</td>\n",
       "      <td>EMPLEADO PARTICULAR</td>\n",
       "      <td>-</td>\n",
       "      <td>SECUNDARIA</td>\n",
       "      <td>11001000.0</td>\n",
       "      <td>1</td>\n",
       "    </tr>\n",
       "  </tbody>\n",
       "</table>\n",
       "</div>"
      ],
      "text/plain": [
       "    Fecha  Departamento         Municipio    Día     Hora  \\\n",
       "0  1/1/18  CUNDINAMARCA  BOGOTÁ D.C. (CT)  Lunes  0:00:00   \n",
       "1  1/1/18  CUNDINAMARCA  BOGOTÁ D.C. (CT)  Lunes  0:00:00   \n",
       "2  1/1/18  CUNDINAMARCA  BOGOTÁ D.C. (CT)  Lunes  0:00:00   \n",
       "3  1/1/18  CUNDINAMARCA  BOGOTÁ D.C. (CT)  Lunes  0:00:00   \n",
       "4  1/1/18  CUNDINAMARCA  BOGOTÁ D.C. (CT)  Lunes  0:00:00   \n",
       "\n",
       "                   Barrio    Zona       Clase de sitio  \\\n",
       "0            BOLIVIA E-10  URBANA        VIAS PUBLICAS   \n",
       "1  CIUDAD SALITRE II E-13  URBANA        VIAS PUBLICAS   \n",
       "2   ESTACIÓN CENTRAL E-16  URBANA  CASAS DE HABITACION   \n",
       "3          LA CABRERA E-2  URBANA        VIAS PUBLICAS   \n",
       "4           LA CHUCUA E-8  URBANA        VIAS PUBLICAS   \n",
       "\n",
       "                 Arma empleada Móvil Agresor Móvil Victima Edad       Sexo  \\\n",
       "0  ARMA BLANCA / CORTOPUNZANTE         A PIE         A PIE   18  MASCULINO   \n",
       "1                 CONTUNDENTES         A PIE         A PIE   61   FEMENINO   \n",
       "2  ARMA BLANCA / CORTOPUNZANTE         A PIE         A PIE   25  MASCULINO   \n",
       "3          SIN EMPLEO DE ARMAS         A PIE         A PIE   38  MASCULINO   \n",
       "4          SIN EMPLEO DE ARMAS         A PIE         A PIE   33  MASCULINO   \n",
       "\n",
       "  Estado civil País de nacimiento    Clase de empleado     Profesión  \\\n",
       "0      SOLTERO           COLOMBIA  EMPLEADO PARTICULAR             -   \n",
       "1      SOLTERO           COLOMBIA  EMPLEADO PARTICULAR  NO REPORTADA   \n",
       "2      SOLTERO           COLOMBIA  EMPLEADO PARTICULAR             -   \n",
       "3      SOLTERO           COLOMBIA  EMPLEADO PARTICULAR             -   \n",
       "4      SOLTERO           COLOMBIA  EMPLEADO PARTICULAR             -   \n",
       "\n",
       "    Escolaridad  Código DANE  Cantidad  \n",
       "0      PRIMARIA   11001000.0         1  \n",
       "1  NO REPORTADO   11001000.0         1  \n",
       "2      SUPERIOR   11001000.0         1  \n",
       "3      PRIMARIA   11001000.0         1  \n",
       "4    SECUNDARIA   11001000.0         1  "
      ]
     },
     "execution_count": 100,
     "metadata": {},
     "output_type": "execute_result"
    }
   ],
   "source": [
    "df_hurtos.head()"
   ]
  },
  {
   "cell_type": "code",
   "execution_count": 101,
   "metadata": {},
   "outputs": [],
   "source": [
    "df_barrios = pd.read_csv(\"./data/barrios_bogota.csv\")"
   ]
  },
  {
   "cell_type": "code",
   "execution_count": 102,
   "metadata": {},
   "outputs": [
    {
     "data": {
      "text/html": [
       "<div>\n",
       "<style scoped>\n",
       "    .dataframe tbody tr th:only-of-type {\n",
       "        vertical-align: middle;\n",
       "    }\n",
       "\n",
       "    .dataframe tbody tr th {\n",
       "        vertical-align: top;\n",
       "    }\n",
       "\n",
       "    .dataframe thead th {\n",
       "        text-align: right;\n",
       "    }\n",
       "</style>\n",
       "<table border=\"1\" class=\"dataframe\">\n",
       "  <thead>\n",
       "    <tr style=\"text-align: right;\">\n",
       "      <th></th>\n",
       "      <th>OBJECTID</th>\n",
       "      <th>Identificador unico del sector catastral</th>\n",
       "      <th>Tipo de sector catastral</th>\n",
       "      <th>Nombre del sector catastral</th>\n",
       "      <th>coord_x</th>\n",
       "      <th>coord_y</th>\n",
       "    </tr>\n",
       "  </thead>\n",
       "  <tbody>\n",
       "    <tr>\n",
       "      <th>0</th>\n",
       "      <td>1281</td>\n",
       "      <td>205109</td>\n",
       "      <td>2</td>\n",
       "      <td>LA MAGDALENA I</td>\n",
       "      <td>-74,15971638349998</td>\n",
       "      <td>4,6538848121528105</td>\n",
       "    </tr>\n",
       "    <tr>\n",
       "      <th>1</th>\n",
       "      <td>1282</td>\n",
       "      <td>205227</td>\n",
       "      <td>2</td>\n",
       "      <td>OSORIO IX</td>\n",
       "      <td>-74,171430826</td>\n",
       "      <td>4,655330582652857</td>\n",
       "    </tr>\n",
       "    <tr>\n",
       "      <th>2</th>\n",
       "      <td>1284</td>\n",
       "      <td>105203</td>\n",
       "      <td>1</td>\n",
       "      <td>OSORIO II</td>\n",
       "      <td>-74,166000932</td>\n",
       "      <td>4,654956388652853</td>\n",
       "    </tr>\n",
       "    <tr>\n",
       "      <th>3</th>\n",
       "      <td>1285</td>\n",
       "      <td>201109</td>\n",
       "      <td>2</td>\n",
       "      <td>INGEMAR I</td>\n",
       "      <td>-74,05440703649998</td>\n",
       "      <td>4,639504332652364</td>\n",
       "    </tr>\n",
       "    <tr>\n",
       "      <th>4</th>\n",
       "      <td>1286</td>\n",
       "      <td>201110</td>\n",
       "      <td>2</td>\n",
       "      <td>INGEMAR ORIENTAL I</td>\n",
       "      <td>-74,0505909105</td>\n",
       "      <td>4,644192807152489</td>\n",
       "    </tr>\n",
       "  </tbody>\n",
       "</table>\n",
       "</div>"
      ],
      "text/plain": [
       "   OBJECTID  Identificador unico del sector catastral  \\\n",
       "0      1281                                    205109   \n",
       "1      1282                                    205227   \n",
       "2      1284                                    105203   \n",
       "3      1285                                    201109   \n",
       "4      1286                                    201110   \n",
       "\n",
       "   Tipo de sector catastral Nombre del sector catastral             coord_x  \\\n",
       "0                         2              LA MAGDALENA I  -74,15971638349998   \n",
       "1                         2                   OSORIO IX       -74,171430826   \n",
       "2                         1                   OSORIO II       -74,166000932   \n",
       "3                         2                   INGEMAR I  -74,05440703649998   \n",
       "4                         2          INGEMAR ORIENTAL I      -74,0505909105   \n",
       "\n",
       "              coord_y  \n",
       "0  4,6538848121528105  \n",
       "1   4,655330582652857  \n",
       "2   4,654956388652853  \n",
       "3   4,639504332652364  \n",
       "4   4,644192807152489  "
      ]
     },
     "execution_count": 102,
     "metadata": {},
     "output_type": "execute_result"
    }
   ],
   "source": [
    "df_barrios.head()"
   ]
  },
  {
   "cell_type": "markdown",
   "metadata": {},
   "source": [
    "## Limpiar columna \"barrio\""
   ]
  },
  {
   "cell_type": "code",
   "execution_count": 103,
   "metadata": {},
   "outputs": [],
   "source": [
    "UMBRAL = 50"
   ]
  },
  {
   "cell_type": "code",
   "execution_count": 104,
   "metadata": {},
   "outputs": [],
   "source": [
    "df_hurtos[\"Barrio\"] = df_hurtos[\"Barrio\"].apply(lambda x:x.split(\" E-\")[0])\n",
    "df_hurtos[\"Barrio\"] = df_hurtos[\"Barrio\"].apply(lambda x:x.replace(\" II\",\"\").replace(\" I\",\"\"))"
   ]
  },
  {
   "cell_type": "code",
   "execution_count": 105,
   "metadata": {},
   "outputs": [],
   "source": [
    "df_barrios[\"Nombre del sector catastral\"] = df_barrios[\"Nombre del sector catastral\"].apply(lambda x:unidecode.unidecode(x))\n",
    "df_barrios[\"Nombre del sector catastral\"] = df_barrios[\"Nombre del sector catastral\"].apply(lambda x:x.replace(\" II\",\"\").replace(\" I\",\"\"))"
   ]
  },
  {
   "cell_type": "code",
   "execution_count": 106,
   "metadata": {},
   "outputs": [
    {
     "data": {
      "text/plain": [
       "2484"
      ]
     },
     "execution_count": 106,
     "metadata": {},
     "output_type": "execute_result"
    }
   ],
   "source": [
    "np.size(df_hurtos[\"Barrio\"].value_counts().loc[df_hurtos[\"Barrio\"].value_counts()>0])"
   ]
  },
  {
   "cell_type": "code",
   "execution_count": 107,
   "metadata": {},
   "outputs": [],
   "source": [
    "barrios_con_umbral = np.size(df_hurtos[\"Barrio\"].value_counts().loc[df_hurtos[\"Barrio\"].value_counts()>UMBRAL])"
   ]
  },
  {
   "cell_type": "code",
   "execution_count": 108,
   "metadata": {},
   "outputs": [
    {
     "data": {
      "text/plain": [
       "0    CHAPINERO CENTRAL\n",
       "1       CIUDAD SALITRE\n",
       "2          BELLA SUIZA\n",
       "3             RICAURTE\n",
       "4                MARLY\n",
       "dtype: object"
      ]
     },
     "execution_count": 108,
     "metadata": {},
     "output_type": "execute_result"
    }
   ],
   "source": [
    "barrios_hurtos = pd.Series((df_hurtos[\"Barrio\"].value_counts().loc[df_hurtos[\"Barrio\"].value_counts()>UMBRAL]).index)\n",
    "barrios_hurtos.head()"
   ]
  },
  {
   "cell_type": "code",
   "execution_count": 109,
   "metadata": {},
   "outputs": [],
   "source": [
    "barrios_catastro = pd.Series(df_barrios[\"Nombre del sector catastral\"].unique())"
   ]
  },
  {
   "cell_type": "code",
   "execution_count": 110,
   "metadata": {},
   "outputs": [],
   "source": [
    "barrios_coincidencia = np.sum(barrios_hurtos.isin(barrios_catastro))"
   ]
  },
  {
   "cell_type": "code",
   "execution_count": 111,
   "metadata": {},
   "outputs": [
    {
     "name": "stdout",
     "output_type": "stream",
     "text": [
      "Barrios: 490\n",
      "Barrios coincidentes: 291\n",
      "% Coincidencia:\n",
      "0.5938775510204082\n"
     ]
    }
   ],
   "source": [
    "print(\"Barrios: %s\" % barrios_con_umbral)\n",
    "print(\"Barrios coincidentes: %s\" % barrios_coincidencia)\n",
    "print(\"% Coincidencia:\")\n",
    "print(barrios_coincidencia/barrios_con_umbral)"
   ]
  },
  {
   "cell_type": "code",
   "execution_count": 112,
   "metadata": {},
   "outputs": [
    {
     "data": {
      "text/plain": [
       "CIUDAD SALITRE                  1157\n",
       "CHICO                            824\n",
       "LOS CEDRITOS                     551\n",
       "LA VERACRUZ                      540\n",
       "LA PORCIUNCULA                   531\n",
       "ENGATIVA                         450\n",
       "EL RESTREPO                      428\n",
       "LOS HAYUELOS                     408\n",
       "CHAPINERO ALTO                   402\n",
       "FONTIBON CENTRO                  387\n",
       "CARVAJAL                         375\n",
       "TOBERIN ORIENTAL                 358\n",
       "MINUTO DE DIOS                   346\n",
       "EL TUNAL                         313\n",
       "CENTRO                           311\n",
       "VILLA DEL PRADO                  300\n",
       "MAZUREN SECTOR                   298\n",
       "LA URIBE                         290\n",
       "BARRIOS UNIDOS                   286\n",
       "EL PORVENIR                      273\n",
       "PROVIDENCIA                      269\n",
       "CENTRO NORTE USAQUEN             267\n",
       "BOSA CENTRO                      263\n",
       "CANDELARIA                       247\n",
       "QUIROGAHS ETAPA                  238\n",
       "URB. SAN PATRICIO                223\n",
       "SAN BERNARDO                     221\n",
       "MARTIRES                         219\n",
       "CANDELARIA LA NUEVA SECTOR       218\n",
       "CHICO NAVARRA                    214\n",
       "                                ... \n",
       "LAGOS DE SUBA                     64\n",
       "GRANJAS DE SAN PABLO              64\n",
       "EL CAMPIN (ESTADIO)               63\n",
       "ROSALES                           62\n",
       "BOSQUES DE MODELIA                62\n",
       "SAN JOSE                          61\n",
       "VILLAS DEL MADRIGAL               61\n",
       "SANTA RITA                        61\n",
       "SAN JOSÉ SUR                      61\n",
       "ZONANDUSTRIAL MONTEVIDEO          61\n",
       "PINOS DE LOMBARDIA                60\n",
       "URB. NUEVA ZELANDIA               60\n",
       "ENTRE RIOS                        59\n",
       "LOS MOLINOS DEL VIENTO            59\n",
       "GONZALO JIMENEZ                   57\n",
       "CANTALEJO                         57\n",
       "TUNA BAJA                         56\n",
       "CENTRO COMERCIAL TUNAL            56\n",
       "LOS MONJES                        56\n",
       "INDUSTRIAL CENTENARIO SECTOR      55\n",
       "NAVARRA                           55\n",
       "EL ENSUEÑO                        54\n",
       "TIMIZA CELULA A                   54\n",
       "ZONANDUSTRIAL LAS GRANJAS         54\n",
       "LA CHUCUA                         53\n",
       "NUEVA MARSELLA SECTOR             52\n",
       "CLARET EL CARMEN                  52\n",
       "FONTIBÓN UNIDAD RESIDENCIAL       51\n",
       "CAOBOS SALAZAR NORTE              51\n",
       "CEDRO GOLF EL RODEO               51\n",
       "Name: Barrio, Length: 199, dtype: int64"
      ]
     },
     "execution_count": 112,
     "metadata": {},
     "output_type": "execute_result"
    }
   ],
   "source": [
    "df_hurtos.loc[df_hurtos[\"Barrio\"].isin(barrios_hurtos.loc[~barrios_hurtos.isin(barrios_catastro)])][\"Barrio\"].value_counts()"
   ]
  },
  {
   "cell_type": "code",
   "execution_count": 113,
   "metadata": {},
   "outputs": [
    {
     "data": {
      "text/plain": [
       "199"
      ]
     },
     "execution_count": 113,
     "metadata": {},
     "output_type": "execute_result"
    }
   ],
   "source": [
    "np.sum(~barrios_hurtos.isin(barrios_catastro))"
   ]
  }
 ],
 "metadata": {
  "kernelspec": {
   "display_name": "Python 3",
   "language": "python",
   "name": "python3"
  },
  "language_info": {
   "codemirror_mode": {
    "name": "ipython",
    "version": 3
   },
   "file_extension": ".py",
   "mimetype": "text/x-python",
   "name": "python",
   "nbconvert_exporter": "python",
   "pygments_lexer": "ipython3",
   "version": "3.7.1"
  }
 },
 "nbformat": 4,
 "nbformat_minor": 2
}
